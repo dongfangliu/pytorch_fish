{
 "cells": [
  {
   "cell_type": "code",
   "execution_count": 1,
   "metadata": {},
   "outputs": [
    {
     "name": "stdout",
     "output_type": "stream",
     "text": [
      "/home/liuwj/codes/FishEnvPy/rl_test_new\n"
     ]
    }
   ],
   "source": [
    "import os\n",
    "import sys\n",
    "from pathlib import Path\n",
    "os.chdir(Path(os.getcwd()+\"/../\").resolve())\n",
    "print(os.getcwd())"
   ]
  },
  {
   "cell_type": "code",
   "execution_count": 2,
   "metadata": {
    "pycharm": {
     "name": "#%%\n"
    }
   },
   "outputs": [],
   "source": [
    "\n",
    "from gym_fish.envs import FishEnv\n",
    "from gym_fish.envs.py_util import  trajectory_util,flare_util\n",
    "from matplotlib import pyplot as plt\n",
    "from mpl_toolkits import mplot3d"
   ]
  },
  {
   "cell_type": "code",
   "execution_count": null,
   "metadata": {
    "pycharm": {
     "name": "#%%\n"
    }
   },
   "outputs": [],
   "source": [
    "# Fluid\n",
    "# param = fl.simParam()\n",
    "# param.width = 4\n",
    "# param.height = 4\n",
    "# param.depth = 6\n",
    "# param.setup_mode = fl.SETUP_MODE.MANUAL\n",
    "# param.l0p = 4\n",
    "# param.N = 50\n",
    "# param.u0p = 5\n",
    "# param.visp = 1e-3\n",
    "#\n",
    "# fluid_param = flare_util.fluid_param()\n",
    "# fluid_param.from_json(\"/home/liuwj/PycharmProjects/testPylib/pydata/jsons/fluid_param_short.json\")\n",
    "#\n",
    "# path = flare_util.path_data()\n",
    "# path.from_json(\"/home/liuwj/PycharmProjects/testPylib/pydata/jsons/path.json\")\n",
    "#\n",
    "# rigids = flare_util.rigid_data()\n",
    "# rigids.from_json(\"/home/liuwj/PycharmProjects/testPylib/pydata/jsons/rigids.json\")"
   ]
  },
  {
   "cell_type": "code",
   "execution_count": null,
   "metadata": {
    "pycharm": {
     "name": "#%%\n"
    }
   },
   "outputs": [],
   "source": [
    "path_radiusx=1\n",
    "path_radiusz_range = (0.15, 1.0)\n",
    "path_radiusz_step = 0.1\n",
    "path_points = []\n",
    "path_center_pos = [3, 2, 3]"
   ]
  },
  {
   "cell_type": "code",
   "execution_count": null,
   "metadata": {},
   "outputs": [],
   "source": [
    "def plot_3D(path_points=None,trajectory_points=None,title=None,fig_name=None,elev=45,azim=45):\n",
    "    ax=plt.figure().add_subplot(111, projection = '3d')\n",
    "    ax.set_xlim(0.5,3.5)\n",
    "    ax.set_zlim(1,3)\n",
    "    ax.set_ylim(1,4)\n",
    "    if path_points!=None:\n",
    "        ax.scatter3D(xs=[x.data[0] for x in path_points], zs=[x.data[1] for x in path_points], ys=[x.data[2] for x in path_points],c='g')\n",
    "    if trajectory_points!=None:\n",
    "        ax.scatter3D(xs=[x[0] for x in trajectory_points],\n",
    "            zs=[x[1] for x in trajectory_points],\n",
    "            ys=[x[2] for x in trajectory_points],\n",
    "            c=[[0,0,i/len(trajectory_points)] for i in range(len(trajectory_points))])\n",
    "    ax.view_init(elev=elev,azim=azim)#改变绘制图像的视角,即相机的位置,azim沿着z轴旋转，elev沿着y轴\n",
    "    ax.set_xlabel('x')\n",
    "    ax.set_ylabel('z')\n",
    "    ax.set_zlabel('y')\n",
    "    if title!=None:\n",
    "        ax.set_title(title)\n",
    "    if fig_name!=None:\n",
    "        plt.savefig(fig_name)\n",
    "    plt.show()"
   ]
  },
  {
   "cell_type": "code",
   "execution_count": null,
   "metadata": {
    "pycharm": {
     "name": "#%%\n"
    }
   },
   "outputs": [],
   "source": [
    "for  radiusz in np.arange(path_radiusz_range[0], path_radiusz_range[1], path_radiusz_step ):\n",
    "    print(radiusz)\n",
    "    if radiusz!=0:\n",
    "        pp = trajectory_util.trajectoryPoints_circle(path_center_pos, path_radiusx, radiusz, 300,\n",
    "                                                                           angle=300,inverse=False)\n",
    "        \n",
    "#         plot_3D(pp)\n",
    "        path_points.append(pp)\n",
    "        pp=trajectory_util.trajectoryPoints_circle(path_center_pos, path_radiusx, radiusz, 300,\n",
    "                                                                           angle=300,inverse=True)\n",
    "#         plot_3D(pp)\n",
    "        path_points.append(pp)\n",
    "#     else:\n",
    "#         path_points.append(\n",
    "#             trajectory_util.trajectoryPoints_circle(path_center_pos, path_radiusx, radiusz, 100, angle=180,\n",
    "#                                                             inverse=False))"
   ]
  },
  {
   "cell_type": "code",
   "execution_count": null,
   "metadata": {},
   "outputs": [],
   "source": [
    "print(len(path_points))"
   ]
  },
  {
   "cell_type": "code",
   "execution_count": null,
   "metadata": {
    "pycharm": {
     "name": "#%% \n"
    }
   },
   "outputs": [],
   "source": [
    "for i in range(len(path_points)):\n",
    "    path_config = flare_util.path_param()\n",
    "    path_config.path_sample_num=100\n",
    "    path_config.setPoints(trajectory_util.trajectoryPoints_line(np.array([1,2,3]),np.array([3,2,3])))\n",
    "    path_config.to_json(\"/home/liuwj/PycharmProjects/testPylib/py_data/jsons/paths/circle/shifted/path_%02d.json\"%i)\n",
    "\n",
    "\n",
    "\n",
    "\n",
    "\n"
   ]
  },
  {
   "cell_type": "code",
   "execution_count": 3,
   "metadata": {},
   "outputs": [
    {
     "name": "stdout",
     "output_type": "stream",
     "text": [
      "py_data/jsons/paths/sharp_curve.json True\n"
     ]
    }
   ],
   "source": [
    "path_config = flare_util.path_param()\n",
    "path_config.path_sample_num=100\n",
    "path_config.setPoints(trajectory_util.trajectoryPoints_file(\"py_data/jsons/paths/sharp_curve.json\"))\n",
    "path_config.to_json(str(Path(\"py_data/jsons/paths/path_sharp_curve.json\").resolve()))"
   ]
  },
  {
   "cell_type": "code",
   "execution_count": null,
   "metadata": {},
   "outputs": [],
   "source": []
  }
 ],
 "metadata": {
  "kernelspec": {
   "display_name": "Python 3",
   "language": "python",
   "name": "python3"
  },
  "language_info": {
   "codemirror_mode": {
    "name": "ipython",
    "version": 3
   },
   "file_extension": ".py",
   "mimetype": "text/x-python",
   "name": "python",
   "nbconvert_exporter": "python",
   "pygments_lexer": "ipython3",
   "version": "3.7.6"
  },
  "pycharm": {
   "stem_cell": {
    "cell_type": "raw",
    "metadata": {
     "collapsed": false
    },
    "source": []
   }
  }
 },
 "nbformat": 4,
 "nbformat_minor": 1
}
