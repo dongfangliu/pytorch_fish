{
 "cells": [
  {
   "cell_type": "code",
   "execution_count": 1,
   "metadata": {},
   "outputs": [],
   "source": [
    "import matplotlib.pyplot as plt      \n",
    "from mpl_toolkits import mplot3d\n",
    "import os\n",
    "import sys\n",
    "import glob\n",
    "import time\n",
    "import shutil\n",
    "import gym\n",
    "from gym import error, spaces, utils\n",
    "import numpy as np\n",
    "import math\n",
    "from pathlib import Path"
   ]
  },
  {
   "cell_type": "code",
   "execution_count": 2,
   "metadata": {},
   "outputs": [],
   "source": [
    "import gym_fish\n",
    "from gym_fish.envs.lib import pyflare as fl"
   ]
  },
  {
   "cell_type": "code",
   "execution_count": 3,
   "metadata": {},
   "outputs": [
    {
     "name": "stdout",
     "output_type": "stream",
     "text": [
      "/root/pytorch_sac/test\n"
     ]
    }
   ],
   "source": [
    "os.chdir(Path(os.getcwd()+\"/../\").resolve())\n",
    "print(os.getcwd())"
   ]
  },
  {
   "cell_type": "code",
   "execution_count": 4,
   "metadata": {},
   "outputs": [
    {
     "name": "stdout",
     "output_type": "stream",
     "text": [
      "/root/pytorch_sac/test/py_data/jsons/paths/line.json True\n"
     ]
    }
   ],
   "source": [
    "cwd = os.getcwd()+\"/\"\n",
    "data_folder =cwd+ 'py_data/'\n",
    "json_folder =data_folder+'jsons/'\n",
    "path_folder =json_folder+'paths/'\n",
    "scripts_folder = cwd+'scripts/'\n",
    "p_json = str(Path(\"./py_data/jsons/paths/line.json\").resolve())\n",
    "fluid_json = json_folder+'fluid_param_0.5.json'\n",
    "rigid_json = json_folder+'rigids_4_30.json'\n",
    "print(p_json,Path(\"./py_data/jsons/paths/line.json\").exists())\n"
   ]
  },
  {
   "cell_type": "code",
   "execution_count": 5,
   "metadata": {},
   "outputs": [
    {
     "name": "stdout",
     "output_type": "stream",
     "text": [
      "3\n",
      "3\n",
      "[0.97686249 2.00028078 2.99999994] [ 9.99980604e-01 -6.22825676e-03  2.04357705e-06] [2.97686249 2.00028078 2.99999994] [1. 0. 0.]\n"
     ]
    }
   ],
   "source": [
    "env=gym.make('fish-v0', \n",
    "             gpuId=3,couple_mode = fl.COUPLE_MODE.TWO_WAY,\n",
    "                       path_json=p_json,\n",
    "             frame_skip=200,\n",
    "             rigid_json=rigid_json,\n",
    "             fluid_json=fluid_json,\n",
    "             wr=0.1\n",
    "                   )"
   ]
  },
  {
   "cell_type": "code",
   "execution_count": 6,
   "metadata": {},
   "outputs": [
    {
     "name": "stdout",
     "output_type": "stream",
     "text": [
      "1\n",
      "1\n",
      "[0.97686249 2.00028078 2.99999994] [ 9.99980604e-01 -6.22825676e-03  2.04357705e-06] [2.97686249 2.00028078 2.99999994] [1. 0. 0.]\n",
      "2\n",
      "2\n",
      "[0.97686249 2.00028078 2.99999994] [ 9.99980604e-01 -6.22825676e-03  2.04357705e-06] [2.97686249 2.00028078 2.99999994] [1. 0. 0.]\n",
      "0\n",
      "0\n",
      "[0.97686249 2.00028078 2.99999994] [ 9.99980604e-01 -6.22825676e-03  2.04357705e-06] [2.97686249 2.00028078 2.99999994] [1. 0. 0.]\n"
     ]
    }
   ],
   "source": [
    "\n",
    "env1=gym.make('fish-v0', \n",
    "             gpuId=1,\n",
    "                       path_json=p_json)\n",
    "                   \n",
    "env2=gym.make('fish-v0', \n",
    "             gpuId=2,\n",
    "                       path_json=p_json\n",
    "                   )\n",
    "env0=gym.make('fish-v0', \n",
    "             gpuId=0,couple_mode = fl.COUPLE_MODE.TWO_WAY,\n",
    "                       path_json=p_json,\n",
    "             wr=0.1\n",
    "                   )\n"
   ]
  },
  {
   "cell_type": "code",
   "execution_count": 7,
   "metadata": {},
   "outputs": [
    {
     "name": "stdout",
     "output_type": "stream",
     "text": [
      "0.0020000000949949026\n"
     ]
    }
   ],
   "source": [
    "env.stepOnce([0])\n",
    "print(env.rigid_data.rigidWorld.getTimestep())\n",
    "# env_test.save_data( save_fluid=True, save_objects=True,frame_num=0)\n",
    "# check path, check object head and position ,data saving \n",
    "pd_controller = fl.PDControl1D(0.5,0.01,env.rigid_data.rigidWorld.time)\n",
    "\n",
    "# env.plot3d()"
   ]
  },
  {
   "cell_type": "code",
   "execution_count": 8,
   "metadata": {},
   "outputs": [],
   "source": [
    "def getPIDResponse():\n",
    "    skeleton_dynamics = env.rigid_data.skeletons[0].dynamics\n",
    "    pos = skeleton_dynamics.getBaseLink().getPosition()\n",
    "    env.curPose_t = env.path_data.trajectory.getReferencePose(pos)\n",
    "    target_pos = env.path_data.trajectory.getPose(env.curPose_t+0.05).getPosition()\n",
    "    fwd = skeleton_dynamics.getBaseLinkFwd()\n",
    "    fwd = fwd/np.linalg.norm(fwd)\n",
    "    right = skeleton_dynamics.getBaseLinkRight()\n",
    "    right = right/np.linalg.norm(right)\n",
    "    expected_fwd = target_pos - pos\n",
    "    expected_fwd = expected_fwd/np.linalg.norm( expected_fwd)\n",
    "    \n",
    "    angleShift = math.acos(fwd.dot(expected_fwd))\n",
    "    if (expected_fwd - fwd).dot(-right)<=0:\n",
    "        angleShift = -angleShift\n",
    "#     offset = pd_controller.feedback(angleShift, env.rigid_data.rigidWorld.time)\n",
    "    offset = 0\n",
    "#     offset = 3.1415/6\n",
    "    targetAngle = (3.1415/6)*math.sin(6.28*2*env.rigid_data.rigidWorld.time)+offset;\n",
    "#     print((targetAngle-skeleton_dynamics.getJoint(\"spine02\").getPositions()[0])/env.rigid_data.rigidWorld.getTimestep())\n",
    "    return (targetAngle-skeleton_dynamics.getJoint(\"spine02\").getPositions()[0])/env.rigid_data.rigidWorld.getTimestep()/5\n",
    "#     return targetAngle/env.action_space_std"
   ]
  },
  {
   "cell_type": "code",
   "execution_count": null,
   "metadata": {},
   "outputs": [],
   "source": [
    "def plot_infos(infos,title=None,reward_fig_name=None):\n",
    "    dd = {k:[] for k in infos[0].keys()}\n",
    "    for info in infos:\n",
    "        for k in info.keys():\n",
    "            dd[k].append(info[k])\n",
    "    plt.figure()\n",
    "    for k in dd.keys():\n",
    "        if k=='action_penality':\n",
    "            plt.plot(np.arange(0,len(dd[k])),[kkk  for kkk in dd[k]],label=k)\n",
    "        else:\n",
    "            plt.plot(np.arange(0,len(dd[k])),dd[k],label=k)\n",
    "    plt.legend()\n",
    "    if(title):\n",
    "        plt.title(title)\n",
    "    if(reward_fig_name):\n",
    "        plt.savefig(reward_fig_name)\n",
    "    plt.show()"
   ]
  },
  {
   "cell_type": "code",
   "execution_count": null,
   "metadata": {},
   "outputs": [],
   "source": [
    "!./clean_visdata.sh"
   ]
  },
  {
   "cell_type": "code",
   "execution_count": null,
   "metadata": {
    "scrolled": true
   },
   "outputs": [],
   "source": [
    "import random\n",
    "for i in range(1):\n",
    "    env.reset()\n",
    "    start_time = time.time()\n",
    "    done = False\n",
    "    infos = []\n",
    "    skeleton_dynamics = env.rigid_data.skeletons[0].dynamics\n",
    "    skeleton_dynamics.setHead(np.array([1,2,3]),np.array([0,0,-1]))\n",
    "    while not done:\n",
    "        act = getPIDResponse()\n",
    "        obs,_,done,_=env.stepOnce(np.array([act,act,act,act]),save_fluid=True, save_objects=True)\n",
    "#         obs,_,done,_=env.step(np.array([random.random()*2-1,random.random()*2-1,random.random()*2-1,random.random()*2-1]),save_fluid=False, save_objects=True)\n",
    "#         infos.append(info)\n",
    "#     plot_infos(infos)\n",
    "    env.plot3d()\n",
    "    end_time = time.time()\n",
    "    print(end_time-start_time)"
   ]
  },
  {
   "cell_type": "code",
   "execution_count": null,
   "metadata": {},
   "outputs": [],
   "source": [
    "env.rigid_data.rigidWorld.time"
   ]
  },
  {
   "cell_type": "code",
   "execution_count": null,
   "metadata": {},
   "outputs": [],
   "source": []
  }
 ],
 "metadata": {
  "kernelspec": {
   "display_name": "Python 3",
   "language": "python",
   "name": "python3"
  },
  "language_info": {
   "codemirror_mode": {
    "name": "ipython",
    "version": 3
   },
   "file_extension": ".py",
   "mimetype": "text/x-python",
   "name": "python",
   "nbconvert_exporter": "python",
   "pygments_lexer": "ipython3",
   "version": "3.7.6"
  }
 },
 "nbformat": 4,
 "nbformat_minor": 4
}
