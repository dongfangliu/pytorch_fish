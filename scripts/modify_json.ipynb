{
 "cells": [
  {
   "cell_type": "code",
   "execution_count": 1,
   "metadata": {},
   "outputs": [],
   "source": [
    "import json\n",
    "import os\n",
    "from pathlib import *"
   ]
  },
  {
   "cell_type": "code",
   "execution_count": 2,
   "metadata": {},
   "outputs": [
    {
     "name": "stdout",
     "output_type": "stream",
     "text": [
      "/root/pytorch_fish\n"
     ]
    }
   ],
   "source": [
    "os.chdir(Path(os.getcwd()+\"/../\").resolve())\n",
    "print(os.getcwd())"
   ]
  },
  {
   "cell_type": "code",
   "execution_count": 3,
   "metadata": {},
   "outputs": [
    {
     "name": "stdout",
     "output_type": "stream",
     "text": [
      "True\n"
     ]
    }
   ],
   "source": [
    "json_name = \"py_data/jsons/mentaray.json\"\n",
    "print(Path(json_name).resolve().exists())\n",
    "json_name = Path(json_name).resolve()"
   ]
  },
  {
   "cell_type": "code",
   "execution_count": 4,
   "metadata": {},
   "outputs": [],
   "source": [
    "expected_total_mass = 5"
   ]
  },
  {
   "cell_type": "code",
   "execution_count": 5,
   "metadata": {},
   "outputs": [],
   "source": [
    "with open(json_name) as json_file:\n",
    "    l = json.load(json_file)"
   ]
  },
  {
   "cell_type": "code",
   "execution_count": 6,
   "metadata": {},
   "outputs": [
    {
     "name": "stdout",
     "output_type": "stream",
     "text": [
      "origin total mass : 9.81520887520569 0.03 1.24\n"
     ]
    }
   ],
   "source": [
    "origin_total_mass = 0\n",
    "min_mass = 999\n",
    "max_mass = -999\n",
    "for k in l['links'].keys():\n",
    "#     if(l['links'][k][\"isIntermediate\"]==False):\n",
    "        min_mass = min(min_mass,l['links'][k][\"mass\"])\n",
    "        max_mass = max(max_mass,l['links'][k][\"mass\"])\n",
    "        origin_total_mass +=l['links'][k][\"mass\"]\n",
    "print(\"origin total mass :\" ,origin_total_mass,min_mass ,max_mass)"
   ]
  },
  {
   "cell_type": "markdown",
   "metadata": {},
   "source": [
    "# modify joints"
   ]
  },
  {
   "cell_type": "code",
   "execution_count": 7,
   "metadata": {},
   "outputs": [],
   "source": [
    "# excluded_joints = [\"joint1\"]\n",
    "# for k in l['joints'].keys():\n",
    "#     if(l['joints'][k][\"name\"] not in excluded_joints):\n",
    "#         l['joints'][k][\"type\"]=\"revolute\"\n",
    "#         l['joints'][k][\"actuator\"]=\"force\"\n",
    "#         l['joints'][k][\"useLimits\"]=False\n",
    "#         l['joints'][k][\"springStiffness\"]=0.1\n",
    "#         l['joints'][k][\"limit\"][\"effort\"] = 20000\n",
    "#         l['joints'][k][\"limit\"][\"lower\"] = -0.26\n",
    "#         l['joints'][k][\"limit\"][\"upper\"] = 0.26\n",
    "#         l['joints'][k][\"limit\"][\"velocity\"] = 10\n",
    "# #         print(l['joints'][k][\"name\"],l['joints'][k][\"type\"] )"
   ]
  },
  {
   "cell_type": "markdown",
   "metadata": {},
   "source": [
    "# Total mass uniform distribute"
   ]
  },
  {
   "cell_type": "code",
   "execution_count": 8,
   "metadata": {},
   "outputs": [],
   "source": [
    "# link_num = len([k for k in l['links'].keys() ])\n",
    "# for k in l['links'].keys():\n",
    "#         l['links'][k][\"mass\"] = expected_total_mass/link_num"
   ]
  },
  {
   "cell_type": "markdown",
   "metadata": {},
   "source": [
    "# Total mass pre distribution"
   ]
  },
  {
   "cell_type": "code",
   "execution_count": 9,
   "metadata": {},
   "outputs": [],
   "source": [
    "link_num = len([k for k in l['links'].keys() if l['links'][k][\"isIntermediate\"]==False])\n",
    "for k in l['links'].keys():\n",
    "#     if(l['links'][k][\"isIntermediate\"]==False):\n",
    "    l['links'][k][\"mass\"] = expected_total_mass*l['links'][k][\"mass\"]/origin_total_mass\n",
    "#         l['links'][k][\"size\"][1] = l['links'][k][\"size\"][0]\n",
    "#         l['links'][k][\"size\"][2] = l['links'][k][\"size\"][0]"
   ]
  },
  {
   "cell_type": "markdown",
   "metadata": {},
   "source": [
    "# Output"
   ]
  },
  {
   "cell_type": "code",
   "execution_count": 10,
   "metadata": {},
   "outputs": [
    {
     "name": "stdout",
     "output_type": "stream",
     "text": [
      "final total mass :  4.999999999999997 0.015282405286240693 0.631672751831282\n"
     ]
    }
   ],
   "source": [
    "mass = 0\n",
    "min_mass = 999\n",
    "max_mass = -999\n",
    "for k in l['links'].keys():\n",
    "#     if(l['links'][k][\"isIntermediate\"]==False):\n",
    "        min_mass = min(min_mass,l['links'][k][\"mass\"])\n",
    "        max_mass = max(max_mass,l['links'][k][\"mass\"])\n",
    "        mass +=l['links'][k][\"mass\"]\n",
    "print(\"final total mass : \",mass ,min_mass ,max_mass)"
   ]
  },
  {
   "cell_type": "code",
   "execution_count": 11,
   "metadata": {},
   "outputs": [],
   "source": [
    "with open(json_name, 'w') as outfile:\n",
    "    json.dump(l, outfile, indent=4)"
   ]
  },
  {
   "cell_type": "code",
   "execution_count": null,
   "metadata": {},
   "outputs": [],
   "source": []
  }
 ],
 "metadata": {
  "kernelspec": {
   "display_name": "Python 3",
   "language": "python",
   "name": "python3"
  },
  "language_info": {
   "codemirror_mode": {
    "name": "ipython",
    "version": 3
   },
   "file_extension": ".py",
   "mimetype": "text/x-python",
   "name": "python",
   "nbconvert_exporter": "python",
   "pygments_lexer": "ipython3",
   "version": "3.7.6"
  }
 },
 "nbformat": 4,
 "nbformat_minor": 4
}
