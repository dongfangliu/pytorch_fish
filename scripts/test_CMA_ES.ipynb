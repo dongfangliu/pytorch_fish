{
 "cells": [
  {
   "cell_type": "code",
   "execution_count": 1,
   "metadata": {},
   "outputs": [],
   "source": [
    "import matplotlib.pyplot as plt      \n",
    "from mpl_toolkits import mplot3d\n",
    "import os\n",
    "import sys\n",
    "import glob\n",
    "import time\n",
    "import shutil\n",
    "import gym\n",
    "from gym import error, spaces, utils\n",
    "import numpy as np\n",
    "import math\n",
    "from pathlib import Path"
   ]
  },
  {
   "cell_type": "code",
   "execution_count": 2,
   "metadata": {},
   "outputs": [],
   "source": [
    "import gym_fish\n",
    "from gym_fish.envs.lib import pyflare as fl"
   ]
  },
  {
   "cell_type": "code",
   "execution_count": 3,
   "metadata": {},
   "outputs": [
    {
     "name": "stdout",
     "output_type": "stream",
     "text": [
      "/home/liuwj/codes/FishEnvPy/rl_test_new\n"
     ]
    }
   ],
   "source": [
    "os.chdir(Path(os.getcwd()+\"/../\").resolve())\n",
    "print(os.getcwd())"
   ]
  },
  {
   "cell_type": "code",
   "execution_count": 4,
   "metadata": {},
   "outputs": [
    {
     "name": "stdout",
     "output_type": "stream",
     "text": [
      "/home/liuwj/codes/FishEnvPy/rl_test_new/py_data/jsons/paths/line.json True\n"
     ]
    }
   ],
   "source": [
    "p_json = str(Path(\"./py_data/jsons/paths/line.json\").resolve())\n",
    "print(p_json,Path(\"./py_data/jsons/paths/line.json\").exists())"
   ]
  },
  {
   "cell_type": "code",
   "execution_count": 5,
   "metadata": {},
   "outputs": [
    {
     "name": "stdout",
     "output_type": "stream",
     "text": [
      "[ 1.18213071e-01  2.80715732e-04 -2.59946415e-08] [ 9.99980604e-01 -6.22825676e-03  2.04357705e-06]\n"
     ]
    }
   ],
   "source": [
    "env=gym.make('fish-v0', \n",
    "                       path_json=p_json,\n",
    "                       init_budget=100000,\n",
    "                       budget_resume=0.3\n",
    "                   )"
   ]
  },
  {
   "cell_type": "code",
   "execution_count": 6,
   "metadata": {},
   "outputs": [],
   "source": [
    "def periodMotion(mag,phase,period,time,offset=0):\n",
    "    return mag*math.sin(2*math.pi*time/period+phase)+offset"
   ]
  },
  {
   "cell_type": "code",
   "execution_count": 7,
   "metadata": {},
   "outputs": [],
   "source": [
    "import optuna"
   ]
  },
  {
   "cell_type": "code",
   "execution_count": 8,
   "metadata": {},
   "outputs": [],
   "source": [
    "\n",
    "def objective(trial: optuna.Trial):\n",
    "    # extract magnitude , phase and period\n",
    "    mag = trial.suggest_uniform('mag', 0.0, math.pi/180*30)\n",
    "    phase = trial.suggest_uniform('phase', 0.0, math.pi*2.0)\n",
    "    period = trial.suggest_uniform('period', 0.1, 1.0)\n",
    "    done = False\n",
    "    reward = 0\n",
    "    obs = env.reset()\n",
    "    while not done:\n",
    "        time = env.rigid_data.rigidWorld.time\n",
    "        obs, r, done,info=env.step(periodMotion(mag,phase,period,time)/env.action_space_std)\n",
    "        reward+=r\n",
    "    return -reward"
   ]
  },
  {
   "cell_type": "code",
   "execution_count": 9,
   "metadata": {},
   "outputs": [
    {
     "name": "stderr",
     "output_type": "stream",
     "text": [
      "\u001b[32m[I 2020-11-09 16:58:10,626]\u001b[0m A new study created in memory with name: no-name-2f042308-5e7b-4a53-8a55-20165a7a9cf6\u001b[0m\n"
     ]
    },
    {
     "name": "stdout",
     "output_type": "stream",
     "text": [
      "[ 1.18213071e-01  2.80715732e-04 -2.59946415e-08] [ 9.99980604e-01 -6.22825676e-03  2.04357705e-06]\n"
     ]
    },
    {
     "name": "stderr",
     "output_type": "stream",
     "text": [
      "\u001b[32m[I 2020-11-09 17:00:06,960]\u001b[0m Trial 0 finished with value: -4996.440781845941 and parameters: {'mag': 0.0581293912619488, 'phase': 3.8196401711465273, 'period': 0.5108289992935041}. Best is trial 0 with value: -4996.440781845941.\u001b[0m\n"
     ]
    },
    {
     "name": "stdout",
     "output_type": "stream",
     "text": [
      "[ 1.18213071e-01  2.80715732e-04 -2.59946415e-08] [ 9.99980604e-01 -6.22825676e-03  2.04357705e-06]\n"
     ]
    },
    {
     "name": "stderr",
     "output_type": "stream",
     "text": [
      "\u001b[32m[I 2020-11-09 17:02:03,667]\u001b[0m Trial 1 finished with value: -5022.938607984518 and parameters: {'mag': 0.1805827187717695, 'phase': 3.10330880698531, 'period': 0.4678062618381924}. Best is trial 1 with value: -5022.938607984518.\u001b[0m\n"
     ]
    },
    {
     "name": "stdout",
     "output_type": "stream",
     "text": [
      "[ 1.18213071e-01  2.80715732e-04 -2.59946415e-08] [ 9.99980604e-01 -6.22825676e-03  2.04357705e-06]\n"
     ]
    },
    {
     "name": "stderr",
     "output_type": "stream",
     "text": [
      "\u001b[32m[I 2020-11-09 17:04:00,765]\u001b[0m Trial 2 finished with value: -5018.448906982235 and parameters: {'mag': 0.25241879188372035, 'phase': 3.0676316332658464, 'period': 0.6632792294398318}. Best is trial 1 with value: -5022.938607984518.\u001b[0m\n"
     ]
    },
    {
     "name": "stdout",
     "output_type": "stream",
     "text": [
      "[ 1.18213071e-01  2.80715732e-04 -2.59946415e-08] [ 9.99980604e-01 -6.22825676e-03  2.04357705e-06]\n"
     ]
    },
    {
     "name": "stderr",
     "output_type": "stream",
     "text": [
      "\u001b[32m[I 2020-11-09 17:05:58,757]\u001b[0m Trial 3 finished with value: -5063.98139288047 and parameters: {'mag': 0.2862609295686749, 'phase': 3.102403891463796, 'period': 0.4746041804834229}. Best is trial 3 with value: -5063.98139288047.\u001b[0m\n"
     ]
    },
    {
     "name": "stdout",
     "output_type": "stream",
     "text": [
      "[ 1.18213071e-01  2.80715732e-04 -2.59946415e-08] [ 9.99980604e-01 -6.22825676e-03  2.04357705e-06]\n"
     ]
    },
    {
     "name": "stderr",
     "output_type": "stream",
     "text": [
      "\u001b[32m[I 2020-11-09 17:07:56,990]\u001b[0m Trial 4 finished with value: -5111.284863228154 and parameters: {'mag': 0.37991426804804773, 'phase': 3.275212412812296, 'period': 0.5344742982448611}. Best is trial 4 with value: -5111.284863228154.\u001b[0m\n"
     ]
    },
    {
     "name": "stdout",
     "output_type": "stream",
     "text": [
      "[ 1.18213071e-01  2.80715732e-04 -2.59946415e-08] [ 9.99980604e-01 -6.22825676e-03  2.04357705e-06]\n"
     ]
    },
    {
     "name": "stderr",
     "output_type": "stream",
     "text": [
      "\u001b[32m[I 2020-11-09 17:09:55,412]\u001b[0m Trial 5 finished with value: -5032.206673358637 and parameters: {'mag': 0.29272690431887943, 'phase': 3.1801616911069064, 'period': 0.6505825773873282}. Best is trial 4 with value: -5111.284863228154.\u001b[0m\n"
     ]
    },
    {
     "name": "stdout",
     "output_type": "stream",
     "text": [
      "[ 1.18213071e-01  2.80715732e-04 -2.59946415e-08] [ 9.99980604e-01 -6.22825676e-03  2.04357705e-06]\n"
     ]
    },
    {
     "name": "stderr",
     "output_type": "stream",
     "text": [
      "\u001b[32m[I 2020-11-09 17:11:52,998]\u001b[0m Trial 6 finished with value: -5018.92035865051 and parameters: {'mag': 0.2163273047067843, 'phase': 2.993317534759536, 'period': 0.5167827640254082}. Best is trial 4 with value: -5111.284863228154.\u001b[0m\n"
     ]
    },
    {
     "name": "stdout",
     "output_type": "stream",
     "text": [
      "[ 1.18213071e-01  2.80715732e-04 -2.59946415e-08] [ 9.99980604e-01 -6.22825676e-03  2.04357705e-06]\n"
     ]
    },
    {
     "name": "stderr",
     "output_type": "stream",
     "text": [
      "\u001b[32m[I 2020-11-09 17:13:51,414]\u001b[0m Trial 7 finished with value: -5053.203324662269 and parameters: {'mag': 0.29170968472476644, 'phase': 3.16670976891259, 'period': 0.5031045624408701}. Best is trial 4 with value: -5111.284863228154.\u001b[0m\n"
     ]
    },
    {
     "name": "stdout",
     "output_type": "stream",
     "text": [
      "[ 1.18213071e-01  2.80715732e-04 -2.59946415e-08] [ 9.99980604e-01 -6.22825676e-03  2.04357705e-06]\n"
     ]
    },
    {
     "name": "stderr",
     "output_type": "stream",
     "text": [
      "\u001b[32m[I 2020-11-09 17:15:49,011]\u001b[0m Trial 8 finished with value: -5098.500444302832 and parameters: {'mag': 0.370155600645413, 'phase': 3.0753070848128656, 'period': 0.5868346221732783}. Best is trial 4 with value: -5111.284863228154.\u001b[0m\n"
     ]
    },
    {
     "name": "stdout",
     "output_type": "stream",
     "text": [
      "[ 1.18213071e-01  2.80715732e-04 -2.59946415e-08] [ 9.99980604e-01 -6.22825676e-03  2.04357705e-06]\n"
     ]
    },
    {
     "name": "stderr",
     "output_type": "stream",
     "text": [
      "\u001b[32m[I 2020-11-09 17:17:47,308]\u001b[0m Trial 9 finished with value: -5200.282899067405 and parameters: {'mag': 0.42251627783543794, 'phase': 3.1352423197157733, 'period': 0.5048270630542993}. Best is trial 9 with value: -5200.282899067405.\u001b[0m\n"
     ]
    },
    {
     "name": "stdout",
     "output_type": "stream",
     "text": [
      "[ 1.18213071e-01  2.80715732e-04 -2.59946415e-08] [ 9.99980604e-01 -6.22825676e-03  2.04357705e-06]\n"
     ]
    },
    {
     "name": "stderr",
     "output_type": "stream",
     "text": [
      "\u001b[32m[I 2020-11-09 17:19:44,886]\u001b[0m Trial 10 finished with value: -5091.491914306661 and parameters: {'mag': 0.34962592230851197, 'phase': 3.1281931682920265, 'period': 0.5052851775025738}. Best is trial 9 with value: -5200.282899067405.\u001b[0m\n"
     ]
    },
    {
     "name": "stdout",
     "output_type": "stream",
     "text": [
      "[ 1.18213071e-01  2.80715732e-04 -2.59946415e-08] [ 9.99980604e-01 -6.22825676e-03  2.04357705e-06]\n"
     ]
    },
    {
     "name": "stderr",
     "output_type": "stream",
     "text": [
      "\u001b[32m[I 2020-11-09 17:21:43,186]\u001b[0m Trial 11 finished with value: -5231.723903177657 and parameters: {'mag': 0.44485677878716195, 'phase': 3.1728516820770065, 'period': 0.5109689623763063}. Best is trial 11 with value: -5231.723903177657.\u001b[0m\n"
     ]
    },
    {
     "name": "stdout",
     "output_type": "stream",
     "text": [
      "[ 1.18213071e-01  2.80715732e-04 -2.59946415e-08] [ 9.99980604e-01 -6.22825676e-03  2.04357705e-06]\n"
     ]
    },
    {
     "name": "stderr",
     "output_type": "stream",
     "text": [
      "\u001b[32m[I 2020-11-09 17:23:40,841]\u001b[0m Trial 12 finished with value: -5289.493378615699 and parameters: {'mag': 0.4574131116502555, 'phase': 3.11498529631907, 'period': 0.47121384047511333}. Best is trial 12 with value: -5289.493378615699.\u001b[0m\n"
     ]
    },
    {
     "name": "stdout",
     "output_type": "stream",
     "text": [
      "[ 1.18213071e-01  2.80715732e-04 -2.59946415e-08] [ 9.99980604e-01 -6.22825676e-03  2.04357705e-06]\n"
     ]
    },
    {
     "name": "stderr",
     "output_type": "stream",
     "text": [
      "\u001b[32m[I 2020-11-09 17:25:39,136]\u001b[0m Trial 13 finished with value: -5027.706403647753 and parameters: {'mag': 0.26968586311368914, 'phase': 3.305487874169362, 'period': 0.5807968835483759}. Best is trial 12 with value: -5289.493378615699.\u001b[0m\n"
     ]
    },
    {
     "name": "stdout",
     "output_type": "stream",
     "text": [
      "[ 1.18213071e-01  2.80715732e-04 -2.59946415e-08] [ 9.99980604e-01 -6.22825676e-03  2.04357705e-06]\n"
     ]
    },
    {
     "name": "stderr",
     "output_type": "stream",
     "text": [
      "\u001b[32m[I 2020-11-09 17:27:36,646]\u001b[0m Trial 14 finished with value: -5109.272499856927 and parameters: {'mag': 0.3436824423801755, 'phase': 3.1837786959985994, 'period': 0.4322690059440327}. Best is trial 12 with value: -5289.493378615699.\u001b[0m\n"
     ]
    },
    {
     "name": "stdout",
     "output_type": "stream",
     "text": [
      "[ 1.18213071e-01  2.80715732e-04 -2.59946415e-08] [ 9.99980604e-01 -6.22825676e-03  2.04357705e-06]\n"
     ]
    },
    {
     "name": "stderr",
     "output_type": "stream",
     "text": [
      "\u001b[32m[I 2020-11-09 17:29:34,976]\u001b[0m Trial 15 finished with value: -5414.266763994954 and parameters: {'mag': 0.5008033812667031, 'phase': 3.0689994401882825, 'period': 0.4458330999372832}. Best is trial 15 with value: -5414.266763994954.\u001b[0m\n"
     ]
    },
    {
     "name": "stdout",
     "output_type": "stream",
     "text": [
      "[ 1.18213071e-01  2.80715732e-04 -2.59946415e-08] [ 9.99980604e-01 -6.22825676e-03  2.04357705e-06]\n"
     ]
    },
    {
     "name": "stderr",
     "output_type": "stream",
     "text": [
      "\u001b[32m[I 2020-11-09 17:31:32,572]\u001b[0m Trial 16 finished with value: -5283.742195648441 and parameters: {'mag': 0.4711068479638119, 'phase': 3.112759494013525, 'period': 0.5084777274798447}. Best is trial 15 with value: -5414.266763994954.\u001b[0m\n"
     ]
    },
    {
     "name": "stdout",
     "output_type": "stream",
     "text": [
      "[ 1.18213071e-01  2.80715732e-04 -2.59946415e-08] [ 9.99980604e-01 -6.22825676e-03  2.04357705e-06]\n"
     ]
    },
    {
     "name": "stderr",
     "output_type": "stream",
     "text": [
      "\u001b[32m[I 2020-11-09 17:33:30,809]\u001b[0m Trial 17 finished with value: -5037.404813813752 and parameters: {'mag': 0.21965475401561202, 'phase': 3.0948633932556757, 'period': 0.43692986279991775}. Best is trial 15 with value: -5414.266763994954.\u001b[0m\n"
     ]
    },
    {
     "name": "stdout",
     "output_type": "stream",
     "text": [
      "[ 1.18213071e-01  2.80715732e-04 -2.59946415e-08] [ 9.99980604e-01 -6.22825676e-03  2.04357705e-06]\n"
     ]
    },
    {
     "name": "stderr",
     "output_type": "stream",
     "text": [
      "\u001b[32m[I 2020-11-09 17:35:28,342]\u001b[0m Trial 18 finished with value: -5183.107189076727 and parameters: {'mag': 0.4019355089661218, 'phase': 3.013665985979114, 'period': 0.4810150644270348}. Best is trial 15 with value: -5414.266763994954.\u001b[0m\n"
     ]
    },
    {
     "name": "stdout",
     "output_type": "stream",
     "text": [
      "[ 1.18213071e-01  2.80715732e-04 -2.59946415e-08] [ 9.99980604e-01 -6.22825676e-03  2.04357705e-06]\n"
     ]
    },
    {
     "name": "stderr",
     "output_type": "stream",
     "text": [
      "\u001b[32m[I 2020-11-09 17:37:26,616]\u001b[0m Trial 19 finished with value: -5070.021080577479 and parameters: {'mag': 0.3691767648983427, 'phase': 3.324489916510549, 'period': 0.6052022050640382}. Best is trial 15 with value: -5414.266763994954.\u001b[0m\n"
     ]
    },
    {
     "name": "stdout",
     "output_type": "stream",
     "text": [
      "[ 1.18213071e-01  2.80715732e-04 -2.59946415e-08] [ 9.99980604e-01 -6.22825676e-03  2.04357705e-06]\n"
     ]
    },
    {
     "name": "stderr",
     "output_type": "stream",
     "text": [
      "\u001b[32m[I 2020-11-09 17:39:24,273]\u001b[0m Trial 20 finished with value: -5036.697942134024 and parameters: {'mag': 0.2737175708852466, 'phase': 3.2627214522511983, 'period': 0.5192376671439639}. Best is trial 15 with value: -5414.266763994954.\u001b[0m\n"
     ]
    },
    {
     "name": "stdout",
     "output_type": "stream",
     "text": [
      "[ 1.18213071e-01  2.80715732e-04 -2.59946415e-08] [ 9.99980604e-01 -6.22825676e-03  2.04357705e-06]\n"
     ]
    },
    {
     "name": "stderr",
     "output_type": "stream",
     "text": [
      "\u001b[32m[I 2020-11-09 17:41:22,631]\u001b[0m Trial 21 finished with value: -5303.024301949247 and parameters: {'mag': 0.4356440168959686, 'phase': 3.0727947664820405, 'period': 0.42773066108297264}. Best is trial 15 with value: -5414.266763994954.\u001b[0m\n"
     ]
    },
    {
     "name": "stdout",
     "output_type": "stream",
     "text": [
      "[ 1.18213071e-01  2.80715732e-04 -2.59946415e-08] [ 9.99980604e-01 -6.22825676e-03  2.04357705e-06]\n"
     ]
    },
    {
     "name": "stderr",
     "output_type": "stream",
     "text": [
      "\u001b[32m[I 2020-11-09 17:43:20,135]\u001b[0m Trial 22 finished with value: -5093.802972875621 and parameters: {'mag': 0.23671661967748564, 'phase': 3.005598413489239, 'period': 0.3216232929774635}. Best is trial 15 with value: -5414.266763994954.\u001b[0m\n"
     ]
    },
    {
     "name": "stdout",
     "output_type": "stream",
     "text": [
      "[ 1.18213071e-01  2.80715732e-04 -2.59946415e-08] [ 9.99980604e-01 -6.22825676e-03  2.04357705e-06]\n"
     ]
    },
    {
     "name": "stderr",
     "output_type": "stream",
     "text": [
      "\u001b[32m[I 2020-11-09 17:45:18,202]\u001b[0m Trial 23 finished with value: -5361.976057631318 and parameters: {'mag': 0.4377957384824712, 'phase': 3.030772524786651, 'period': 0.37318599213567466}. Best is trial 15 with value: -5414.266763994954.\u001b[0m\n"
     ]
    },
    {
     "name": "stdout",
     "output_type": "stream",
     "text": [
      "[ 1.18213071e-01  2.80715732e-04 -2.59946415e-08] [ 9.99980604e-01 -6.22825676e-03  2.04357705e-06]\n"
     ]
    },
    {
     "name": "stderr",
     "output_type": "stream",
     "text": [
      "\u001b[32m[I 2020-11-09 17:47:15,245]\u001b[0m Trial 24 finished with value: -5037.951856574741 and parameters: {'mag': 0.3107896371820471, 'phase': 3.074265063718909, 'period': 0.5815151949187723}. Best is trial 15 with value: -5414.266763994954.\u001b[0m\n"
     ]
    },
    {
     "name": "stdout",
     "output_type": "stream",
     "text": [
      "[ 1.18213071e-01  2.80715732e-04 -2.59946415e-08] [ 9.99980604e-01 -6.22825676e-03  2.04357705e-06]\n"
     ]
    },
    {
     "name": "stderr",
     "output_type": "stream",
     "text": [
      "\u001b[32m[I 2020-11-09 17:49:13,067]\u001b[0m Trial 25 finished with value: -5349.586318690712 and parameters: {'mag': 0.48723737348215906, 'phase': 3.124525557926178, 'period': 0.46387014251873165}. Best is trial 15 with value: -5414.266763994954.\u001b[0m\n"
     ]
    },
    {
     "name": "stdout",
     "output_type": "stream",
     "text": [
      "[ 1.18213071e-01  2.80715732e-04 -2.59946415e-08] [ 9.99980604e-01 -6.22825676e-03  2.04357705e-06]\n"
     ]
    },
    {
     "name": "stderr",
     "output_type": "stream",
     "text": [
      "\u001b[32m[I 2020-11-09 17:51:10,219]\u001b[0m Trial 26 finished with value: -5315.9983836985875 and parameters: {'mag': 0.482507126161504, 'phase': 3.0487354892863565, 'period': 0.4995059990246353}. Best is trial 15 with value: -5414.266763994954.\u001b[0m\n"
     ]
    },
    {
     "name": "stdout",
     "output_type": "stream",
     "text": [
      "[ 1.18213071e-01  2.80715732e-04 -2.59946415e-08] [ 9.99980604e-01 -6.22825676e-03  2.04357705e-06]\n"
     ]
    },
    {
     "name": "stderr",
     "output_type": "stream",
     "text": [
      "\u001b[32m[I 2020-11-09 17:53:08,241]\u001b[0m Trial 27 finished with value: -5477.261102791306 and parameters: {'mag': 0.5024547027449464, 'phase': 3.049298808716526, 'period': 0.39709351263642023}. Best is trial 27 with value: -5477.261102791306.\u001b[0m\n"
     ]
    },
    {
     "name": "stdout",
     "output_type": "stream",
     "text": [
      "[ 1.18213071e-01  2.80715732e-04 -2.59946415e-08] [ 9.99980604e-01 -6.22825676e-03  2.04357705e-06]\n"
     ]
    },
    {
     "name": "stderr",
     "output_type": "stream",
     "text": [
      "\u001b[32m[I 2020-11-09 17:55:05,283]\u001b[0m Trial 28 finished with value: -5097.562641990564 and parameters: {'mag': 0.3069211732517094, 'phase': 3.1463608948282773, 'period': 0.3867735619840632}. Best is trial 27 with value: -5477.261102791306.\u001b[0m\n"
     ]
    },
    {
     "name": "stdout",
     "output_type": "stream",
     "text": [
      "[ 1.18213071e-01  2.80715732e-04 -2.59946415e-08] [ 9.99980604e-01 -6.22825676e-03  2.04357705e-06]\n"
     ]
    },
    {
     "name": "stderr",
     "output_type": "stream",
     "text": [
      "\u001b[32m[I 2020-11-09 17:57:02,941]\u001b[0m Trial 29 finished with value: -5094.918139033324 and parameters: {'mag': 0.3066053982051302, 'phase': 3.1015368272512367, 'period': 0.4093512108797219}. Best is trial 27 with value: -5477.261102791306.\u001b[0m\n"
     ]
    },
    {
     "name": "stdout",
     "output_type": "stream",
     "text": [
      "[ 1.18213071e-01  2.80715732e-04 -2.59946415e-08] [ 9.99980604e-01 -6.22825676e-03  2.04357705e-06]\n"
     ]
    },
    {
     "name": "stderr",
     "output_type": "stream",
     "text": [
      "\u001b[32m[I 2020-11-09 17:58:59,926]\u001b[0m Trial 30 finished with value: -5010.868492131196 and parameters: {'mag': 0.15452390009585282, 'phase': 3.009763957862032, 'period': 0.49951228967192207}. Best is trial 27 with value: -5477.261102791306.\u001b[0m\n"
     ]
    },
    {
     "name": "stdout",
     "output_type": "stream",
     "text": [
      "[ 1.18213071e-01  2.80715732e-04 -2.59946415e-08] [ 9.99980604e-01 -6.22825676e-03  2.04357705e-06]\n"
     ]
    },
    {
     "name": "stderr",
     "output_type": "stream",
     "text": [
      "\u001b[32m[I 2020-11-09 18:00:57,665]\u001b[0m Trial 31 finished with value: -5256.660345608466 and parameters: {'mag': 0.39976566481001513, 'phase': 3.1063275825867507, 'period': 0.3877999311557592}. Best is trial 27 with value: -5477.261102791306.\u001b[0m\n"
     ]
    },
    {
     "name": "stdout",
     "output_type": "stream",
     "text": [
      "[ 1.18213071e-01  2.80715732e-04 -2.59946415e-08] [ 9.99980604e-01 -6.22825676e-03  2.04357705e-06]\n"
     ]
    },
    {
     "name": "stderr",
     "output_type": "stream",
     "text": [
      "\u001b[32m[I 2020-11-09 18:02:54,714]\u001b[0m Trial 32 finished with value: -5314.751748155005 and parameters: {'mag': 0.3859964998031864, 'phase': 3.033578258170243, 'period': 0.32079821868273395}. Best is trial 27 with value: -5477.261102791306.\u001b[0m\n"
     ]
    },
    {
     "name": "stdout",
     "output_type": "stream",
     "text": [
      "[ 1.18213071e-01  2.80715732e-04 -2.59946415e-08] [ 9.99980604e-01 -6.22825676e-03  2.04357705e-06]\n"
     ]
    },
    {
     "name": "stderr",
     "output_type": "stream",
     "text": [
      "\u001b[32m[I 2020-11-09 18:04:52,760]\u001b[0m Trial 33 finished with value: -5279.789189205467 and parameters: {'mag': 0.4529411981557969, 'phase': 3.080186751871699, 'period': 0.4860143418781446}. Best is trial 27 with value: -5477.261102791306.\u001b[0m\n"
     ]
    },
    {
     "name": "stdout",
     "output_type": "stream",
     "text": [
      "[ 1.18213071e-01  2.80715732e-04 -2.59946415e-08] [ 9.99980604e-01 -6.22825676e-03  2.04357705e-06]\n"
     ]
    },
    {
     "name": "stderr",
     "output_type": "stream",
     "text": [
      "\u001b[32m[I 2020-11-09 18:06:49,851]\u001b[0m Trial 34 finished with value: -5436.613017626883 and parameters: {'mag': 0.5123182319746808, 'phase': 3.1535577891483677, 'period': 0.4374108756574469}. Best is trial 27 with value: -5477.261102791306.\u001b[0m\n"
     ]
    },
    {
     "name": "stdout",
     "output_type": "stream",
     "text": [
      "[ 1.18213071e-01  2.80715732e-04 -2.59946415e-08] [ 9.99980604e-01 -6.22825676e-03  2.04357705e-06]\n"
     ]
    },
    {
     "name": "stderr",
     "output_type": "stream",
     "text": [
      "\u001b[32m[I 2020-11-09 18:08:47,831]\u001b[0m Trial 35 finished with value: -5495.358212679521 and parameters: {'mag': 0.4428579200022005, 'phase': 3.2007361130506125, 'period': 0.2593986846778628}. Best is trial 35 with value: -5495.358212679521.\u001b[0m\n"
     ]
    },
    {
     "name": "stdout",
     "output_type": "stream",
     "text": [
      "[ 1.18213071e-01  2.80715732e-04 -2.59946415e-08] [ 9.99980604e-01 -6.22825676e-03  2.04357705e-06]\n"
     ]
    },
    {
     "name": "stderr",
     "output_type": "stream",
     "text": [
      "\u001b[32m[I 2020-11-09 18:10:44,918]\u001b[0m Trial 36 finished with value: -5488.544120499773 and parameters: {'mag': 0.4776794034184158, 'phase': 3.2871348925286665, 'period': 0.19440934127643572}. Best is trial 35 with value: -5495.358212679521.\u001b[0m\n"
     ]
    },
    {
     "name": "stdout",
     "output_type": "stream",
     "text": [
      "[ 1.18213071e-01  2.80715732e-04 -2.59946415e-08] [ 9.99980604e-01 -6.22825676e-03  2.04357705e-06]\n"
     ]
    },
    {
     "name": "stderr",
     "output_type": "stream",
     "text": [
      "\u001b[32m[I 2020-11-09 18:12:42,651]\u001b[0m Trial 37 finished with value: -5325.108470139994 and parameters: {'mag': 0.4464732377513614, 'phase': 3.270750153486921, 'period': 0.4061594339553302}. Best is trial 35 with value: -5495.358212679521.\u001b[0m\n"
     ]
    },
    {
     "name": "stdout",
     "output_type": "stream",
     "text": [
      "[ 1.18213071e-01  2.80715732e-04 -2.59946415e-08] [ 9.99980604e-01 -6.22825676e-03  2.04357705e-06]\n"
     ]
    },
    {
     "name": "stderr",
     "output_type": "stream",
     "text": [
      "\u001b[32m[I 2020-11-09 18:14:39,614]\u001b[0m Trial 38 finished with value: -5382.087547030198 and parameters: {'mag': 0.3757591389234475, 'phase': 3.0216399872270983, 'period': 0.23887229113213498}. Best is trial 35 with value: -5495.358212679521.\u001b[0m\n"
     ]
    },
    {
     "name": "stdout",
     "output_type": "stream",
     "text": [
      "[ 1.18213071e-01  2.80715732e-04 -2.59946415e-08] [ 9.99980604e-01 -6.22825676e-03  2.04357705e-06]\n"
     ]
    },
    {
     "name": "stderr",
     "output_type": "stream",
     "text": [
      "\u001b[32m[I 2020-11-09 18:16:37,311]\u001b[0m Trial 39 finished with value: -5111.920803358742 and parameters: {'mag': 0.2781113389002036, 'phase': 3.0703743956696217, 'period': 0.12164949936574945}. Best is trial 35 with value: -5495.358212679521.\u001b[0m\n"
     ]
    },
    {
     "name": "stdout",
     "output_type": "stream",
     "text": [
      "[ 1.18213071e-01  2.80715732e-04 -2.59946415e-08] [ 9.99980604e-01 -6.22825676e-03  2.04357705e-06]\n"
     ]
    },
    {
     "name": "stderr",
     "output_type": "stream",
     "text": [
      "\u001b[32m[I 2020-11-09 18:18:34,306]\u001b[0m Trial 40 finished with value: -5075.963107967273 and parameters: {'mag': 0.3968988503851938, 'phase': 2.8209104004351704, 'period': 0.5751266523218143}. Best is trial 35 with value: -5495.358212679521.\u001b[0m\n"
     ]
    },
    {
     "name": "stdout",
     "output_type": "stream",
     "text": [
      "[ 1.18213071e-01  2.80715732e-04 -2.59946415e-08] [ 9.99980604e-01 -6.22825676e-03  2.04357705e-06]\n"
     ]
    },
    {
     "name": "stderr",
     "output_type": "stream",
     "text": [
      "\u001b[32m[I 2020-11-09 18:20:32,120]\u001b[0m Trial 41 finished with value: -5190.841117947602 and parameters: {'mag': 0.33770457926893205, 'phase': 3.2002250231800944, 'period': 0.286904321367911}. Best is trial 35 with value: -5495.358212679521.\u001b[0m\n"
     ]
    },
    {
     "name": "stdout",
     "output_type": "stream",
     "text": [
      "[ 1.18213071e-01  2.80715732e-04 -2.59946415e-08] [ 9.99980604e-01 -6.22825676e-03  2.04357705e-06]\n"
     ]
    },
    {
     "name": "stderr",
     "output_type": "stream",
     "text": [
      "\u001b[32m[I 2020-11-09 18:22:29,202]\u001b[0m Trial 42 finished with value: -5438.307951130019 and parameters: {'mag': 0.45244220751958897, 'phase': 3.042316797434358, 'period': 0.3492026590621866}. Best is trial 35 with value: -5495.358212679521.\u001b[0m\n"
     ]
    },
    {
     "name": "stdout",
     "output_type": "stream",
     "text": [
      "[ 1.18213071e-01  2.80715732e-04 -2.59946415e-08] [ 9.99980604e-01 -6.22825676e-03  2.04357705e-06]\n"
     ]
    },
    {
     "name": "stderr",
     "output_type": "stream",
     "text": [
      "\u001b[32m[I 2020-11-09 18:24:26,905]\u001b[0m Trial 43 finished with value: -5433.743993986785 and parameters: {'mag': 0.40855760241697514, 'phase': 3.2954114623695796, 'period': 0.22492792119092483}. Best is trial 35 with value: -5495.358212679521.\u001b[0m\n"
     ]
    },
    {
     "name": "stdout",
     "output_type": "stream",
     "text": [
      "[ 1.18213071e-01  2.80715732e-04 -2.59946415e-08] [ 9.99980604e-01 -6.22825676e-03  2.04357705e-06]\n"
     ]
    },
    {
     "name": "stderr",
     "output_type": "stream",
     "text": [
      "\u001b[32m[I 2020-11-09 18:26:23,963]\u001b[0m Trial 44 finished with value: -5227.080516389456 and parameters: {'mag': 0.3477586368132332, 'phase': 3.2575710639740754, 'period': 0.27305053279434227}. Best is trial 35 with value: -5495.358212679521.\u001b[0m\n"
     ]
    },
    {
     "name": "stdout",
     "output_type": "stream",
     "text": [
      "[ 1.18213071e-01  2.80715732e-04 -2.59946415e-08] [ 9.99980604e-01 -6.22825676e-03  2.04357705e-06]\n"
     ]
    },
    {
     "name": "stderr",
     "output_type": "stream",
     "text": [
      "\u001b[32m[I 2020-11-09 18:28:21,804]\u001b[0m Trial 45 finished with value: -5410.3773949821 and parameters: {'mag': 0.3969446211230971, 'phase': 3.2763413378944324, 'period': 0.23212753472949402}. Best is trial 35 with value: -5495.358212679521.\u001b[0m\n"
     ]
    },
    {
     "name": "stdout",
     "output_type": "stream",
     "text": [
      "[ 1.18213071e-01  2.80715732e-04 -2.59946415e-08] [ 9.99980604e-01 -6.22825676e-03  2.04357705e-06]\n"
     ]
    },
    {
     "name": "stderr",
     "output_type": "stream",
     "text": [
      "\u001b[32m[I 2020-11-09 18:30:18,824]\u001b[0m Trial 46 finished with value: -5112.0991924426235 and parameters: {'mag': 0.3485091836359427, 'phase': 2.9857771119376597, 'period': 0.46462450049524984}. Best is trial 35 with value: -5495.358212679521.\u001b[0m\n"
     ]
    },
    {
     "name": "stdout",
     "output_type": "stream",
     "text": [
      "[ 1.18213071e-01  2.80715732e-04 -2.59946415e-08] [ 9.99980604e-01 -6.22825676e-03  2.04357705e-06]\n"
     ]
    },
    {
     "name": "stderr",
     "output_type": "stream",
     "text": [
      "\u001b[32m[I 2020-11-09 18:32:16,563]\u001b[0m Trial 47 finished with value: -5315.274035814943 and parameters: {'mag': 0.4257125074888581, 'phase': 2.843187359935466, 'period': 0.3479989678667186}. Best is trial 35 with value: -5495.358212679521.\u001b[0m\n"
     ]
    },
    {
     "name": "stdout",
     "output_type": "stream",
     "text": [
      "[ 1.18213071e-01  2.80715732e-04 -2.59946415e-08] [ 9.99980604e-01 -6.22825676e-03  2.04357705e-06]\n"
     ]
    },
    {
     "name": "stderr",
     "output_type": "stream",
     "text": [
      "\u001b[32m[I 2020-11-09 18:34:13,707]\u001b[0m Trial 48 finished with value: -5554.591763675845 and parameters: {'mag': 0.4737518375911303, 'phase': 3.0408240784881557, 'period': 0.31693945971374465}. Best is trial 48 with value: -5554.591763675845.\u001b[0m\n"
     ]
    },
    {
     "name": "stdout",
     "output_type": "stream",
     "text": [
      "[ 1.18213071e-01  2.80715732e-04 -2.59946415e-08] [ 9.99980604e-01 -6.22825676e-03  2.04357705e-06]\n"
     ]
    },
    {
     "name": "stderr",
     "output_type": "stream",
     "text": [
      "\u001b[32m[I 2020-11-09 18:36:11,615]\u001b[0m Trial 49 finished with value: -5255.782471849314 and parameters: {'mag': 0.40894291837123703, 'phase': 3.3370842171373662, 'period': 0.36739250561355596}. Best is trial 48 with value: -5554.591763675845.\u001b[0m\n"
     ]
    },
    {
     "name": "stdout",
     "output_type": "stream",
     "text": [
      "[ 1.18213071e-01  2.80715732e-04 -2.59946415e-08] [ 9.99980604e-01 -6.22825676e-03  2.04357705e-06]\n"
     ]
    },
    {
     "name": "stderr",
     "output_type": "stream",
     "text": [
      "\u001b[32m[I 2020-11-09 18:38:08,741]\u001b[0m Trial 50 finished with value: -5448.550822796867 and parameters: {'mag': 0.4453312486629684, 'phase': 3.0950507616662346, 'period': 0.33680786748550123}. Best is trial 48 with value: -5554.591763675845.\u001b[0m\n"
     ]
    },
    {
     "name": "stdout",
     "output_type": "stream",
     "text": [
      "[ 1.18213071e-01  2.80715732e-04 -2.59946415e-08] [ 9.99980604e-01 -6.22825676e-03  2.04357705e-06]\n"
     ]
    },
    {
     "name": "stderr",
     "output_type": "stream",
     "text": [
      "\u001b[32m[I 2020-11-09 18:40:07,679]\u001b[0m Trial 51 finished with value: -5481.545385775539 and parameters: {'mag': 0.3945724814147322, 'phase': 3.165254272758366, 'period': 0.16132424606564016}. Best is trial 48 with value: -5554.591763675845.\u001b[0m\n"
     ]
    },
    {
     "name": "stdout",
     "output_type": "stream",
     "text": [
      "[ 1.18213071e-01  2.80715732e-04 -2.59946415e-08] [ 9.99980604e-01 -6.22825676e-03  2.04357705e-06]\n"
     ]
    },
    {
     "name": "stderr",
     "output_type": "stream",
     "text": [
      "\u001b[32m[I 2020-11-09 18:42:14,018]\u001b[0m Trial 52 finished with value: -5542.72570706739 and parameters: {'mag': 0.46020841063778445, 'phase': 3.2419440379676727, 'period': 0.2537334416145191}. Best is trial 48 with value: -5554.591763675845.\u001b[0m\n"
     ]
    },
    {
     "name": "stdout",
     "output_type": "stream",
     "text": [
      "[ 1.18213071e-01  2.80715732e-04 -2.59946415e-08] [ 9.99980604e-01 -6.22825676e-03  2.04357705e-06]\n"
     ]
    },
    {
     "name": "stderr",
     "output_type": "stream",
     "text": [
      "\u001b[32m[I 2020-11-09 18:44:24,273]\u001b[0m Trial 53 finished with value: -5159.29645507342 and parameters: {'mag': 0.3290282600902194, 'phase': 2.939187558985181, 'period': 0.3295860768805528}. Best is trial 48 with value: -5554.591763675845.\u001b[0m\n"
     ]
    },
    {
     "name": "stdout",
     "output_type": "stream",
     "text": [
      "[ 1.18213071e-01  2.80715732e-04 -2.59946415e-08] [ 9.99980604e-01 -6.22825676e-03  2.04357705e-06]\n"
     ]
    },
    {
     "name": "stderr",
     "output_type": "stream",
     "text": [
      "\u001b[32m[I 2020-11-09 18:46:41,059]\u001b[0m Trial 54 finished with value: -2995.4009886822723 and parameters: {'mag': 0.43746315227477744, 'phase': 3.0116401974223943, 'period': 0.10424454955770923}. Best is trial 48 with value: -5554.591763675845.\u001b[0m\n"
     ]
    },
    {
     "name": "stdout",
     "output_type": "stream",
     "text": [
      "[ 1.18213071e-01  2.80715732e-04 -2.59946415e-08] [ 9.99980604e-01 -6.22825676e-03  2.04357705e-06]\n"
     ]
    },
    {
     "name": "stderr",
     "output_type": "stream",
     "text": [
      "\u001b[32m[I 2020-11-09 18:48:57,766]\u001b[0m Trial 55 finished with value: -5181.554972851641 and parameters: {'mag': 0.31576393103892336, 'phase': 3.3709276970285553, 'period': 0.21381938872814737}. Best is trial 48 with value: -5554.591763675845.\u001b[0m\n"
     ]
    },
    {
     "name": "stdout",
     "output_type": "stream",
     "text": [
      "[ 1.18213071e-01  2.80715732e-04 -2.59946415e-08] [ 9.99980604e-01 -6.22825676e-03  2.04357705e-06]\n"
     ]
    },
    {
     "name": "stderr",
     "output_type": "stream",
     "text": [
      "\u001b[32m[I 2020-11-09 18:51:03,131]\u001b[0m Trial 56 finished with value: -4955.977633271611 and parameters: {'mag': 0.32941625934333607, 'phase': 3.1984255138752684, 'period': 0.13876728452889317}. Best is trial 48 with value: -5554.591763675845.\u001b[0m\n"
     ]
    },
    {
     "name": "stdout",
     "output_type": "stream",
     "text": [
      "[ 1.18213071e-01  2.80715732e-04 -2.59946415e-08] [ 9.99980604e-01 -6.22825676e-03  2.04357705e-06]\n"
     ]
    },
    {
     "name": "stderr",
     "output_type": "stream",
     "text": [
      "\u001b[32m[I 2020-11-09 18:53:01,220]\u001b[0m Trial 57 finished with value: -4600.593835940879 and parameters: {'mag': 0.46210384045810343, 'phase': 3.188468955607085, 'period': 0.1223182182957987}. Best is trial 48 with value: -5554.591763675845.\u001b[0m\n"
     ]
    },
    {
     "name": "stdout",
     "output_type": "stream",
     "text": [
      "[ 1.18213071e-01  2.80715732e-04 -2.59946415e-08] [ 9.99980604e-01 -6.22825676e-03  2.04357705e-06]\n"
     ]
    },
    {
     "name": "stderr",
     "output_type": "stream",
     "text": [
      "\u001b[32m[I 2020-11-09 18:54:58,600]\u001b[0m Trial 58 finished with value: -5110.5172595026 and parameters: {'mag': 0.2771144063843666, 'phase': 3.1535525425450417, 'period': 0.3201460185662093}. Best is trial 48 with value: -5554.591763675845.\u001b[0m\n"
     ]
    },
    {
     "name": "stdout",
     "output_type": "stream",
     "text": [
      "[ 1.18213071e-01  2.80715732e-04 -2.59946415e-08] [ 9.99980604e-01 -6.22825676e-03  2.04357705e-06]\n"
     ]
    },
    {
     "name": "stderr",
     "output_type": "stream",
     "text": [
      "\u001b[32m[I 2020-11-09 18:56:56,994]\u001b[0m Trial 59 finished with value: -5224.694692058917 and parameters: {'mag': 0.4250247651720612, 'phase': 3.227842813516782, 'period': 0.47061523034541786}. Best is trial 48 with value: -5554.591763675845.\u001b[0m\n"
     ]
    },
    {
     "name": "stdout",
     "output_type": "stream",
     "text": [
      "[ 1.18213071e-01  2.80715732e-04 -2.59946415e-08] [ 9.99980604e-01 -6.22825676e-03  2.04357705e-06]\n"
     ]
    },
    {
     "name": "stderr",
     "output_type": "stream",
     "text": [
      "\u001b[32m[I 2020-11-09 18:58:58,914]\u001b[0m Trial 60 finished with value: -5602.256304300891 and parameters: {'mag': 0.49935752621265156, 'phase': 3.2615251522642623, 'period': 0.3151669347104579}. Best is trial 60 with value: -5602.256304300891.\u001b[0m\n"
     ]
    },
    {
     "name": "stdout",
     "output_type": "stream",
     "text": [
      "[ 1.18213071e-01  2.80715732e-04 -2.59946415e-08] [ 9.99980604e-01 -6.22825676e-03  2.04357705e-06]\n"
     ]
    },
    {
     "name": "stderr",
     "output_type": "stream",
     "text": [
      "\u001b[32m[I 2020-11-09 19:00:59,645]\u001b[0m Trial 61 finished with value: -5272.672476145774 and parameters: {'mag': 0.4599455391786048, 'phase': 3.0507033578991556, 'period': 0.16375621161864873}. Best is trial 60 with value: -5602.256304300891.\u001b[0m\n"
     ]
    },
    {
     "name": "stdout",
     "output_type": "stream",
     "text": [
      "[ 1.18213071e-01  2.80715732e-04 -2.59946415e-08] [ 9.99980604e-01 -6.22825676e-03  2.04357705e-06]\n"
     ]
    },
    {
     "name": "stderr",
     "output_type": "stream",
     "text": [
      "\u001b[32m[I 2020-11-09 19:02:57,254]\u001b[0m Trial 62 finished with value: -4793.560886828938 and parameters: {'mag': 0.4577977801968684, 'phase': 3.223587205774844, 'period': 0.11802465104910402}. Best is trial 60 with value: -5602.256304300891.\u001b[0m\n"
     ]
    },
    {
     "name": "stdout",
     "output_type": "stream",
     "text": [
      "[ 1.18213071e-01  2.80715732e-04 -2.59946415e-08] [ 9.99980604e-01 -6.22825676e-03  2.04357705e-06]\n"
     ]
    },
    {
     "name": "stderr",
     "output_type": "stream",
     "text": [
      "\u001b[32m[I 2020-11-09 19:04:55,438]\u001b[0m Trial 63 finished with value: -5599.723981742613 and parameters: {'mag': 0.48211036653081496, 'phase': 3.14900382763283, 'period': 0.28412570005224513}. Best is trial 60 with value: -5602.256304300891.\u001b[0m\n"
     ]
    },
    {
     "name": "stdout",
     "output_type": "stream",
     "text": [
      "[ 1.18213071e-01  2.80715732e-04 -2.59946415e-08] [ 9.99980604e-01 -6.22825676e-03  2.04357705e-06]\n"
     ]
    },
    {
     "name": "stderr",
     "output_type": "stream",
     "text": [
      "\u001b[32m[I 2020-11-09 19:06:52,901]\u001b[0m Trial 64 finished with value: -5200.718331574806 and parameters: {'mag': 0.3228565369692757, 'phase': 3.2759304830925724, 'period': 0.24386809259989978}. Best is trial 60 with value: -5602.256304300891.\u001b[0m\n"
     ]
    },
    {
     "name": "stdout",
     "output_type": "stream",
     "text": [
      "[ 1.18213071e-01  2.80715732e-04 -2.59946415e-08] [ 9.99980604e-01 -6.22825676e-03  2.04357705e-06]\n"
     ]
    },
    {
     "name": "stderr",
     "output_type": "stream",
     "text": [
      "\u001b[32m[I 2020-11-09 19:08:51,122]\u001b[0m Trial 65 finished with value: -5423.486864199189 and parameters: {'mag': 0.45138833036037673, 'phase': 3.1515781244406087, 'period': 0.3550580470926073}. Best is trial 60 with value: -5602.256304300891.\u001b[0m\n"
     ]
    },
    {
     "name": "stdout",
     "output_type": "stream",
     "text": [
      "[ 1.18213071e-01  2.80715732e-04 -2.59946415e-08] [ 9.99980604e-01 -6.22825676e-03  2.04357705e-06]\n"
     ]
    },
    {
     "name": "stderr",
     "output_type": "stream",
     "text": [
      "\u001b[32m[I 2020-11-09 19:10:50,090]\u001b[0m Trial 66 finished with value: -5570.951489192523 and parameters: {'mag': 0.45881663526760164, 'phase': 3.2169100045259404, 'period': 0.24263470571273496}. Best is trial 60 with value: -5602.256304300891.\u001b[0m\n"
     ]
    },
    {
     "name": "stdout",
     "output_type": "stream",
     "text": [
      "[ 1.18213071e-01  2.80715732e-04 -2.59946415e-08] [ 9.99980604e-01 -6.22825676e-03  2.04357705e-06]\n"
     ]
    },
    {
     "name": "stderr",
     "output_type": "stream",
     "text": [
      "\u001b[32m[I 2020-11-09 19:12:49,466]\u001b[0m Trial 67 finished with value: -5422.203773320229 and parameters: {'mag': 0.45333425527293186, 'phase': 3.294665063927524, 'period': 0.27194337124441287}. Best is trial 60 with value: -5602.256304300891.\u001b[0m\n"
     ]
    },
    {
     "name": "stdout",
     "output_type": "stream",
     "text": [
      "[ 1.18213071e-01  2.80715732e-04 -2.59946415e-08] [ 9.99980604e-01 -6.22825676e-03  2.04357705e-06]\n"
     ]
    },
    {
     "name": "stderr",
     "output_type": "stream",
     "text": [
      "\u001b[32m[I 2020-11-09 19:14:48,583]\u001b[0m Trial 68 finished with value: -5675.9203977145135 and parameters: {'mag': 0.5199586232563702, 'phase': 3.240236732311386, 'period': 0.32473915222748656}. Best is trial 68 with value: -5675.9203977145135.\u001b[0m\n"
     ]
    },
    {
     "name": "stdout",
     "output_type": "stream",
     "text": [
      "[ 1.18213071e-01  2.80715732e-04 -2.59946415e-08] [ 9.99980604e-01 -6.22825676e-03  2.04357705e-06]\n"
     ]
    },
    {
     "name": "stderr",
     "output_type": "stream",
     "text": [
      "\u001b[32m[I 2020-11-09 19:16:47,788]\u001b[0m Trial 69 finished with value: -5742.62687750511 and parameters: {'mag': 0.4874246327403564, 'phase': 3.175274176425611, 'period': 0.21590937929675827}. Best is trial 69 with value: -5742.62687750511.\u001b[0m\n"
     ]
    },
    {
     "name": "stdout",
     "output_type": "stream",
     "text": [
      "[ 1.18213071e-01  2.80715732e-04 -2.59946415e-08] [ 9.99980604e-01 -6.22825676e-03  2.04357705e-06]\n"
     ]
    },
    {
     "name": "stderr",
     "output_type": "stream",
     "text": [
      "\u001b[32m[I 2020-11-09 19:18:45,260]\u001b[0m Trial 70 finished with value: -5069.824720197331 and parameters: {'mag': 0.5160898107726386, 'phase': 3.226634426170543, 'period': 0.16383219637128965}. Best is trial 69 with value: -5742.62687750511.\u001b[0m\n"
     ]
    },
    {
     "name": "stdout",
     "output_type": "stream",
     "text": [
      "[ 1.18213071e-01  2.80715732e-04 -2.59946415e-08] [ 9.99980604e-01 -6.22825676e-03  2.04357705e-06]\n"
     ]
    },
    {
     "name": "stderr",
     "output_type": "stream",
     "text": [
      "\u001b[32m[I 2020-11-09 19:20:46,022]\u001b[0m Trial 71 finished with value: -5605.102328190985 and parameters: {'mag': 0.48897794412142587, 'phase': 3.1984515708241896, 'period': 0.2593629801058565}. Best is trial 69 with value: -5742.62687750511.\u001b[0m\n"
     ]
    },
    {
     "name": "stdout",
     "output_type": "stream",
     "text": [
      "[ 1.18213071e-01  2.80715732e-04 -2.59946415e-08] [ 9.99980604e-01 -6.22825676e-03  2.04357705e-06]\n"
     ]
    },
    {
     "name": "stderr",
     "output_type": "stream",
     "text": [
      "\u001b[32m[I 2020-11-09 19:22:43,260]\u001b[0m Trial 72 finished with value: -5286.9326020349345 and parameters: {'mag': 0.37285186194999165, 'phase': 3.2223454896103836, 'period': 0.28463964952249177}. Best is trial 69 with value: -5742.62687750511.\u001b[0m\n"
     ]
    },
    {
     "name": "stdout",
     "output_type": "stream",
     "text": [
      "[ 1.18213071e-01  2.80715732e-04 -2.59946415e-08] [ 9.99980604e-01 -6.22825676e-03  2.04357705e-06]\n"
     ]
    },
    {
     "name": "stderr",
     "output_type": "stream",
     "text": [
      "\u001b[32m[I 2020-11-09 19:24:41,543]\u001b[0m Trial 73 finished with value: -5718.404644910076 and parameters: {'mag': 0.46908153944680037, 'phase': 3.1489350328126484, 'period': 0.2171926955221094}. Best is trial 69 with value: -5742.62687750511.\u001b[0m\n"
     ]
    },
    {
     "name": "stdout",
     "output_type": "stream",
     "text": [
      "[ 1.18213071e-01  2.80715732e-04 -2.59946415e-08] [ 9.99980604e-01 -6.22825676e-03  2.04357705e-06]\n"
     ]
    },
    {
     "name": "stderr",
     "output_type": "stream",
     "text": [
      "\u001b[32m[I 2020-11-09 19:26:38,925]\u001b[0m Trial 74 finished with value: -5386.524379143859 and parameters: {'mag': 0.5170914270458863, 'phase': 3.116973587769239, 'period': 0.187194205687999}. Best is trial 69 with value: -5742.62687750511.\u001b[0m\n"
     ]
    },
    {
     "name": "stdout",
     "output_type": "stream",
     "text": [
      "[ 1.18213071e-01  2.80715732e-04 -2.59946415e-08] [ 9.99980604e-01 -6.22825676e-03  2.04357705e-06]\n"
     ]
    },
    {
     "name": "stderr",
     "output_type": "stream",
     "text": [
      "\u001b[32m[I 2020-11-09 19:28:41,365]\u001b[0m Trial 75 finished with value: -5463.791707542578 and parameters: {'mag': 0.41293703026680995, 'phase': 3.1187163267300098, 'period': 0.23089648260201315}. Best is trial 69 with value: -5742.62687750511.\u001b[0m\n"
     ]
    },
    {
     "name": "stdout",
     "output_type": "stream",
     "text": [
      "[ 1.18213071e-01  2.80715732e-04 -2.59946415e-08] [ 9.99980604e-01 -6.22825676e-03  2.04357705e-06]\n"
     ]
    },
    {
     "name": "stderr",
     "output_type": "stream",
     "text": [
      "\u001b[32m[I 2020-11-09 19:30:56,144]\u001b[0m Trial 76 finished with value: -5404.636260039087 and parameters: {'mag': 0.4491941303496448, 'phase': 3.1307178156043163, 'period': 0.18886481799915836}. Best is trial 69 with value: -5742.62687750511.\u001b[0m\n"
     ]
    },
    {
     "name": "stdout",
     "output_type": "stream",
     "text": [
      "[ 1.18213071e-01  2.80715732e-04 -2.59946415e-08] [ 9.99980604e-01 -6.22825676e-03  2.04357705e-06]\n"
     ]
    },
    {
     "name": "stderr",
     "output_type": "stream",
     "text": [
      "\u001b[32m[I 2020-11-09 19:33:00,934]\u001b[0m Trial 77 finished with value: -5594.088887618831 and parameters: {'mag': 0.49066859912378324, 'phase': 3.301392598374966, 'period': 0.24382950940289344}. Best is trial 69 with value: -5742.62687750511.\u001b[0m\n"
     ]
    },
    {
     "name": "stdout",
     "output_type": "stream",
     "text": [
      "[ 1.18213071e-01  2.80715732e-04 -2.59946415e-08] [ 9.99980604e-01 -6.22825676e-03  2.04357705e-06]\n"
     ]
    },
    {
     "name": "stderr",
     "output_type": "stream",
     "text": [
      "\u001b[32m[I 2020-11-09 19:34:58,295]\u001b[0m Trial 78 finished with value: -5410.492066651261 and parameters: {'mag': 0.4761178641567918, 'phase': 3.112905017630018, 'period': 0.1937656434445583}. Best is trial 69 with value: -5742.62687750511.\u001b[0m\n"
     ]
    },
    {
     "name": "stdout",
     "output_type": "stream",
     "text": [
      "[ 1.18213071e-01  2.80715732e-04 -2.59946415e-08] [ 9.99980604e-01 -6.22825676e-03  2.04357705e-06]\n"
     ]
    },
    {
     "name": "stderr",
     "output_type": "stream",
     "text": [
      "\u001b[32m[I 2020-11-09 19:36:56,404]\u001b[0m Trial 79 finished with value: -5438.438200161508 and parameters: {'mag': 0.4017721489743115, 'phase': 3.2066387550967974, 'period': 0.2276644908599564}. Best is trial 69 with value: -5742.62687750511.\u001b[0m\n"
     ]
    },
    {
     "name": "stdout",
     "output_type": "stream",
     "text": [
      "[ 1.18213071e-01  2.80715732e-04 -2.59946415e-08] [ 9.99980604e-01 -6.22825676e-03  2.04357705e-06]\n"
     ]
    },
    {
     "name": "stderr",
     "output_type": "stream",
     "text": [
      "\u001b[32m[I 2020-11-09 19:38:53,780]\u001b[0m Trial 80 finished with value: -5108.333113398808 and parameters: {'mag': 0.5003454782197281, 'phase': 3.1580267055620057, 'period': 0.1602389405595756}. Best is trial 69 with value: -5742.62687750511.\u001b[0m\n"
     ]
    },
    {
     "name": "stdout",
     "output_type": "stream",
     "text": [
      "[ 1.18213071e-01  2.80715732e-04 -2.59946415e-08] [ 9.99980604e-01 -6.22825676e-03  2.04357705e-06]\n"
     ]
    },
    {
     "name": "stderr",
     "output_type": "stream",
     "text": [
      "\u001b[32m[I 2020-11-09 19:40:51,580]\u001b[0m Trial 81 finished with value: -5510.95883234746 and parameters: {'mag': 0.49697893573428376, 'phase': 3.2229859985819513, 'period': 0.19578453387645928}. Best is trial 69 with value: -5742.62687750511.\u001b[0m\n"
     ]
    },
    {
     "name": "stdout",
     "output_type": "stream",
     "text": [
      "[ 1.18213071e-01  2.80715732e-04 -2.59946415e-08] [ 9.99980604e-01 -6.22825676e-03  2.04357705e-06]\n"
     ]
    },
    {
     "name": "stderr",
     "output_type": "stream",
     "text": [
      "\u001b[32m[I 2020-11-09 19:42:48,657]\u001b[0m Trial 82 finished with value: -5710.803376617728 and parameters: {'mag': 0.4657793497953244, 'phase': 3.1427436651250544, 'period': 0.21721727292410387}. Best is trial 69 with value: -5742.62687750511.\u001b[0m\n"
     ]
    },
    {
     "name": "stdout",
     "output_type": "stream",
     "text": [
      "[ 1.18213071e-01  2.80715732e-04 -2.59946415e-08] [ 9.99980604e-01 -6.22825676e-03  2.04357705e-06]\n"
     ]
    },
    {
     "name": "stderr",
     "output_type": "stream",
     "text": [
      "\u001b[32m[I 2020-11-09 19:44:46,409]\u001b[0m Trial 83 finished with value: -5634.837919764848 and parameters: {'mag': 0.4743724004099505, 'phase': 3.14565654288901, 'period': 0.24907025577038455}. Best is trial 69 with value: -5742.62687750511.\u001b[0m\n"
     ]
    },
    {
     "name": "stdout",
     "output_type": "stream",
     "text": [
      "[ 1.18213071e-01  2.80715732e-04 -2.59946415e-08] [ 9.99980604e-01 -6.22825676e-03  2.04357705e-06]\n"
     ]
    },
    {
     "name": "stderr",
     "output_type": "stream",
     "text": [
      "\u001b[32m[I 2020-11-09 19:46:43,447]\u001b[0m Trial 84 finished with value: -5197.074454355271 and parameters: {'mag': 0.5230882026686252, 'phase': 3.158275428940577, 'period': 0.16929138673651756}. Best is trial 69 with value: -5742.62687750511.\u001b[0m\n"
     ]
    },
    {
     "name": "stdout",
     "output_type": "stream",
     "text": [
      "[ 1.18213071e-01  2.80715732e-04 -2.59946415e-08] [ 9.99980604e-01 -6.22825676e-03  2.04357705e-06]\n"
     ]
    },
    {
     "name": "stderr",
     "output_type": "stream",
     "text": [
      "\u001b[32m[I 2020-11-09 19:48:41,047]\u001b[0m Trial 85 finished with value: -5625.186840563295 and parameters: {'mag': 0.5049032920959807, 'phase': 3.1278129025802714, 'period': 0.26540726669139897}. Best is trial 69 with value: -5742.62687750511.\u001b[0m\n"
     ]
    },
    {
     "name": "stdout",
     "output_type": "stream",
     "text": [
      "[ 1.18213071e-01  2.80715732e-04 -2.59946415e-08] [ 9.99980604e-01 -6.22825676e-03  2.04357705e-06]\n"
     ]
    },
    {
     "name": "stderr",
     "output_type": "stream",
     "text": [
      "\u001b[32m[I 2020-11-09 19:50:38,078]\u001b[0m Trial 86 finished with value: -5754.338400468356 and parameters: {'mag': 0.5060140140807473, 'phase': 3.164299331899118, 'period': 0.23473740725170966}. Best is trial 86 with value: -5754.338400468356.\u001b[0m\n"
     ]
    },
    {
     "name": "stdout",
     "output_type": "stream",
     "text": [
      "[ 1.18213071e-01  2.80715732e-04 -2.59946415e-08] [ 9.99980604e-01 -6.22825676e-03  2.04357705e-06]\n"
     ]
    },
    {
     "name": "stderr",
     "output_type": "stream",
     "text": [
      "\u001b[32m[I 2020-11-09 19:52:35,915]\u001b[0m Trial 87 finished with value: -5509.36211036377 and parameters: {'mag': 0.46496153255439676, 'phase': 3.2122425599513744, 'period': 0.19726221067094565}. Best is trial 86 with value: -5754.338400468356.\u001b[0m\n"
     ]
    },
    {
     "name": "stdout",
     "output_type": "stream",
     "text": [
      "[ 1.18213071e-01  2.80715732e-04 -2.59946415e-08] [ 9.99980604e-01 -6.22825676e-03  2.04357705e-06]\n"
     ]
    },
    {
     "name": "stderr",
     "output_type": "stream",
     "text": [
      "\u001b[32m[I 2020-11-09 19:54:33,030]\u001b[0m Trial 88 finished with value: -5582.395764166255 and parameters: {'mag': 0.47888129960425707, 'phase': 3.1519395040247664, 'period': 0.29928408055909733}. Best is trial 86 with value: -5754.338400468356.\u001b[0m\n"
     ]
    },
    {
     "name": "stdout",
     "output_type": "stream",
     "text": [
      "[ 1.18213071e-01  2.80715732e-04 -2.59946415e-08] [ 9.99980604e-01 -6.22825676e-03  2.04357705e-06]\n"
     ]
    },
    {
     "name": "stderr",
     "output_type": "stream",
     "text": [
      "\u001b[32m[I 2020-11-09 19:56:31,332]\u001b[0m Trial 89 finished with value: -5529.776276285641 and parameters: {'mag': 0.4384699009537215, 'phase': 3.143239578385315, 'period': 0.24302353980772362}. Best is trial 86 with value: -5754.338400468356.\u001b[0m\n"
     ]
    },
    {
     "name": "stdout",
     "output_type": "stream",
     "text": [
      "[ 1.18213071e-01  2.80715732e-04 -2.59946415e-08] [ 9.99980604e-01 -6.22825676e-03  2.04357705e-06]\n"
     ]
    },
    {
     "name": "stderr",
     "output_type": "stream",
     "text": [
      "\u001b[32m[I 2020-11-09 19:58:28,505]\u001b[0m Trial 90 finished with value: -5467.8203552220575 and parameters: {'mag': 0.42584714817222097, 'phase': 3.1969992542132086, 'period': 0.24753110503106568}. Best is trial 86 with value: -5754.338400468356.\u001b[0m\n"
     ]
    },
    {
     "name": "stdout",
     "output_type": "stream",
     "text": [
      "[ 1.18213071e-01  2.80715732e-04 -2.59946415e-08] [ 9.99980604e-01 -6.22825676e-03  2.04357705e-06]\n"
     ]
    },
    {
     "name": "stderr",
     "output_type": "stream",
     "text": [
      "\u001b[32m[I 2020-11-09 20:00:26,354]\u001b[0m Trial 91 finished with value: -5625.703868680686 and parameters: {'mag': 0.4998943893555268, 'phase': 3.182183226050974, 'period': 0.2034015139291133}. Best is trial 86 with value: -5754.338400468356.\u001b[0m\n"
     ]
    },
    {
     "name": "stdout",
     "output_type": "stream",
     "text": [
      "[ 1.18213071e-01  2.80715732e-04 -2.59946415e-08] [ 9.99980604e-01 -6.22825676e-03  2.04357705e-06]\n"
     ]
    },
    {
     "name": "stderr",
     "output_type": "stream",
     "text": [
      "\u001b[32m[I 2020-11-09 20:02:25,019]\u001b[0m Trial 92 finished with value: -5687.984122345417 and parameters: {'mag': 0.47699152863940236, 'phase': 3.178205920458494, 'period': 0.21046156418077722}. Best is trial 86 with value: -5754.338400468356.\u001b[0m\n"
     ]
    },
    {
     "name": "stdout",
     "output_type": "stream",
     "text": [
      "[ 1.18213071e-01  2.80715732e-04 -2.59946415e-08] [ 9.99980604e-01 -6.22825676e-03  2.04357705e-06]\n"
     ]
    },
    {
     "name": "stderr",
     "output_type": "stream",
     "text": [
      "\u001b[32m[I 2020-11-09 20:04:27,064]\u001b[0m Trial 93 finished with value: -5357.101500880451 and parameters: {'mag': 0.4246851217227759, 'phase': 3.098010714156283, 'period': 0.1637071686463693}. Best is trial 86 with value: -5754.338400468356.\u001b[0m\n"
     ]
    },
    {
     "name": "stdout",
     "output_type": "stream",
     "text": [
      "[ 1.18213071e-01  2.80715732e-04 -2.59946415e-08] [ 9.99980604e-01 -6.22825676e-03  2.04357705e-06]\n"
     ]
    },
    {
     "name": "stderr",
     "output_type": "stream",
     "text": [
      "\u001b[32m[I 2020-11-09 20:06:24,339]\u001b[0m Trial 94 finished with value: -4575.460096456197 and parameters: {'mag': 0.5049164497127075, 'phase': 3.2371696267900214, 'period': 0.1394895999244757}. Best is trial 86 with value: -5754.338400468356.\u001b[0m\n"
     ]
    },
    {
     "name": "stdout",
     "output_type": "stream",
     "text": [
      "[ 1.18213071e-01  2.80715732e-04 -2.59946415e-08] [ 9.99980604e-01 -6.22825676e-03  2.04357705e-06]\n"
     ]
    },
    {
     "name": "stderr",
     "output_type": "stream",
     "text": [
      "\u001b[32m[I 2020-11-09 20:08:23,784]\u001b[0m Trial 95 finished with value: -5500.2578252764115 and parameters: {'mag': 0.5107961944071846, 'phase': 3.1646590557679044, 'period': 0.18684777940739639}. Best is trial 86 with value: -5754.338400468356.\u001b[0m\n"
     ]
    },
    {
     "name": "stdout",
     "output_type": "stream",
     "text": [
      "[ 1.18213071e-01  2.80715732e-04 -2.59946415e-08] [ 9.99980604e-01 -6.22825676e-03  2.04357705e-06]\n"
     ]
    },
    {
     "name": "stderr",
     "output_type": "stream",
     "text": [
      "\u001b[32m[I 2020-11-09 20:10:20,883]\u001b[0m Trial 96 finished with value: -5281.844350368603 and parameters: {'mag': 0.4873330617942533, 'phase': 3.184924293054008, 'period': 0.16994418675739625}. Best is trial 86 with value: -5754.338400468356.\u001b[0m\n"
     ]
    },
    {
     "name": "stdout",
     "output_type": "stream",
     "text": [
      "[ 1.18213071e-01  2.80715732e-04 -2.59946415e-08] [ 9.99980604e-01 -6.22825676e-03  2.04357705e-06]\n"
     ]
    },
    {
     "name": "stderr",
     "output_type": "stream",
     "text": [
      "\u001b[32m[I 2020-11-09 20:12:18,722]\u001b[0m Trial 97 finished with value: -5703.596103305269 and parameters: {'mag': 0.4957850382335898, 'phase': 3.2008512221393115, 'period': 0.23800465435630033}. Best is trial 86 with value: -5754.338400468356.\u001b[0m\n"
     ]
    },
    {
     "name": "stdout",
     "output_type": "stream",
     "text": [
      "[ 1.18213071e-01  2.80715732e-04 -2.59946415e-08] [ 9.99980604e-01 -6.22825676e-03  2.04357705e-06]\n"
     ]
    },
    {
     "name": "stderr",
     "output_type": "stream",
     "text": [
      "\u001b[32m[I 2020-11-09 20:14:15,831]\u001b[0m Trial 98 finished with value: -5826.89951119565 and parameters: {'mag': 0.5167343430577667, 'phase': 3.141941961517869, 'period': 0.2278359077450692}. Best is trial 98 with value: -5826.89951119565.\u001b[0m\n"
     ]
    },
    {
     "name": "stdout",
     "output_type": "stream",
     "text": [
      "[ 1.18213071e-01  2.80715732e-04 -2.59946415e-08] [ 9.99980604e-01 -6.22825676e-03  2.04357705e-06]\n"
     ]
    },
    {
     "name": "stderr",
     "output_type": "stream",
     "text": [
      "\u001b[32m[I 2020-11-09 20:16:13,588]\u001b[0m Trial 99 finished with value: -5742.450125765718 and parameters: {'mag': 0.48860206913781284, 'phase': 3.196121138379929, 'period': 0.2236752853507862}. Best is trial 98 with value: -5826.89951119565.\u001b[0m\n"
     ]
    },
    {
     "name": "stdout",
     "output_type": "stream",
     "text": [
      "[ 1.18213071e-01  2.80715732e-04 -2.59946415e-08] [ 9.99980604e-01 -6.22825676e-03  2.04357705e-06]\n"
     ]
    },
    {
     "name": "stderr",
     "output_type": "stream",
     "text": [
      "\u001b[32m[I 2020-11-09 20:18:10,639]\u001b[0m Trial 100 finished with value: -5694.590928231596 and parameters: {'mag': 0.5118850709121511, 'phase': 3.1121770511162365, 'period': 0.23678532063099114}. Best is trial 98 with value: -5826.89951119565.\u001b[0m\n"
     ]
    },
    {
     "name": "stdout",
     "output_type": "stream",
     "text": [
      "[ 1.18213071e-01  2.80715732e-04 -2.59946415e-08] [ 9.99980604e-01 -6.22825676e-03  2.04357705e-06]\n"
     ]
    },
    {
     "name": "stderr",
     "output_type": "stream",
     "text": [
      "\u001b[32m[I 2020-11-09 20:20:08,444]\u001b[0m Trial 101 finished with value: -5512.919093613233 and parameters: {'mag': 0.498197905476845, 'phase': 3.170639741416613, 'period': 0.18842462814294575}. Best is trial 98 with value: -5826.89951119565.\u001b[0m\n"
     ]
    },
    {
     "name": "stdout",
     "output_type": "stream",
     "text": [
      "[ 1.18213071e-01  2.80715732e-04 -2.59946415e-08] [ 9.99980604e-01 -6.22825676e-03  2.04357705e-06]\n"
     ]
    },
    {
     "name": "stderr",
     "output_type": "stream",
     "text": [
      "\u001b[32m[I 2020-11-09 20:22:05,566]\u001b[0m Trial 102 finished with value: -5767.150586140406 and parameters: {'mag': 0.49191433182458066, 'phase': 3.148825542523805, 'period': 0.21571718324739156}. Best is trial 98 with value: -5826.89951119565.\u001b[0m\n"
     ]
    },
    {
     "name": "stdout",
     "output_type": "stream",
     "text": [
      "[ 1.18213071e-01  2.80715732e-04 -2.59946415e-08] [ 9.99980604e-01 -6.22825676e-03  2.04357705e-06]\n"
     ]
    },
    {
     "name": "stderr",
     "output_type": "stream",
     "text": [
      "\u001b[32m[I 2020-11-09 20:24:03,356]\u001b[0m Trial 103 finished with value: -5643.863209482896 and parameters: {'mag': 0.4972765168054191, 'phase': 3.1808543785732457, 'period': 0.25473097231941166}. Best is trial 98 with value: -5826.89951119565.\u001b[0m\n"
     ]
    },
    {
     "name": "stdout",
     "output_type": "stream",
     "text": [
      "[ 1.18213071e-01  2.80715732e-04 -2.59946415e-08] [ 9.99980604e-01 -6.22825676e-03  2.04357705e-06]\n"
     ]
    },
    {
     "name": "stderr",
     "output_type": "stream",
     "text": [
      "\u001b[32m[I 2020-11-09 20:26:00,451]\u001b[0m Trial 104 finished with value: -5630.170027558892 and parameters: {'mag': 0.47238824129514634, 'phase': 3.166197494299084, 'period': 0.24373549175883621}. Best is trial 98 with value: -5826.89951119565.\u001b[0m\n"
     ]
    },
    {
     "name": "stdout",
     "output_type": "stream",
     "text": [
      "[ 1.18213071e-01  2.80715732e-04 -2.59946415e-08] [ 9.99980604e-01 -6.22825676e-03  2.04357705e-06]\n"
     ]
    },
    {
     "name": "stderr",
     "output_type": "stream",
     "text": [
      "\u001b[32m[I 2020-11-09 20:27:58,207]\u001b[0m Trial 105 finished with value: -5695.296057693637 and parameters: {'mag': 0.5098354891152386, 'phase': 3.1328787331925168, 'period': 0.23205829973533024}. Best is trial 98 with value: -5826.89951119565.\u001b[0m\n"
     ]
    },
    {
     "name": "stdout",
     "output_type": "stream",
     "text": [
      "[ 1.18213071e-01  2.80715732e-04 -2.59946415e-08] [ 9.99980604e-01 -6.22825676e-03  2.04357705e-06]\n"
     ]
    },
    {
     "name": "stderr",
     "output_type": "stream",
     "text": [
      "\u001b[32m[I 2020-11-09 20:29:55,304]\u001b[0m Trial 106 finished with value: -5729.628039686105 and parameters: {'mag': 0.47496663464554195, 'phase': 3.150043755952387, 'period': 0.21826582684389256}. Best is trial 98 with value: -5826.89951119565.\u001b[0m\n"
     ]
    },
    {
     "name": "stdout",
     "output_type": "stream",
     "text": [
      "[ 1.18213071e-01  2.80715732e-04 -2.59946415e-08] [ 9.99980604e-01 -6.22825676e-03  2.04357705e-06]\n"
     ]
    },
    {
     "name": "stderr",
     "output_type": "stream",
     "text": [
      "\u001b[32m[I 2020-11-09 20:31:53,232]\u001b[0m Trial 107 finished with value: -5821.916944458774 and parameters: {'mag': 0.5233087316410289, 'phase': 3.1660284696504157, 'period': 0.23160350668774501}. Best is trial 98 with value: -5826.89951119565.\u001b[0m\n"
     ]
    },
    {
     "name": "stdout",
     "output_type": "stream",
     "text": [
      "[ 1.18213071e-01  2.80715732e-04 -2.59946415e-08] [ 9.99980604e-01 -6.22825676e-03  2.04357705e-06]\n"
     ]
    },
    {
     "name": "stderr",
     "output_type": "stream",
     "text": [
      "\u001b[32m[I 2020-11-09 20:33:50,364]\u001b[0m Trial 108 finished with value: -5519.6813679602865 and parameters: {'mag': 0.4677474383294634, 'phase': 3.194398530214804, 'period': 0.19784113291471983}. Best is trial 98 with value: -5826.89951119565.\u001b[0m\n"
     ]
    },
    {
     "name": "stdout",
     "output_type": "stream",
     "text": [
      "[ 1.18213071e-01  2.80715732e-04 -2.59946415e-08] [ 9.99980604e-01 -6.22825676e-03  2.04357705e-06]\n"
     ]
    },
    {
     "name": "stderr",
     "output_type": "stream",
     "text": [
      "\u001b[32m[I 2020-11-09 20:35:48,163]\u001b[0m Trial 109 finished with value: -5625.974799732238 and parameters: {'mag': 0.4586121844272336, 'phase': 3.1808679821176, 'period': 0.20934583322596068}. Best is trial 98 with value: -5826.89951119565.\u001b[0m\n"
     ]
    },
    {
     "name": "stdout",
     "output_type": "stream",
     "text": [
      "[ 1.18213071e-01  2.80715732e-04 -2.59946415e-08] [ 9.99980604e-01 -6.22825676e-03  2.04357705e-06]\n"
     ]
    },
    {
     "name": "stderr",
     "output_type": "stream",
     "text": [
      "\u001b[32m[I 2020-11-09 20:37:45,214]\u001b[0m Trial 110 finished with value: -5656.763116611722 and parameters: {'mag': 0.49955256630959693, 'phase': 3.1620829892901368, 'period': 0.20439793149782556}. Best is trial 98 with value: -5826.89951119565.\u001b[0m\n"
     ]
    },
    {
     "name": "stdout",
     "output_type": "stream",
     "text": [
      "[ 1.18213071e-01  2.80715732e-04 -2.59946415e-08] [ 9.99980604e-01 -6.22825676e-03  2.04357705e-06]\n"
     ]
    },
    {
     "name": "stderr",
     "output_type": "stream",
     "text": [
      "\u001b[32m[I 2020-11-09 20:39:42,972]\u001b[0m Trial 111 finished with value: -5640.176518621582 and parameters: {'mag': 0.4878576892980195, 'phase': 3.1473935849386883, 'period': 0.2034356848989764}. Best is trial 98 with value: -5826.89951119565.\u001b[0m\n"
     ]
    },
    {
     "name": "stdout",
     "output_type": "stream",
     "text": [
      "[ 1.18213071e-01  2.80715732e-04 -2.59946415e-08] [ 9.99980604e-01 -6.22825676e-03  2.04357705e-06]\n"
     ]
    },
    {
     "name": "stderr",
     "output_type": "stream",
     "text": [
      "\u001b[32m[I 2020-11-09 20:41:40,120]\u001b[0m Trial 112 finished with value: -5659.198308256597 and parameters: {'mag': 0.49531966278935624, 'phase': 3.157721279859395, 'period': 0.2048326475567572}. Best is trial 98 with value: -5826.89951119565.\u001b[0m\n"
     ]
    },
    {
     "name": "stdout",
     "output_type": "stream",
     "text": [
      "[ 1.18213071e-01  2.80715732e-04 -2.59946415e-08] [ 9.99980604e-01 -6.22825676e-03  2.04357705e-06]\n"
     ]
    },
    {
     "name": "stderr",
     "output_type": "stream",
     "text": [
      "\u001b[32m[I 2020-11-09 20:43:37,797]\u001b[0m Trial 113 finished with value: -5776.341982329694 and parameters: {'mag': 0.5101684131087358, 'phase': 3.149186314608392, 'period': 0.2154905164895462}. Best is trial 98 with value: -5826.89951119565.\u001b[0m\n"
     ]
    },
    {
     "name": "stdout",
     "output_type": "stream",
     "text": [
      "[ 1.18213071e-01  2.80715732e-04 -2.59946415e-08] [ 9.99980604e-01 -6.22825676e-03  2.04357705e-06]\n"
     ]
    },
    {
     "name": "stderr",
     "output_type": "stream",
     "text": [
      "\u001b[32m[I 2020-11-09 20:45:34,923]\u001b[0m Trial 114 finished with value: -5724.287089640938 and parameters: {'mag': 0.48834172343652005, 'phase': 3.1839762210691145, 'period': 0.22860853805471895}. Best is trial 98 with value: -5826.89951119565.\u001b[0m\n"
     ]
    },
    {
     "name": "stdout",
     "output_type": "stream",
     "text": [
      "[ 1.18213071e-01  2.80715732e-04 -2.59946415e-08] [ 9.99980604e-01 -6.22825676e-03  2.04357705e-06]\n"
     ]
    },
    {
     "name": "stderr",
     "output_type": "stream",
     "text": [
      "\u001b[32m[I 2020-11-09 20:47:32,597]\u001b[0m Trial 115 finished with value: -5681.811971365596 and parameters: {'mag': 0.47198495871143004, 'phase': 3.152075850978258, 'period': 0.23446511048318314}. Best is trial 98 with value: -5826.89951119565.\u001b[0m\n"
     ]
    },
    {
     "name": "stdout",
     "output_type": "stream",
     "text": [
      "[ 1.18213071e-01  2.80715732e-04 -2.59946415e-08] [ 9.99980604e-01 -6.22825676e-03  2.04357705e-06]\n"
     ]
    },
    {
     "name": "stderr",
     "output_type": "stream",
     "text": [
      "\u001b[32m[I 2020-11-09 20:49:29,727]\u001b[0m Trial 116 finished with value: -5754.044679960268 and parameters: {'mag': 0.5071446478272525, 'phase': 3.1474887847671313, 'period': 0.23832682055745638}. Best is trial 98 with value: -5826.89951119565.\u001b[0m\n"
     ]
    },
    {
     "name": "stdout",
     "output_type": "stream",
     "text": [
      "[ 1.18213071e-01  2.80715732e-04 -2.59946415e-08] [ 9.99980604e-01 -6.22825676e-03  2.04357705e-06]\n"
     ]
    },
    {
     "name": "stderr",
     "output_type": "stream",
     "text": [
      "\u001b[32m[I 2020-11-09 20:51:27,664]\u001b[0m Trial 117 finished with value: -5716.4433126132035 and parameters: {'mag': 0.4818080377523921, 'phase': 3.1665876529748482, 'period': 0.2283699819645763}. Best is trial 98 with value: -5826.89951119565.\u001b[0m\n"
     ]
    },
    {
     "name": "stdout",
     "output_type": "stream",
     "text": [
      "[ 1.18213071e-01  2.80715732e-04 -2.59946415e-08] [ 9.99980604e-01 -6.22825676e-03  2.04357705e-06]\n"
     ]
    },
    {
     "name": "stderr",
     "output_type": "stream",
     "text": [
      "\u001b[32m[I 2020-11-09 20:53:24,839]\u001b[0m Trial 118 finished with value: -5783.601464871841 and parameters: {'mag': 0.5062678124500788, 'phase': 3.1633012442778843, 'period': 0.2297527636136501}. Best is trial 98 with value: -5826.89951119565.\u001b[0m\n"
     ]
    },
    {
     "name": "stdout",
     "output_type": "stream",
     "text": [
      "[ 1.18213071e-01  2.80715732e-04 -2.59946415e-08] [ 9.99980604e-01 -6.22825676e-03  2.04357705e-06]\n"
     ]
    },
    {
     "name": "stderr",
     "output_type": "stream",
     "text": [
      "\u001b[32m[I 2020-11-09 20:55:22,590]\u001b[0m Trial 119 finished with value: -5767.372848482696 and parameters: {'mag': 0.5198040584053241, 'phase': 3.1884499950686456, 'period': 0.2157481258580703}. Best is trial 98 with value: -5826.89951119565.\u001b[0m\n"
     ]
    },
    {
     "name": "stdout",
     "output_type": "stream",
     "text": [
      "[ 1.18213071e-01  2.80715732e-04 -2.59946415e-08] [ 9.99980604e-01 -6.22825676e-03  2.04357705e-06]\n"
     ]
    },
    {
     "name": "stderr",
     "output_type": "stream",
     "text": [
      "\u001b[32m[I 2020-11-09 20:57:19,718]\u001b[0m Trial 120 finished with value: -5747.166181872064 and parameters: {'mag': 0.49119781500973725, 'phase': 3.1545649109195937, 'period': 0.21328243117374798}. Best is trial 98 with value: -5826.89951119565.\u001b[0m\n"
     ]
    },
    {
     "name": "stdout",
     "output_type": "stream",
     "text": [
      "[ 1.18213071e-01  2.80715732e-04 -2.59946415e-08] [ 9.99980604e-01 -6.22825676e-03  2.04357705e-06]\n"
     ]
    },
    {
     "name": "stderr",
     "output_type": "stream",
     "text": [
      "\u001b[32m[I 2020-11-09 20:59:17,549]\u001b[0m Trial 121 finished with value: -5713.421334521507 and parameters: {'mag': 0.5209193276855187, 'phase': 3.170784671734634, 'period': 0.20960149639165834}. Best is trial 98 with value: -5826.89951119565.\u001b[0m\n"
     ]
    },
    {
     "name": "stdout",
     "output_type": "stream",
     "text": [
      "[ 1.18213071e-01  2.80715732e-04 -2.59946415e-08] [ 9.99980604e-01 -6.22825676e-03  2.04357705e-06]\n"
     ]
    },
    {
     "name": "stderr",
     "output_type": "stream",
     "text": [
      "\u001b[32m[I 2020-11-09 21:01:14,644]\u001b[0m Trial 122 finished with value: -5819.717154468762 and parameters: {'mag': 0.5181430839764105, 'phase': 3.152956129747216, 'period': 0.22496305121512833}. Best is trial 98 with value: -5826.89951119565.\u001b[0m\n"
     ]
    },
    {
     "name": "stdout",
     "output_type": "stream",
     "text": [
      "[ 1.18213071e-01  2.80715732e-04 -2.59946415e-08] [ 9.99980604e-01 -6.22825676e-03  2.04357705e-06]\n"
     ]
    },
    {
     "name": "stderr",
     "output_type": "stream",
     "text": [
      "\u001b[32m[I 2020-11-09 21:03:12,456]\u001b[0m Trial 123 finished with value: -5780.663828084293 and parameters: {'mag': 0.5178715557249686, 'phase': 3.1855454159687073, 'period': 0.2198886717473605}. Best is trial 98 with value: -5826.89951119565.\u001b[0m\n"
     ]
    },
    {
     "name": "stdout",
     "output_type": "stream",
     "text": [
      "[ 1.18213071e-01  2.80715732e-04 -2.59946415e-08] [ 9.99980604e-01 -6.22825676e-03  2.04357705e-06]\n"
     ]
    },
    {
     "name": "stderr",
     "output_type": "stream",
     "text": [
      "\u001b[32m[I 2020-11-09 21:05:09,492]\u001b[0m Trial 124 finished with value: -5547.942423587001 and parameters: {'mag': 0.49163793070131073, 'phase': 3.1664720977062553, 'period': 0.19937803958848913}. Best is trial 98 with value: -5826.89951119565.\u001b[0m\n"
     ]
    },
    {
     "name": "stdout",
     "output_type": "stream",
     "text": [
      "[ 1.18213071e-01  2.80715732e-04 -2.59946415e-08] [ 9.99980604e-01 -6.22825676e-03  2.04357705e-06]\n"
     ]
    },
    {
     "name": "stderr",
     "output_type": "stream",
     "text": [
      "\u001b[32m[I 2020-11-09 21:07:07,411]\u001b[0m Trial 125 finished with value: -5764.266162532213 and parameters: {'mag': 0.5138505491731788, 'phase': 3.1532215749047823, 'period': 0.23885646740108707}. Best is trial 98 with value: -5826.89951119565.\u001b[0m\n"
     ]
    },
    {
     "name": "stdout",
     "output_type": "stream",
     "text": [
      "[ 1.18213071e-01  2.80715732e-04 -2.59946415e-08] [ 9.99980604e-01 -6.22825676e-03  2.04357705e-06]\n"
     ]
    },
    {
     "name": "stderr",
     "output_type": "stream",
     "text": [
      "\u001b[32m[I 2020-11-09 21:09:04,644]\u001b[0m Trial 126 finished with value: -5700.92436311917 and parameters: {'mag': 0.4924146731306892, 'phase': 3.1499264478221067, 'period': 0.23923416757738214}. Best is trial 98 with value: -5826.89951119565.\u001b[0m\n"
     ]
    },
    {
     "name": "stdout",
     "output_type": "stream",
     "text": [
      "[ 1.18213071e-01  2.80715732e-04 -2.59946415e-08] [ 9.99980604e-01 -6.22825676e-03  2.04357705e-06]\n"
     ]
    },
    {
     "name": "stderr",
     "output_type": "stream",
     "text": [
      "\u001b[32m[I 2020-11-09 21:11:02,350]\u001b[0m Trial 127 finished with value: -5771.512836193182 and parameters: {'mag': 0.5232064937212931, 'phase': 3.174697864782552, 'period': 0.21918621679915265}. Best is trial 98 with value: -5826.89951119565.\u001b[0m\n"
     ]
    },
    {
     "name": "stdout",
     "output_type": "stream",
     "text": [
      "[ 1.18213071e-01  2.80715732e-04 -2.59946415e-08] [ 9.99980604e-01 -6.22825676e-03  2.04357705e-06]\n"
     ]
    },
    {
     "name": "stderr",
     "output_type": "stream",
     "text": [
      "\u001b[32m[I 2020-11-09 21:12:59,404]\u001b[0m Trial 128 finished with value: -5757.198257202398 and parameters: {'mag': 0.4939628393444801, 'phase': 3.1781606865803234, 'period': 0.22601496524267592}. Best is trial 98 with value: -5826.89951119565.\u001b[0m\n"
     ]
    },
    {
     "name": "stdout",
     "output_type": "stream",
     "text": [
      "[ 1.18213071e-01  2.80715732e-04 -2.59946415e-08] [ 9.99980604e-01 -6.22825676e-03  2.04357705e-06]\n"
     ]
    },
    {
     "name": "stderr",
     "output_type": "stream",
     "text": [
      "\u001b[32m[I 2020-11-09 21:14:57,191]\u001b[0m Trial 129 finished with value: -5827.268605557257 and parameters: {'mag': 0.521502798597553, 'phase': 3.159341984468918, 'period': 0.23209104575483047}. Best is trial 129 with value: -5827.268605557257.\u001b[0m\n"
     ]
    },
    {
     "name": "stdout",
     "output_type": "stream",
     "text": [
      "[ 1.18213071e-01  2.80715732e-04 -2.59946415e-08] [ 9.99980604e-01 -6.22825676e-03  2.04357705e-06]\n"
     ]
    },
    {
     "name": "stderr",
     "output_type": "stream",
     "text": [
      "\u001b[32m[I 2020-11-09 21:16:54,607]\u001b[0m Trial 130 finished with value: -5754.0488833066365 and parameters: {'mag': 0.5126858095446799, 'phase': 3.1870508413023693, 'period': 0.23734207042774733}. Best is trial 129 with value: -5827.268605557257.\u001b[0m\n"
     ]
    },
    {
     "name": "stdout",
     "output_type": "stream",
     "text": [
      "[ 1.18213071e-01  2.80715732e-04 -2.59946415e-08] [ 9.99980604e-01 -6.22825676e-03  2.04357705e-06]\n"
     ]
    },
    {
     "name": "stderr",
     "output_type": "stream",
     "text": [
      "\u001b[32m[I 2020-11-09 21:18:52,395]\u001b[0m Trial 131 finished with value: -5713.537540996312 and parameters: {'mag': 0.5165817295856557, 'phase': 3.169750744195963, 'period': 0.25356254781783694}. Best is trial 129 with value: -5827.268605557257.\u001b[0m\n"
     ]
    },
    {
     "name": "stdout",
     "output_type": "stream",
     "text": [
      "[ 1.18213071e-01  2.80715732e-04 -2.59946415e-08] [ 9.99980604e-01 -6.22825676e-03  2.04357705e-06]\n"
     ]
    },
    {
     "name": "stderr",
     "output_type": "stream",
     "text": [
      "\u001b[32m[I 2020-11-09 21:20:49,390]\u001b[0m Trial 132 finished with value: -5801.193391602477 and parameters: {'mag': 0.514265600081544, 'phase': 3.1736706660117218, 'period': 0.22497882138495717}. Best is trial 129 with value: -5827.268605557257.\u001b[0m\n"
     ]
    },
    {
     "name": "stdout",
     "output_type": "stream",
     "text": [
      "[ 1.18213071e-01  2.80715732e-04 -2.59946415e-08] [ 9.99980604e-01 -6.22825676e-03  2.04357705e-06]\n"
     ]
    },
    {
     "name": "stderr",
     "output_type": "stream",
     "text": [
      "\u001b[32m[I 2020-11-09 21:22:47,628]\u001b[0m Trial 133 finished with value: -5778.870238578546 and parameters: {'mag': 0.5123398210287411, 'phase': 3.1678943646353734, 'period': 0.21974075705824223}. Best is trial 129 with value: -5827.268605557257.\u001b[0m\n"
     ]
    },
    {
     "name": "stdout",
     "output_type": "stream",
     "text": [
      "[ 1.18213071e-01  2.80715732e-04 -2.59946415e-08] [ 9.99980604e-01 -6.22825676e-03  2.04357705e-06]\n"
     ]
    },
    {
     "name": "stderr",
     "output_type": "stream",
     "text": [
      "\u001b[32m[I 2020-11-09 21:24:44,613]\u001b[0m Trial 134 finished with value: -5742.3745605141585 and parameters: {'mag': 0.5132616403809779, 'phase': 3.167550072185104, 'period': 0.2142368338598376}. Best is trial 129 with value: -5827.268605557257.\u001b[0m\n"
     ]
    },
    {
     "name": "stdout",
     "output_type": "stream",
     "text": [
      "[ 1.18213071e-01  2.80715732e-04 -2.59946415e-08] [ 9.99980604e-01 -6.22825676e-03  2.04357705e-06]\n"
     ]
    },
    {
     "name": "stderr",
     "output_type": "stream",
     "text": [
      "\u001b[32m[I 2020-11-09 21:26:42,502]\u001b[0m Trial 135 finished with value: -5760.52935317444 and parameters: {'mag': 0.5031254695934632, 'phase': 3.1561240400034136, 'period': 0.21873981615950244}. Best is trial 129 with value: -5827.268605557257.\u001b[0m\n"
     ]
    },
    {
     "name": "stdout",
     "output_type": "stream",
     "text": [
      "[ 1.18213071e-01  2.80715732e-04 -2.59946415e-08] [ 9.99980604e-01 -6.22825676e-03  2.04357705e-06]\n"
     ]
    },
    {
     "name": "stderr",
     "output_type": "stream",
     "text": [
      "\u001b[32m[I 2020-11-09 21:28:39,575]\u001b[0m Trial 136 finished with value: -5753.50170571231 and parameters: {'mag': 0.5162869427551368, 'phase': 3.1656258742904737, 'period': 0.23996088810130473}. Best is trial 129 with value: -5827.268605557257.\u001b[0m\n"
     ]
    },
    {
     "name": "stdout",
     "output_type": "stream",
     "text": [
      "[ 1.18213071e-01  2.80715732e-04 -2.59946415e-08] [ 9.99980604e-01 -6.22825676e-03  2.04357705e-06]\n"
     ]
    },
    {
     "name": "stderr",
     "output_type": "stream",
     "text": [
      "\u001b[32m[I 2020-11-09 21:30:37,322]\u001b[0m Trial 137 finished with value: -5824.659429910081 and parameters: {'mag': 0.5213957972959058, 'phase': 3.1696815845039756, 'period': 0.23128629989346247}. Best is trial 129 with value: -5827.268605557257.\u001b[0m\n"
     ]
    },
    {
     "name": "stdout",
     "output_type": "stream",
     "text": [
      "[ 1.18213071e-01  2.80715732e-04 -2.59946415e-08] [ 9.99980604e-01 -6.22825676e-03  2.04357705e-06]\n"
     ]
    },
    {
     "name": "stderr",
     "output_type": "stream",
     "text": [
      "\u001b[32m[I 2020-11-09 21:32:34,323]\u001b[0m Trial 138 finished with value: -5818.181686917519 and parameters: {'mag': 0.5180234967910439, 'phase': 3.150751222423277, 'period': 0.22811802820491708}. Best is trial 129 with value: -5827.268605557257.\u001b[0m\n"
     ]
    },
    {
     "name": "stdout",
     "output_type": "stream",
     "text": [
      "[ 1.18213071e-01  2.80715732e-04 -2.59946415e-08] [ 9.99980604e-01 -6.22825676e-03  2.04357705e-06]\n"
     ]
    },
    {
     "name": "stderr",
     "output_type": "stream",
     "text": [
      "\u001b[32m[I 2020-11-09 21:34:32,164]\u001b[0m Trial 139 finished with value: -5809.491845649413 and parameters: {'mag': 0.5161662453955824, 'phase': 3.1471182084395632, 'period': 0.23574922332738907}. Best is trial 129 with value: -5827.268605557257.\u001b[0m\n"
     ]
    },
    {
     "name": "stdout",
     "output_type": "stream",
     "text": [
      "[ 1.18213071e-01  2.80715732e-04 -2.59946415e-08] [ 9.99980604e-01 -6.22825676e-03  2.04357705e-06]\n"
     ]
    },
    {
     "name": "stderr",
     "output_type": "stream",
     "text": [
      "\u001b[32m[I 2020-11-09 21:36:29,174]\u001b[0m Trial 140 finished with value: -5779.726074963158 and parameters: {'mag': 0.5028890576897841, 'phase': 3.165826220421928, 'period': 0.22680766738364314}. Best is trial 129 with value: -5827.268605557257.\u001b[0m\n"
     ]
    },
    {
     "name": "stdout",
     "output_type": "stream",
     "text": [
      "[ 1.18213071e-01  2.80715732e-04 -2.59946415e-08] [ 9.99980604e-01 -6.22825676e-03  2.04357705e-06]\n"
     ]
    },
    {
     "name": "stderr",
     "output_type": "stream",
     "text": [
      "\u001b[32m[I 2020-11-09 21:38:26,835]\u001b[0m Trial 141 finished with value: -5680.781352003723 and parameters: {'mag': 0.5125698225237374, 'phase': 3.1351343467631247, 'period': 0.23481446649844603}. Best is trial 129 with value: -5827.268605557257.\u001b[0m\n"
     ]
    },
    {
     "name": "stdout",
     "output_type": "stream",
     "text": [
      "[ 1.18213071e-01  2.80715732e-04 -2.59946415e-08] [ 9.99980604e-01 -6.22825676e-03  2.04357705e-06]\n"
     ]
    },
    {
     "name": "stderr",
     "output_type": "stream",
     "text": [
      "\u001b[32m[I 2020-11-09 21:40:25,257]\u001b[0m Trial 142 finished with value: -5814.21605011612 and parameters: {'mag': 0.5183474549657704, 'phase': 3.161286628130346, 'period': 0.2246694384740505}. Best is trial 129 with value: -5827.268605557257.\u001b[0m\n"
     ]
    },
    {
     "name": "stdout",
     "output_type": "stream",
     "text": [
      "[ 1.18213071e-01  2.80715732e-04 -2.59946415e-08] [ 9.99980604e-01 -6.22825676e-03  2.04357705e-06]\n"
     ]
    },
    {
     "name": "stderr",
     "output_type": "stream",
     "text": [
      "\u001b[32m[I 2020-11-09 21:42:23,025]\u001b[0m Trial 143 finished with value: -5788.671766673239 and parameters: {'mag': 0.5210631711607353, 'phase': 3.163746763429923, 'period': 0.23841559283221028}. Best is trial 129 with value: -5827.268605557257.\u001b[0m\n"
     ]
    },
    {
     "name": "stdout",
     "output_type": "stream",
     "text": [
      "[ 1.18213071e-01  2.80715732e-04 -2.59946415e-08] [ 9.99980604e-01 -6.22825676e-03  2.04357705e-06]\n"
     ]
    },
    {
     "name": "stderr",
     "output_type": "stream",
     "text": [
      "\u001b[32m[I 2020-11-09 21:44:19,974]\u001b[0m Trial 144 finished with value: -5788.970160598094 and parameters: {'mag': 0.5107777318969563, 'phase': 3.145856820714977, 'period': 0.2233186514558092}. Best is trial 129 with value: -5827.268605557257.\u001b[0m\n"
     ]
    },
    {
     "name": "stdout",
     "output_type": "stream",
     "text": [
      "[ 1.18213071e-01  2.80715732e-04 -2.59946415e-08] [ 9.99980604e-01 -6.22825676e-03  2.04357705e-06]\n"
     ]
    },
    {
     "name": "stderr",
     "output_type": "stream",
     "text": [
      "\u001b[32m[I 2020-11-09 21:46:17,832]\u001b[0m Trial 145 finished with value: -5815.5660297000895 and parameters: {'mag': 0.5142401490460389, 'phase': 3.1523800527681862, 'period': 0.23108883451088197}. Best is trial 129 with value: -5827.268605557257.\u001b[0m\n"
     ]
    },
    {
     "name": "stdout",
     "output_type": "stream",
     "text": [
      "[ 1.18213071e-01  2.80715732e-04 -2.59946415e-08] [ 9.99980604e-01 -6.22825676e-03  2.04357705e-06]\n"
     ]
    },
    {
     "name": "stderr",
     "output_type": "stream",
     "text": [
      "\u001b[32m[I 2020-11-09 21:48:14,892]\u001b[0m Trial 146 finished with value: -5787.884782293718 and parameters: {'mag': 0.5093772315940569, 'phase': 3.1551062802922014, 'period': 0.2225881478653886}. Best is trial 129 with value: -5827.268605557257.\u001b[0m\n"
     ]
    },
    {
     "name": "stdout",
     "output_type": "stream",
     "text": [
      "[ 1.18213071e-01  2.80715732e-04 -2.59946415e-08] [ 9.99980604e-01 -6.22825676e-03  2.04357705e-06]\n"
     ]
    },
    {
     "name": "stderr",
     "output_type": "stream",
     "text": [
      "\u001b[32m[I 2020-11-09 21:50:12,613]\u001b[0m Trial 147 finished with value: -5805.195868034642 and parameters: {'mag': 0.5075106006312525, 'phase': 3.1510928193575762, 'period': 0.22571731857911861}. Best is trial 129 with value: -5827.268605557257.\u001b[0m\n"
     ]
    },
    {
     "name": "stdout",
     "output_type": "stream",
     "text": [
      "[ 1.18213071e-01  2.80715732e-04 -2.59946415e-08] [ 9.99980604e-01 -6.22825676e-03  2.04357705e-06]\n"
     ]
    },
    {
     "name": "stderr",
     "output_type": "stream",
     "text": [
      "\u001b[32m[I 2020-11-09 21:52:09,603]\u001b[0m Trial 148 finished with value: -5775.530328796014 and parameters: {'mag': 0.5077321988175112, 'phase': 3.1537210866973746, 'period': 0.23337804889290412}. Best is trial 129 with value: -5827.268605557257.\u001b[0m\n"
     ]
    },
    {
     "name": "stdout",
     "output_type": "stream",
     "text": [
      "[ 1.18213071e-01  2.80715732e-04 -2.59946415e-08] [ 9.99980604e-01 -6.22825676e-03  2.04357705e-06]\n"
     ]
    },
    {
     "name": "stderr",
     "output_type": "stream",
     "text": [
      "\u001b[32m[I 2020-11-09 21:54:07,344]\u001b[0m Trial 149 finished with value: -5794.859926344002 and parameters: {'mag': 0.5123769365422217, 'phase': 3.162165076874048, 'period': 0.22881180675303323}. Best is trial 129 with value: -5827.268605557257.\u001b[0m\n"
     ]
    },
    {
     "name": "stdout",
     "output_type": "stream",
     "text": [
      "[ 1.18213071e-01  2.80715732e-04 -2.59946415e-08] [ 9.99980604e-01 -6.22825676e-03  2.04357705e-06]\n"
     ]
    },
    {
     "name": "stderr",
     "output_type": "stream",
     "text": [
      "\u001b[32m[I 2020-11-09 21:56:04,396]\u001b[0m Trial 150 finished with value: -5804.842404837566 and parameters: {'mag': 0.5144221491290415, 'phase': 3.154108966400291, 'period': 0.2279598312696519}. Best is trial 129 with value: -5827.268605557257.\u001b[0m\n"
     ]
    },
    {
     "name": "stdout",
     "output_type": "stream",
     "text": [
      "[ 1.18213071e-01  2.80715732e-04 -2.59946415e-08] [ 9.99980604e-01 -6.22825676e-03  2.04357705e-06]\n"
     ]
    },
    {
     "name": "stderr",
     "output_type": "stream",
     "text": [
      "\u001b[32m[I 2020-11-09 21:58:02,219]\u001b[0m Trial 151 finished with value: -5756.51692327502 and parameters: {'mag': 0.49852405673301825, 'phase': 3.177575369753387, 'period': 0.22880469105353443}. Best is trial 129 with value: -5827.268605557257.\u001b[0m\n"
     ]
    },
    {
     "name": "stdout",
     "output_type": "stream",
     "text": [
      "[ 1.18213071e-01  2.80715732e-04 -2.59946415e-08] [ 9.99980604e-01 -6.22825676e-03  2.04357705e-06]\n"
     ]
    },
    {
     "name": "stderr",
     "output_type": "stream",
     "text": [
      "\u001b[32m[I 2020-11-09 21:59:59,281]\u001b[0m Trial 152 finished with value: -5802.178225448647 and parameters: {'mag': 0.516213218432062, 'phase': 3.174064244933489, 'period': 0.2319820022950345}. Best is trial 129 with value: -5827.268605557257.\u001b[0m\n"
     ]
    },
    {
     "name": "stdout",
     "output_type": "stream",
     "text": [
      "[ 1.18213071e-01  2.80715732e-04 -2.59946415e-08] [ 9.99980604e-01 -6.22825676e-03  2.04357705e-06]\n"
     ]
    },
    {
     "name": "stderr",
     "output_type": "stream",
     "text": [
      "\u001b[32m[I 2020-11-09 22:01:57,069]\u001b[0m Trial 153 finished with value: -5802.852698014022 and parameters: {'mag': 0.5113392635680033, 'phase': 3.154683418941325, 'period': 0.2291374339724689}. Best is trial 129 with value: -5827.268605557257.\u001b[0m\n"
     ]
    },
    {
     "name": "stdout",
     "output_type": "stream",
     "text": [
      "[ 1.18213071e-01  2.80715732e-04 -2.59946415e-08] [ 9.99980604e-01 -6.22825676e-03  2.04357705e-06]\n"
     ]
    },
    {
     "name": "stderr",
     "output_type": "stream",
     "text": [
      "\u001b[32m[I 2020-11-09 22:03:54,150]\u001b[0m Trial 154 finished with value: -5792.0799944354 and parameters: {'mag': 0.506912073561675, 'phase': 3.1597833980956636, 'period': 0.22976779246566365}. Best is trial 129 with value: -5827.268605557257.\u001b[0m\n"
     ]
    },
    {
     "name": "stdout",
     "output_type": "stream",
     "text": [
      "[ 1.18213071e-01  2.80715732e-04 -2.59946415e-08] [ 9.99980604e-01 -6.22825676e-03  2.04357705e-06]\n"
     ]
    },
    {
     "name": "stderr",
     "output_type": "stream",
     "text": [
      "\u001b[32m[I 2020-11-09 22:05:51,873]\u001b[0m Trial 155 finished with value: -5817.185974118354 and parameters: {'mag': 0.5187221078816596, 'phase': 3.1655463817656813, 'period': 0.2309788205214073}. Best is trial 129 with value: -5827.268605557257.\u001b[0m\n"
     ]
    },
    {
     "name": "stdout",
     "output_type": "stream",
     "text": [
      "[ 1.18213071e-01  2.80715732e-04 -2.59946415e-08] [ 9.99980604e-01 -6.22825676e-03  2.04357705e-06]\n"
     ]
    },
    {
     "name": "stderr",
     "output_type": "stream",
     "text": [
      "\u001b[32m[I 2020-11-09 22:07:48,883]\u001b[0m Trial 156 finished with value: -5797.001613142891 and parameters: {'mag': 0.5073748004174751, 'phase': 3.160392183249171, 'period': 0.2250869452647454}. Best is trial 129 with value: -5827.268605557257.\u001b[0m\n"
     ]
    },
    {
     "name": "stdout",
     "output_type": "stream",
     "text": [
      "[ 1.18213071e-01  2.80715732e-04 -2.59946415e-08] [ 9.99980604e-01 -6.22825676e-03  2.04357705e-06]\n"
     ]
    },
    {
     "name": "stderr",
     "output_type": "stream",
     "text": [
      "\u001b[32m[I 2020-11-09 22:09:46,684]\u001b[0m Trial 157 finished with value: -5797.460648038247 and parameters: {'mag': 0.5136265424475611, 'phase': 3.1581350478610117, 'period': 0.23298848941669326}. Best is trial 129 with value: -5827.268605557257.\u001b[0m\n"
     ]
    },
    {
     "name": "stdout",
     "output_type": "stream",
     "text": [
      "[ 1.18213071e-01  2.80715732e-04 -2.59946415e-08] [ 9.99980604e-01 -6.22825676e-03  2.04357705e-06]\n"
     ]
    },
    {
     "name": "stderr",
     "output_type": "stream",
     "text": [
      "\u001b[32m[I 2020-11-09 22:11:43,787]\u001b[0m Trial 158 finished with value: -5795.64504983676 and parameters: {'mag': 0.5119164001188676, 'phase': 3.157509988434276, 'period': 0.22821394139367748}. Best is trial 129 with value: -5827.268605557257.\u001b[0m\n"
     ]
    },
    {
     "name": "stdout",
     "output_type": "stream",
     "text": [
      "[ 1.18213071e-01  2.80715732e-04 -2.59946415e-08] [ 9.99980604e-01 -6.22825676e-03  2.04357705e-06]\n"
     ]
    },
    {
     "name": "stderr",
     "output_type": "stream",
     "text": [
      "\u001b[32m[I 2020-11-09 22:13:41,550]\u001b[0m Trial 159 finished with value: -5831.854411200388 and parameters: {'mag': 0.5198410270560706, 'phase': 3.152793556031532, 'period': 0.2260481750706975}. Best is trial 159 with value: -5831.854411200388.\u001b[0m\n"
     ]
    },
    {
     "name": "stdout",
     "output_type": "stream",
     "text": [
      "[ 1.18213071e-01  2.80715732e-04 -2.59946415e-08] [ 9.99980604e-01 -6.22825676e-03  2.04357705e-06]\n"
     ]
    },
    {
     "name": "stderr",
     "output_type": "stream",
     "text": [
      "\u001b[32m[I 2020-11-09 22:15:38,634]\u001b[0m Trial 160 finished with value: -5787.82855810379 and parameters: {'mag': 0.5125304665251598, 'phase': 3.1564467620042933, 'period': 0.23541366085465804}. Best is trial 159 with value: -5831.854411200388.\u001b[0m\n"
     ]
    },
    {
     "name": "stdout",
     "output_type": "stream",
     "text": [
      "[ 1.18213071e-01  2.80715732e-04 -2.59946415e-08] [ 9.99980604e-01 -6.22825676e-03  2.04357705e-06]\n"
     ]
    },
    {
     "name": "stderr",
     "output_type": "stream",
     "text": [
      "\u001b[32m[I 2020-11-09 22:17:36,357]\u001b[0m Trial 161 finished with value: -5798.844205288888 and parameters: {'mag': 0.5152196814091508, 'phase': 3.1648460189101186, 'period': 0.2289298121264893}. Best is trial 159 with value: -5831.854411200388.\u001b[0m\n"
     ]
    },
    {
     "name": "stdout",
     "output_type": "stream",
     "text": [
      "[ 1.18213071e-01  2.80715732e-04 -2.59946415e-08] [ 9.99980604e-01 -6.22825676e-03  2.04357705e-06]\n"
     ]
    },
    {
     "name": "stderr",
     "output_type": "stream",
     "text": [
      "\u001b[32m[I 2020-11-09 22:19:33,547]\u001b[0m Trial 162 finished with value: -5825.148475217271 and parameters: {'mag': 0.5185936129766596, 'phase': 3.1535389412896877, 'period': 0.2292132590214282}. Best is trial 159 with value: -5831.854411200388.\u001b[0m\n"
     ]
    },
    {
     "name": "stdout",
     "output_type": "stream",
     "text": [
      "[ 1.18213071e-01  2.80715732e-04 -2.59946415e-08] [ 9.99980604e-01 -6.22825676e-03  2.04357705e-06]\n"
     ]
    },
    {
     "name": "stderr",
     "output_type": "stream",
     "text": [
      "\u001b[32m[I 2020-11-09 22:21:31,534]\u001b[0m Trial 163 finished with value: -5811.470693869067 and parameters: {'mag': 0.5212342361293285, 'phase': 3.1650130745701186, 'period': 0.22433001990038412}. Best is trial 159 with value: -5831.854411200388.\u001b[0m\n"
     ]
    },
    {
     "name": "stdout",
     "output_type": "stream",
     "text": [
      "[ 1.18213071e-01  2.80715732e-04 -2.59946415e-08] [ 9.99980604e-01 -6.22825676e-03  2.04357705e-06]\n"
     ]
    },
    {
     "name": "stderr",
     "output_type": "stream",
     "text": [
      "\u001b[32m[I 2020-11-09 22:23:28,879]\u001b[0m Trial 164 finished with value: -5822.087144680959 and parameters: {'mag': 0.5176859170334205, 'phase': 3.157351197992656, 'period': 0.22645784425424834}. Best is trial 159 with value: -5831.854411200388.\u001b[0m\n"
     ]
    },
    {
     "name": "stdout",
     "output_type": "stream",
     "text": [
      "[ 1.18213071e-01  2.80715732e-04 -2.59946415e-08] [ 9.99980604e-01 -6.22825676e-03  2.04357705e-06]\n"
     ]
    },
    {
     "name": "stderr",
     "output_type": "stream",
     "text": [
      "\u001b[32m[I 2020-11-09 22:25:27,006]\u001b[0m Trial 165 finished with value: -5820.93921234014 and parameters: {'mag': 0.5222091226758911, 'phase': 3.1612745241328364, 'period': 0.22906283227853438}. Best is trial 159 with value: -5831.854411200388.\u001b[0m\n"
     ]
    },
    {
     "name": "stdout",
     "output_type": "stream",
     "text": [
      "[ 1.18213071e-01  2.80715732e-04 -2.59946415e-08] [ 9.99980604e-01 -6.22825676e-03  2.04357705e-06]\n"
     ]
    },
    {
     "name": "stderr",
     "output_type": "stream",
     "text": [
      "\u001b[32m[I 2020-11-09 22:27:24,422]\u001b[0m Trial 166 finished with value: -5817.162197971944 and parameters: {'mag': 0.5138315958925267, 'phase': 3.1481309534989883, 'period': 0.22706286927726646}. Best is trial 159 with value: -5831.854411200388.\u001b[0m\n"
     ]
    },
    {
     "name": "stdout",
     "output_type": "stream",
     "text": [
      "[ 1.18213071e-01  2.80715732e-04 -2.59946415e-08] [ 9.99980604e-01 -6.22825676e-03  2.04357705e-06]\n"
     ]
    },
    {
     "name": "stderr",
     "output_type": "stream",
     "text": [
      "\u001b[32m[I 2020-11-09 22:29:22,646]\u001b[0m Trial 167 finished with value: -5804.080823914424 and parameters: {'mag': 0.5201738875717099, 'phase': 3.147926309341997, 'period': 0.222995940947918}. Best is trial 159 with value: -5831.854411200388.\u001b[0m\n"
     ]
    },
    {
     "name": "stdout",
     "output_type": "stream",
     "text": [
      "[ 1.18213071e-01  2.80715732e-04 -2.59946415e-08] [ 9.99980604e-01 -6.22825676e-03  2.04357705e-06]\n"
     ]
    },
    {
     "name": "stderr",
     "output_type": "stream",
     "text": [
      "\u001b[32m[I 2020-11-09 22:31:20,137]\u001b[0m Trial 168 finished with value: -5814.329044521333 and parameters: {'mag': 0.5149613463170983, 'phase': 3.1436878902301353, 'period': 0.23190205493243482}. Best is trial 159 with value: -5831.854411200388.\u001b[0m\n"
     ]
    },
    {
     "name": "stdout",
     "output_type": "stream",
     "text": [
      "[ 1.18213071e-01  2.80715732e-04 -2.59946415e-08] [ 9.99980604e-01 -6.22825676e-03  2.04357705e-06]\n"
     ]
    },
    {
     "name": "stderr",
     "output_type": "stream",
     "text": [
      "\u001b[32m[I 2020-11-09 22:33:18,273]\u001b[0m Trial 169 finished with value: -5812.780897455926 and parameters: {'mag': 0.515596077733334, 'phase': 3.1488578422862075, 'period': 0.22866943540400336}. Best is trial 159 with value: -5831.854411200388.\u001b[0m\n"
     ]
    },
    {
     "name": "stdout",
     "output_type": "stream",
     "text": [
      "[ 1.18213071e-01  2.80715732e-04 -2.59946415e-08] [ 9.99980604e-01 -6.22825676e-03  2.04357705e-06]\n"
     ]
    },
    {
     "name": "stderr",
     "output_type": "stream",
     "text": [
      "\u001b[32m[I 2020-11-09 22:35:15,763]\u001b[0m Trial 170 finished with value: -5814.644090712136 and parameters: {'mag': 0.5139614426303462, 'phase': 3.1515043982075075, 'period': 0.2292002140178157}. Best is trial 159 with value: -5831.854411200388.\u001b[0m\n"
     ]
    },
    {
     "name": "stdout",
     "output_type": "stream",
     "text": [
      "[ 1.18213071e-01  2.80715732e-04 -2.59946415e-08] [ 9.99980604e-01 -6.22825676e-03  2.04357705e-06]\n"
     ]
    },
    {
     "name": "stderr",
     "output_type": "stream",
     "text": [
      "\u001b[32m[I 2020-11-09 22:37:14,041]\u001b[0m Trial 171 finished with value: -5807.302769126027 and parameters: {'mag': 0.5113930016493646, 'phase': 3.153731984477425, 'period': 0.2251894822017685}. Best is trial 159 with value: -5831.854411200388.\u001b[0m\n"
     ]
    },
    {
     "name": "stdout",
     "output_type": "stream",
     "text": [
      "[ 1.18213071e-01  2.80715732e-04 -2.59946415e-08] [ 9.99980604e-01 -6.22825676e-03  2.04357705e-06]\n"
     ]
    },
    {
     "name": "stderr",
     "output_type": "stream",
     "text": [
      "\u001b[32m[I 2020-11-09 22:39:11,644]\u001b[0m Trial 172 finished with value: -5810.438724769667 and parameters: {'mag': 0.514377816231153, 'phase': 3.1596409858875774, 'period': 0.22577936865202813}. Best is trial 159 with value: -5831.854411200388.\u001b[0m\n"
     ]
    },
    {
     "name": "stdout",
     "output_type": "stream",
     "text": [
      "[ 1.18213071e-01  2.80715732e-04 -2.59946415e-08] [ 9.99980604e-01 -6.22825676e-03  2.04357705e-06]\n"
     ]
    },
    {
     "name": "stderr",
     "output_type": "stream",
     "text": [
      "\u001b[32m[I 2020-11-09 22:41:09,916]\u001b[0m Trial 173 finished with value: -5818.318997628247 and parameters: {'mag': 0.5178386145510194, 'phase': 3.1552338789045553, 'period': 0.22893440846483126}. Best is trial 159 with value: -5831.854411200388.\u001b[0m\n"
     ]
    },
    {
     "name": "stdout",
     "output_type": "stream",
     "text": [
      "[ 1.18213071e-01  2.80715732e-04 -2.59946415e-08] [ 9.99980604e-01 -6.22825676e-03  2.04357705e-06]\n"
     ]
    },
    {
     "name": "stderr",
     "output_type": "stream",
     "text": [
      "\u001b[32m[I 2020-11-09 22:43:07,501]\u001b[0m Trial 174 finished with value: -5814.91815265681 and parameters: {'mag': 0.5155038479864696, 'phase': 3.1594549312517657, 'period': 0.22631951576139114}. Best is trial 159 with value: -5831.854411200388.\u001b[0m\n"
     ]
    },
    {
     "name": "stdout",
     "output_type": "stream",
     "text": [
      "[ 1.18213071e-01  2.80715732e-04 -2.59946415e-08] [ 9.99980604e-01 -6.22825676e-03  2.04357705e-06]\n"
     ]
    },
    {
     "name": "stderr",
     "output_type": "stream",
     "text": [
      "\u001b[32m[I 2020-11-09 22:45:05,842]\u001b[0m Trial 175 finished with value: -5824.950029503461 and parameters: {'mag': 0.522832324486354, 'phase': 3.1578964836222254, 'period': 0.22751867739482187}. Best is trial 159 with value: -5831.854411200388.\u001b[0m\n"
     ]
    },
    {
     "name": "stdout",
     "output_type": "stream",
     "text": [
      "[ 1.18213071e-01  2.80715732e-04 -2.59946415e-08] [ 9.99980604e-01 -6.22825676e-03  2.04357705e-06]\n"
     ]
    },
    {
     "name": "stderr",
     "output_type": "stream",
     "text": [
      "\u001b[32m[I 2020-11-09 22:47:03,464]\u001b[0m Trial 176 finished with value: -5823.618152180402 and parameters: {'mag': 0.522188711163334, 'phase': 3.160461102028126, 'period': 0.2247520967795974}. Best is trial 159 with value: -5831.854411200388.\u001b[0m\n"
     ]
    },
    {
     "name": "stdout",
     "output_type": "stream",
     "text": [
      "[ 1.18213071e-01  2.80715732e-04 -2.59946415e-08] [ 9.99980604e-01 -6.22825676e-03  2.04357705e-06]\n"
     ]
    },
    {
     "name": "stderr",
     "output_type": "stream",
     "text": [
      "\u001b[32m[I 2020-11-09 22:49:01,879]\u001b[0m Trial 177 finished with value: -5815.099865191913 and parameters: {'mag': 0.5182654802385795, 'phase': 3.1610914803076104, 'period': 0.22762695585735596}. Best is trial 159 with value: -5831.854411200388.\u001b[0m\n"
     ]
    },
    {
     "name": "stdout",
     "output_type": "stream",
     "text": [
      "[ 1.18213071e-01  2.80715732e-04 -2.59946415e-08] [ 9.99980604e-01 -6.22825676e-03  2.04357705e-06]\n"
     ]
    },
    {
     "name": "stderr",
     "output_type": "stream",
     "text": [
      "\u001b[32m[I 2020-11-09 22:50:59,454]\u001b[0m Trial 178 finished with value: -5825.961924261788 and parameters: {'mag': 0.5179624364907153, 'phase': 3.1594981848506376, 'period': 0.23042744454271963}. Best is trial 159 with value: -5831.854411200388.\u001b[0m\n"
     ]
    },
    {
     "name": "stdout",
     "output_type": "stream",
     "text": [
      "[ 1.18213071e-01  2.80715732e-04 -2.59946415e-08] [ 9.99980604e-01 -6.22825676e-03  2.04357705e-06]\n"
     ]
    },
    {
     "name": "stderr",
     "output_type": "stream",
     "text": [
      "\u001b[32m[I 2020-11-09 22:52:57,539]\u001b[0m Trial 179 finished with value: -5824.881161235374 and parameters: {'mag': 0.5188554938772966, 'phase': 3.1534398117711944, 'period': 0.2273870174419634}. Best is trial 159 with value: -5831.854411200388.\u001b[0m\n"
     ]
    },
    {
     "name": "stdout",
     "output_type": "stream",
     "text": [
      "[ 1.18213071e-01  2.80715732e-04 -2.59946415e-08] [ 9.99980604e-01 -6.22825676e-03  2.04357705e-06]\n"
     ]
    },
    {
     "name": "stderr",
     "output_type": "stream",
     "text": [
      "\u001b[32m[I 2020-11-09 22:54:54,953]\u001b[0m Trial 180 finished with value: -5818.691573554801 and parameters: {'mag': 0.5163808406827357, 'phase': 3.156763706507913, 'period': 0.22643305510685088}. Best is trial 159 with value: -5831.854411200388.\u001b[0m\n"
     ]
    },
    {
     "name": "stdout",
     "output_type": "stream",
     "text": [
      "[ 1.18213071e-01  2.80715732e-04 -2.59946415e-08] [ 9.99980604e-01 -6.22825676e-03  2.04357705e-06]\n"
     ]
    },
    {
     "name": "stderr",
     "output_type": "stream",
     "text": [
      "\u001b[32m[I 2020-11-09 22:56:53,132]\u001b[0m Trial 181 finished with value: -5820.342887799309 and parameters: {'mag': 0.52315249989692, 'phase': 3.1637772998101616, 'period': 0.22919299455963585}. Best is trial 159 with value: -5831.854411200388.\u001b[0m\n"
     ]
    },
    {
     "name": "stdout",
     "output_type": "stream",
     "text": [
      "[ 1.18213071e-01  2.80715732e-04 -2.59946415e-08] [ 9.99980604e-01 -6.22825676e-03  2.04357705e-06]\n"
     ]
    },
    {
     "name": "stderr",
     "output_type": "stream",
     "text": [
      "\u001b[32m[I 2020-11-09 22:58:50,503]\u001b[0m Trial 182 finished with value: -5816.061905874664 and parameters: {'mag': 0.5201031755450021, 'phase': 3.1586278670451575, 'period': 0.2283762050872967}. Best is trial 159 with value: -5831.854411200388.\u001b[0m\n"
     ]
    },
    {
     "name": "stdout",
     "output_type": "stream",
     "text": [
      "[ 1.18213071e-01  2.80715732e-04 -2.59946415e-08] [ 9.99980604e-01 -6.22825676e-03  2.04357705e-06]\n"
     ]
    },
    {
     "name": "stderr",
     "output_type": "stream",
     "text": [
      "\u001b[32m[I 2020-11-09 23:00:48,634]\u001b[0m Trial 183 finished with value: -5832.810362620418 and parameters: {'mag': 0.5200787966822451, 'phase': 3.158184877929139, 'period': 0.22993269172646136}. Best is trial 183 with value: -5832.810362620418.\u001b[0m\n"
     ]
    },
    {
     "name": "stdout",
     "output_type": "stream",
     "text": [
      "[ 1.18213071e-01  2.80715732e-04 -2.59946415e-08] [ 9.99980604e-01 -6.22825676e-03  2.04357705e-06]\n"
     ]
    },
    {
     "name": "stderr",
     "output_type": "stream",
     "text": [
      "\u001b[32m[I 2020-11-09 23:02:46,101]\u001b[0m Trial 184 finished with value: -5808.85518348852 and parameters: {'mag': 0.515587076274817, 'phase': 3.155321337197235, 'period': 0.228588335063871}. Best is trial 183 with value: -5832.810362620418.\u001b[0m\n"
     ]
    },
    {
     "name": "stdout",
     "output_type": "stream",
     "text": [
      "[ 1.18213071e-01  2.80715732e-04 -2.59946415e-08] [ 9.99980604e-01 -6.22825676e-03  2.04357705e-06]\n"
     ]
    },
    {
     "name": "stderr",
     "output_type": "stream",
     "text": [
      "\u001b[32m[I 2020-11-09 23:04:44,500]\u001b[0m Trial 185 finished with value: -5820.462249201055 and parameters: {'mag': 0.5189093096678101, 'phase': 3.1580301179936527, 'period': 0.22910809288533984}. Best is trial 183 with value: -5832.810362620418.\u001b[0m\n"
     ]
    },
    {
     "name": "stdout",
     "output_type": "stream",
     "text": [
      "[ 1.18213071e-01  2.80715732e-04 -2.59946415e-08] [ 9.99980604e-01 -6.22825676e-03  2.04357705e-06]\n"
     ]
    },
    {
     "name": "stderr",
     "output_type": "stream",
     "text": [
      "\u001b[32m[I 2020-11-09 23:06:41,965]\u001b[0m Trial 186 finished with value: -5823.367572079564 and parameters: {'mag': 0.5186048215334358, 'phase': 3.158386726666272, 'period': 0.2268221976849614}. Best is trial 183 with value: -5832.810362620418.\u001b[0m\n"
     ]
    },
    {
     "name": "stdout",
     "output_type": "stream",
     "text": [
      "[ 1.18213071e-01  2.80715732e-04 -2.59946415e-08] [ 9.99980604e-01 -6.22825676e-03  2.04357705e-06]\n"
     ]
    },
    {
     "name": "stderr",
     "output_type": "stream",
     "text": [
      "\u001b[32m[I 2020-11-09 23:08:40,174]\u001b[0m Trial 187 finished with value: -5812.88159454025 and parameters: {'mag': 0.5176845957469012, 'phase': 3.1557214309258255, 'period': 0.22845248029229073}. Best is trial 183 with value: -5832.810362620418.\u001b[0m\n"
     ]
    },
    {
     "name": "stdout",
     "output_type": "stream",
     "text": [
      "[ 1.18213071e-01  2.80715732e-04 -2.59946415e-08] [ 9.99980604e-01 -6.22825676e-03  2.04357705e-06]\n"
     ]
    },
    {
     "name": "stderr",
     "output_type": "stream",
     "text": [
      "\u001b[32m[I 2020-11-09 23:10:37,688]\u001b[0m Trial 188 finished with value: -5822.131430306343 and parameters: {'mag': 0.5162562352454148, 'phase': 3.1548031712113844, 'period': 0.22981319600451608}. Best is trial 183 with value: -5832.810362620418.\u001b[0m\n"
     ]
    },
    {
     "name": "stdout",
     "output_type": "stream",
     "text": [
      "[ 1.18213071e-01  2.80715732e-04 -2.59946415e-08] [ 9.99980604e-01 -6.22825676e-03  2.04357705e-06]\n"
     ]
    },
    {
     "name": "stderr",
     "output_type": "stream",
     "text": [
      "\u001b[32m[I 2020-11-09 23:12:36,637]\u001b[0m Trial 189 finished with value: -5810.619257607408 and parameters: {'mag': 0.5179703134030198, 'phase': 3.1594373169697785, 'period': 0.22806261094074057}. Best is trial 183 with value: -5832.810362620418.\u001b[0m\n"
     ]
    },
    {
     "name": "stdout",
     "output_type": "stream",
     "text": [
      "[ 1.18213071e-01  2.80715732e-04 -2.59946415e-08] [ 9.99980604e-01 -6.22825676e-03  2.04357705e-06]\n"
     ]
    },
    {
     "name": "stderr",
     "output_type": "stream",
     "text": [
      "\u001b[32m[I 2020-11-09 23:14:34,096]\u001b[0m Trial 190 finished with value: -5823.952059605284 and parameters: {'mag': 0.5200141582085731, 'phase': 3.1597234046906397, 'period': 0.2291947959340522}. Best is trial 183 with value: -5832.810362620418.\u001b[0m\n"
     ]
    },
    {
     "name": "stdout",
     "output_type": "stream",
     "text": [
      "[ 1.18213071e-01  2.80715732e-04 -2.59946415e-08] [ 9.99980604e-01 -6.22825676e-03  2.04357705e-06]\n"
     ]
    },
    {
     "name": "stderr",
     "output_type": "stream",
     "text": [
      "\u001b[32m[I 2020-11-09 23:16:32,339]\u001b[0m Trial 191 finished with value: -5807.9631074844565 and parameters: {'mag': 0.51549870917967, 'phase': 3.15537838551907, 'period': 0.228280633159327}. Best is trial 183 with value: -5832.810362620418.\u001b[0m\n"
     ]
    },
    {
     "name": "stdout",
     "output_type": "stream",
     "text": [
      "[ 1.18213071e-01  2.80715732e-04 -2.59946415e-08] [ 9.99980604e-01 -6.22825676e-03  2.04357705e-06]\n"
     ]
    },
    {
     "name": "stderr",
     "output_type": "stream",
     "text": [
      "\u001b[32m[I 2020-11-09 23:18:29,901]\u001b[0m Trial 192 finished with value: -5822.987722804143 and parameters: {'mag': 0.5202183488886958, 'phase': 3.155884148130115, 'period': 0.22778207654470392}. Best is trial 183 with value: -5832.810362620418.\u001b[0m\n"
     ]
    },
    {
     "name": "stdout",
     "output_type": "stream",
     "text": [
      "[ 1.18213071e-01  2.80715732e-04 -2.59946415e-08] [ 9.99980604e-01 -6.22825676e-03  2.04357705e-06]\n"
     ]
    },
    {
     "name": "stderr",
     "output_type": "stream",
     "text": [
      "\u001b[32m[I 2020-11-09 23:20:28,074]\u001b[0m Trial 193 finished with value: -5820.753197967961 and parameters: {'mag': 0.5179109449192224, 'phase': 3.1574436495309928, 'period': 0.2279742968782586}. Best is trial 183 with value: -5832.810362620418.\u001b[0m\n"
     ]
    },
    {
     "name": "stdout",
     "output_type": "stream",
     "text": [
      "[ 1.18213071e-01  2.80715732e-04 -2.59946415e-08] [ 9.99980604e-01 -6.22825676e-03  2.04357705e-06]\n"
     ]
    },
    {
     "name": "stderr",
     "output_type": "stream",
     "text": [
      "\u001b[32m[I 2020-11-09 23:22:25,475]\u001b[0m Trial 194 finished with value: -5814.130660221875 and parameters: {'mag': 0.5181596639119871, 'phase': 3.1541848659587055, 'period': 0.2284040093543118}. Best is trial 183 with value: -5832.810362620418.\u001b[0m\n"
     ]
    },
    {
     "name": "stdout",
     "output_type": "stream",
     "text": [
      "[ 1.18213071e-01  2.80715732e-04 -2.59946415e-08] [ 9.99980604e-01 -6.22825676e-03  2.04357705e-06]\n"
     ]
    },
    {
     "name": "stderr",
     "output_type": "stream",
     "text": [
      "\u001b[32m[I 2020-11-09 23:24:23,734]\u001b[0m Trial 195 finished with value: -5834.976283468258 and parameters: {'mag': 0.5207215701566287, 'phase': 3.1548049113917305, 'period': 0.23075957354791402}. Best is trial 195 with value: -5834.976283468258.\u001b[0m\n"
     ]
    },
    {
     "name": "stdout",
     "output_type": "stream",
     "text": [
      "[ 1.18213071e-01  2.80715732e-04 -2.59946415e-08] [ 9.99980604e-01 -6.22825676e-03  2.04357705e-06]\n"
     ]
    },
    {
     "name": "stderr",
     "output_type": "stream",
     "text": [
      "\u001b[32m[I 2020-11-09 23:26:21,339]\u001b[0m Trial 196 finished with value: -5817.011215001233 and parameters: {'mag': 0.518669330092189, 'phase': 3.154567319774661, 'period': 0.22864997742990195}. Best is trial 195 with value: -5834.976283468258.\u001b[0m\n"
     ]
    },
    {
     "name": "stdout",
     "output_type": "stream",
     "text": [
      "[ 1.18213071e-01  2.80715732e-04 -2.59946415e-08] [ 9.99980604e-01 -6.22825676e-03  2.04357705e-06]\n"
     ]
    },
    {
     "name": "stderr",
     "output_type": "stream",
     "text": [
      "\u001b[32m[I 2020-11-09 23:28:19,515]\u001b[0m Trial 197 finished with value: -5839.254879185228 and parameters: {'mag': 0.522220442693732, 'phase': 3.153250667265625, 'period': 0.2298116053089547}. Best is trial 197 with value: -5839.254879185228.\u001b[0m\n"
     ]
    },
    {
     "name": "stdout",
     "output_type": "stream",
     "text": [
      "[ 1.18213071e-01  2.80715732e-04 -2.59946415e-08] [ 9.99980604e-01 -6.22825676e-03  2.04357705e-06]\n"
     ]
    },
    {
     "name": "stderr",
     "output_type": "stream",
     "text": [
      "\u001b[32m[I 2020-11-09 23:30:17,022]\u001b[0m Trial 198 finished with value: -5831.557900116414 and parameters: {'mag': 0.5206241182527949, 'phase': 3.156392789075012, 'period': 0.23225142005343208}. Best is trial 197 with value: -5839.254879185228.\u001b[0m\n"
     ]
    },
    {
     "name": "stdout",
     "output_type": "stream",
     "text": [
      "[ 1.18213071e-01  2.80715732e-04 -2.59946415e-08] [ 9.99980604e-01 -6.22825676e-03  2.04357705e-06]\n"
     ]
    },
    {
     "name": "stderr",
     "output_type": "stream",
     "text": [
      "\u001b[32m[I 2020-11-09 23:32:15,263]\u001b[0m Trial 199 finished with value: -5822.798960542728 and parameters: {'mag': 0.5165858655854937, 'phase': 3.1518469876435686, 'period': 0.23122846051524318}. Best is trial 197 with value: -5839.254879185228.\u001b[0m\n"
     ]
    },
    {
     "name": "stdout",
     "output_type": "stream",
     "text": [
      "[ 1.18213071e-01  2.80715732e-04 -2.59946415e-08] [ 9.99980604e-01 -6.22825676e-03  2.04357705e-06]\n"
     ]
    },
    {
     "name": "stderr",
     "output_type": "stream",
     "text": [
      "\u001b[32m[I 2020-11-09 23:34:12,861]\u001b[0m Trial 200 finished with value: -5819.349496072435 and parameters: {'mag': 0.5198105856596177, 'phase': 3.157186718361301, 'period': 0.22874796209632015}. Best is trial 197 with value: -5839.254879185228.\u001b[0m\n"
     ]
    },
    {
     "name": "stdout",
     "output_type": "stream",
     "text": [
      "[ 1.18213071e-01  2.80715732e-04 -2.59946415e-08] [ 9.99980604e-01 -6.22825676e-03  2.04357705e-06]\n"
     ]
    },
    {
     "name": "stderr",
     "output_type": "stream",
     "text": [
      "\u001b[32m[I 2020-11-09 23:36:11,178]\u001b[0m Trial 201 finished with value: -5832.4256824624745 and parameters: {'mag': 0.5200060431430131, 'phase': 3.158065503787663, 'period': 0.23142142859138287}. Best is trial 197 with value: -5839.254879185228.\u001b[0m\n"
     ]
    },
    {
     "name": "stdout",
     "output_type": "stream",
     "text": [
      "[ 1.18213071e-01  2.80715732e-04 -2.59946415e-08] [ 9.99980604e-01 -6.22825676e-03  2.04357705e-06]\n"
     ]
    },
    {
     "name": "stderr",
     "output_type": "stream",
     "text": [
      "\u001b[32m[I 2020-11-09 23:38:08,807]\u001b[0m Trial 202 finished with value: -5837.717582321049 and parameters: {'mag': 0.5204223681512915, 'phase': 3.1550764323500284, 'period': 0.23028519272914383}. Best is trial 197 with value: -5839.254879185228.\u001b[0m\n"
     ]
    },
    {
     "name": "stdout",
     "output_type": "stream",
     "text": [
      "[ 1.18213071e-01  2.80715732e-04 -2.59946415e-08] [ 9.99980604e-01 -6.22825676e-03  2.04357705e-06]\n"
     ]
    },
    {
     "name": "stderr",
     "output_type": "stream",
     "text": [
      "\u001b[32m[I 2020-11-09 23:40:06,862]\u001b[0m Trial 203 finished with value: -5837.930436194625 and parameters: {'mag': 0.5226909731406563, 'phase': 3.1559322147001723, 'period': 0.2300913524313467}. Best is trial 197 with value: -5839.254879185228.\u001b[0m\n"
     ]
    },
    {
     "name": "stdout",
     "output_type": "stream",
     "text": [
      "[ 1.18213071e-01  2.80715732e-04 -2.59946415e-08] [ 9.99980604e-01 -6.22825676e-03  2.04357705e-06]\n"
     ]
    },
    {
     "name": "stderr",
     "output_type": "stream",
     "text": [
      "\u001b[32m[I 2020-11-09 23:42:04,518]\u001b[0m Trial 204 finished with value: -5840.748527363051 and parameters: {'mag': 0.5223125393556991, 'phase': 3.1504642731230295, 'period': 0.23090856123902498}. Best is trial 204 with value: -5840.748527363051.\u001b[0m\n"
     ]
    },
    {
     "name": "stdout",
     "output_type": "stream",
     "text": [
      "[ 1.18213071e-01  2.80715732e-04 -2.59946415e-08] [ 9.99980604e-01 -6.22825676e-03  2.04357705e-06]\n"
     ]
    },
    {
     "name": "stderr",
     "output_type": "stream",
     "text": [
      "\u001b[32m[I 2020-11-09 23:44:02,926]\u001b[0m Trial 205 finished with value: -5835.223231776601 and parameters: {'mag': 0.5211947816796455, 'phase': 3.1514050339641217, 'period': 0.23122508525224972}. Best is trial 204 with value: -5840.748527363051.\u001b[0m\n"
     ]
    },
    {
     "name": "stdout",
     "output_type": "stream",
     "text": [
      "[ 1.18213071e-01  2.80715732e-04 -2.59946415e-08] [ 9.99980604e-01 -6.22825676e-03  2.04357705e-06]\n"
     ]
    },
    {
     "name": "stderr",
     "output_type": "stream",
     "text": [
      "\u001b[32m[I 2020-11-09 23:46:00,603]\u001b[0m Trial 206 finished with value: -5824.90080872643 and parameters: {'mag': 0.5197177255711549, 'phase': 3.1542084818063536, 'period': 0.2290457696848272}. Best is trial 204 with value: -5840.748527363051.\u001b[0m\n"
     ]
    },
    {
     "name": "stdout",
     "output_type": "stream",
     "text": [
      "[ 1.18213071e-01  2.80715732e-04 -2.59946415e-08] [ 9.99980604e-01 -6.22825676e-03  2.04357705e-06]\n"
     ]
    },
    {
     "name": "stderr",
     "output_type": "stream",
     "text": [
      "\u001b[32m[I 2020-11-09 23:47:58,667]\u001b[0m Trial 207 finished with value: -5833.224176035047 and parameters: {'mag': 0.5194090481574722, 'phase': 3.1531055101152337, 'period': 0.23040196242630398}. Best is trial 204 with value: -5840.748527363051.\u001b[0m\n"
     ]
    },
    {
     "name": "stdout",
     "output_type": "stream",
     "text": [
      "[ 1.18213071e-01  2.80715732e-04 -2.59946415e-08] [ 9.99980604e-01 -6.22825676e-03  2.04357705e-06]\n"
     ]
    },
    {
     "name": "stderr",
     "output_type": "stream",
     "text": [
      "\u001b[32m[I 2020-11-09 23:49:56,652]\u001b[0m Trial 208 finished with value: -5832.418522614665 and parameters: {'mag': 0.5233972261311575, 'phase': 3.1556845117215526, 'period': 0.2312989986630165}. Best is trial 204 with value: -5840.748527363051.\u001b[0m\n"
     ]
    },
    {
     "name": "stdout",
     "output_type": "stream",
     "text": [
      "[ 1.18213071e-01  2.80715732e-04 -2.59946415e-08] [ 9.99980604e-01 -6.22825676e-03  2.04357705e-06]\n"
     ]
    },
    {
     "name": "stderr",
     "output_type": "stream",
     "text": [
      "\u001b[32m[I 2020-11-09 23:51:54,637]\u001b[0m Trial 209 finished with value: -5830.208660511711 and parameters: {'mag': 0.5211899483730489, 'phase': 3.1566896202695682, 'period': 0.23159554598256396}. Best is trial 204 with value: -5840.748527363051.\u001b[0m\n"
     ]
    },
    {
     "name": "stdout",
     "output_type": "stream",
     "text": [
      "[ 1.18213071e-01  2.80715732e-04 -2.59946415e-08] [ 9.99980604e-01 -6.22825676e-03  2.04357705e-06]\n"
     ]
    },
    {
     "name": "stderr",
     "output_type": "stream",
     "text": [
      "\u001b[32m[I 2020-11-09 23:53:52,183]\u001b[0m Trial 210 finished with value: -5827.892014426003 and parameters: {'mag': 0.5202243020088178, 'phase': 3.153457566899017, 'period': 0.2327365890248458}. Best is trial 204 with value: -5840.748527363051.\u001b[0m\n"
     ]
    },
    {
     "name": "stdout",
     "output_type": "stream",
     "text": [
      "[ 1.18213071e-01  2.80715732e-04 -2.59946415e-08] [ 9.99980604e-01 -6.22825676e-03  2.04357705e-06]\n"
     ]
    },
    {
     "name": "stderr",
     "output_type": "stream",
     "text": [
      "\u001b[32m[I 2020-11-09 23:55:49,995]\u001b[0m Trial 211 finished with value: -5838.844840161281 and parameters: {'mag': 0.5230469037873677, 'phase': 3.1502151105486536, 'period': 0.2319447611244138}. Best is trial 204 with value: -5840.748527363051.\u001b[0m\n"
     ]
    },
    {
     "name": "stdout",
     "output_type": "stream",
     "text": [
      "[ 1.18213071e-01  2.80715732e-04 -2.59946415e-08] [ 9.99980604e-01 -6.22825676e-03  2.04357705e-06]\n"
     ]
    },
    {
     "name": "stderr",
     "output_type": "stream",
     "text": [
      "\u001b[32m[I 2020-11-09 23:57:47,501]\u001b[0m Trial 212 finished with value: -5830.699986670596 and parameters: {'mag': 0.5202857459210031, 'phase': 3.1517723114390717, 'period': 0.23209818384249525}. Best is trial 204 with value: -5840.748527363051.\u001b[0m\n"
     ]
    },
    {
     "name": "stdout",
     "output_type": "stream",
     "text": [
      "[ 1.18213071e-01  2.80715732e-04 -2.59946415e-08] [ 9.99980604e-01 -6.22825676e-03  2.04357705e-06]\n"
     ]
    },
    {
     "name": "stderr",
     "output_type": "stream",
     "text": [
      "\u001b[32m[I 2020-11-09 23:59:45,436]\u001b[0m Trial 213 finished with value: -5837.228024416492 and parameters: {'mag': 0.5211453543493116, 'phase': 3.1551055851387138, 'period': 0.23192606314751996}. Best is trial 204 with value: -5840.748527363051.\u001b[0m\n"
     ]
    },
    {
     "name": "stdout",
     "output_type": "stream",
     "text": [
      "[ 1.18213071e-01  2.80715732e-04 -2.59946415e-08] [ 9.99980604e-01 -6.22825676e-03  2.04357705e-06]\n"
     ]
    },
    {
     "name": "stderr",
     "output_type": "stream",
     "text": [
      "\u001b[32m[I 2020-11-10 00:01:43,086]\u001b[0m Trial 214 finished with value: -5841.137597690697 and parameters: {'mag': 0.5213061505825202, 'phase': 3.151353378822584, 'period': 0.2298368536938363}. Best is trial 214 with value: -5841.137597690697.\u001b[0m\n"
     ]
    },
    {
     "name": "stdout",
     "output_type": "stream",
     "text": [
      "[ 1.18213071e-01  2.80715732e-04 -2.59946415e-08] [ 9.99980604e-01 -6.22825676e-03  2.04357705e-06]\n"
     ]
    },
    {
     "name": "stderr",
     "output_type": "stream",
     "text": [
      "\u001b[32m[I 2020-11-10 00:03:41,038]\u001b[0m Trial 215 finished with value: -5824.914752149799 and parameters: {'mag': 0.5176492206522043, 'phase': 3.155172831911082, 'period': 0.23135284563054187}. Best is trial 214 with value: -5841.137597690697.\u001b[0m\n"
     ]
    },
    {
     "name": "stdout",
     "output_type": "stream",
     "text": [
      "[ 1.18213071e-01  2.80715732e-04 -2.59946415e-08] [ 9.99980604e-01 -6.22825676e-03  2.04357705e-06]\n"
     ]
    },
    {
     "name": "stderr",
     "output_type": "stream",
     "text": [
      "\u001b[32m[I 2020-11-10 00:05:39,124]\u001b[0m Trial 216 finished with value: -5849.7983069813945 and parameters: {'mag': 0.5227483088931918, 'phase': 3.1444624152893237, 'period': 0.23079024027529732}. Best is trial 216 with value: -5849.7983069813945.\u001b[0m\n"
     ]
    },
    {
     "name": "stdout",
     "output_type": "stream",
     "text": [
      "[ 1.18213071e-01  2.80715732e-04 -2.59946415e-08] [ 9.99980604e-01 -6.22825676e-03  2.04357705e-06]\n"
     ]
    },
    {
     "name": "stderr",
     "output_type": "stream",
     "text": [
      "\u001b[32m[I 2020-11-10 00:07:37,173]\u001b[0m Trial 217 finished with value: -5702.173690850086 and parameters: {'mag': 0.523116304548658, 'phase': 3.141421525766947, 'period': 0.23348264766391288}. Best is trial 216 with value: -5849.7983069813945.\u001b[0m\n"
     ]
    },
    {
     "name": "stdout",
     "output_type": "stream",
     "text": [
      "[ 1.18213071e-01  2.80715732e-04 -2.59946415e-08] [ 9.99980604e-01 -6.22825676e-03  2.04357705e-06]\n"
     ]
    },
    {
     "name": "stderr",
     "output_type": "stream",
     "text": [
      "\u001b[32m[I 2020-11-10 00:09:34,847]\u001b[0m Trial 218 finished with value: -5825.900232128796 and parameters: {'mag': 0.5231781202075106, 'phase': 3.1475907183363376, 'period': 0.233337441804721}. Best is trial 216 with value: -5849.7983069813945.\u001b[0m\n"
     ]
    },
    {
     "name": "stdout",
     "output_type": "stream",
     "text": [
      "[ 1.18213071e-01  2.80715732e-04 -2.59946415e-08] [ 9.99980604e-01 -6.22825676e-03  2.04357705e-06]\n"
     ]
    },
    {
     "name": "stderr",
     "output_type": "stream",
     "text": [
      "\u001b[32m[I 2020-11-10 00:11:32,928]\u001b[0m Trial 219 finished with value: -5823.432815458407 and parameters: {'mag': 0.5179086616845491, 'phase': 3.1548480919418966, 'period': 0.22723637228552554}. Best is trial 216 with value: -5849.7983069813945.\u001b[0m\n"
     ]
    },
    {
     "name": "stdout",
     "output_type": "stream",
     "text": [
      "[ 1.18213071e-01  2.80715732e-04 -2.59946415e-08] [ 9.99980604e-01 -6.22825676e-03  2.04357705e-06]\n"
     ]
    },
    {
     "name": "stderr",
     "output_type": "stream",
     "text": [
      "\u001b[32m[I 2020-11-10 00:13:30,654]\u001b[0m Trial 220 finished with value: -5830.766689369035 and parameters: {'mag': 0.517473686843344, 'phase': 3.1499691072506653, 'period': 0.23083249267773945}. Best is trial 216 with value: -5849.7983069813945.\u001b[0m\n"
     ]
    },
    {
     "name": "stdout",
     "output_type": "stream",
     "text": [
      "[ 1.18213071e-01  2.80715732e-04 -2.59946415e-08] [ 9.99980604e-01 -6.22825676e-03  2.04357705e-06]\n"
     ]
    },
    {
     "name": "stderr",
     "output_type": "stream",
     "text": [
      "\u001b[32m[I 2020-11-10 00:15:28,698]\u001b[0m Trial 221 finished with value: -5837.544433798857 and parameters: {'mag': 0.5203730867594017, 'phase': 3.1496730344872343, 'period': 0.23211286610887716}. Best is trial 216 with value: -5849.7983069813945.\u001b[0m\n"
     ]
    },
    {
     "name": "stdout",
     "output_type": "stream",
     "text": [
      "[ 1.18213071e-01  2.80715732e-04 -2.59946415e-08] [ 9.99980604e-01 -6.22825676e-03  2.04357705e-06]\n"
     ]
    },
    {
     "name": "stderr",
     "output_type": "stream",
     "text": [
      "\u001b[32m[I 2020-11-10 00:17:26,440]\u001b[0m Trial 222 finished with value: -5831.613127455034 and parameters: {'mag': 0.5231606119015805, 'phase': 3.155056949038065, 'period': 0.23210011380388762}. Best is trial 216 with value: -5849.7983069813945.\u001b[0m\n"
     ]
    },
    {
     "name": "stdout",
     "output_type": "stream",
     "text": [
      "[ 1.18213071e-01  2.80715732e-04 -2.59946415e-08] [ 9.99980604e-01 -6.22825676e-03  2.04357705e-06]\n"
     ]
    },
    {
     "name": "stderr",
     "output_type": "stream",
     "text": [
      "\u001b[32m[I 2020-11-10 00:19:24,650]\u001b[0m Trial 223 finished with value: -5847.979625162041 and parameters: {'mag': 0.5226750725626991, 'phase': 3.1453075404942914, 'period': 0.22960175632720684}. Best is trial 216 with value: -5849.7983069813945.\u001b[0m\n"
     ]
    },
    {
     "name": "stdout",
     "output_type": "stream",
     "text": [
      "[ 1.18213071e-01  2.80715732e-04 -2.59946415e-08] [ 9.99980604e-01 -6.22825676e-03  2.04357705e-06]\n"
     ]
    },
    {
     "name": "stderr",
     "output_type": "stream",
     "text": [
      "\u001b[32m[I 2020-11-10 00:21:22,440]\u001b[0m Trial 224 finished with value: -5849.212734903705 and parameters: {'mag': 0.520920975550162, 'phase': 3.1447591832098163, 'period': 0.22971343766343014}. Best is trial 216 with value: -5849.7983069813945.\u001b[0m\n"
     ]
    },
    {
     "name": "stdout",
     "output_type": "stream",
     "text": [
      "[ 1.18213071e-01  2.80715732e-04 -2.59946415e-08] [ 9.99980604e-01 -6.22825676e-03  2.04357705e-06]\n"
     ]
    },
    {
     "name": "stderr",
     "output_type": "stream",
     "text": [
      "\u001b[32m[I 2020-11-10 00:23:20,576]\u001b[0m Trial 225 finished with value: -5845.096136152875 and parameters: {'mag': 0.5214677652955773, 'phase': 3.1441369272342, 'period': 0.22930260069330774}. Best is trial 216 with value: -5849.7983069813945.\u001b[0m\n"
     ]
    },
    {
     "name": "stdout",
     "output_type": "stream",
     "text": [
      "[ 1.18213071e-01  2.80715732e-04 -2.59946415e-08] [ 9.99980604e-01 -6.22825676e-03  2.04357705e-06]\n"
     ]
    },
    {
     "name": "stderr",
     "output_type": "stream",
     "text": [
      "\u001b[32m[I 2020-11-10 00:25:18,374]\u001b[0m Trial 226 finished with value: -5713.125445279982 and parameters: {'mag': 0.5227415073483997, 'phase': 3.1392551924429344, 'period': 0.23237816846313808}. Best is trial 216 with value: -5849.7983069813945.\u001b[0m\n"
     ]
    },
    {
     "name": "stdout",
     "output_type": "stream",
     "text": [
      "[ 1.18213071e-01  2.80715732e-04 -2.59946415e-08] [ 9.99980604e-01 -6.22825676e-03  2.04357705e-06]\n"
     ]
    },
    {
     "name": "stderr",
     "output_type": "stream",
     "text": [
      "\u001b[32m[I 2020-11-10 00:27:16,617]\u001b[0m Trial 227 finished with value: -5813.87074273655 and parameters: {'mag': 0.5163213378904211, 'phase': 3.148106517881655, 'period': 0.2286748498446021}. Best is trial 216 with value: -5849.7983069813945.\u001b[0m\n"
     ]
    },
    {
     "name": "stdout",
     "output_type": "stream",
     "text": [
      "[ 1.18213071e-01  2.80715732e-04 -2.59946415e-08] [ 9.99980604e-01 -6.22825676e-03  2.04357705e-06]\n"
     ]
    },
    {
     "name": "stderr",
     "output_type": "stream",
     "text": [
      "\u001b[32m[I 2020-11-10 00:29:14,512]\u001b[0m Trial 228 finished with value: -5824.470657963665 and parameters: {'mag': 0.5234807212994519, 'phase': 3.155548459399721, 'period': 0.22780350075939734}. Best is trial 216 with value: -5849.7983069813945.\u001b[0m\n"
     ]
    },
    {
     "name": "stdout",
     "output_type": "stream",
     "text": [
      "[ 1.18213071e-01  2.80715732e-04 -2.59946415e-08] [ 9.99980604e-01 -6.22825676e-03  2.04357705e-06]\n"
     ]
    },
    {
     "name": "stderr",
     "output_type": "stream",
     "text": [
      "\u001b[32m[I 2020-11-10 00:31:12,768]\u001b[0m Trial 229 finished with value: -5712.033516204313 and parameters: {'mag': 0.5226805800906855, 'phase': 3.1408710136178413, 'period': 0.23255076680691192}. Best is trial 216 with value: -5849.7983069813945.\u001b[0m\n"
     ]
    },
    {
     "name": "stdout",
     "output_type": "stream",
     "text": [
      "[ 1.18213071e-01  2.80715732e-04 -2.59946415e-08] [ 9.99980604e-01 -6.22825676e-03  2.04357705e-06]\n"
     ]
    },
    {
     "name": "stderr",
     "output_type": "stream",
     "text": [
      "\u001b[32m[I 2020-11-10 00:33:10,693]\u001b[0m Trial 230 finished with value: -5838.37466714021 and parameters: {'mag': 0.5225731542667928, 'phase': 3.1514266911682722, 'period': 0.2309515028890091}. Best is trial 216 with value: -5849.7983069813945.\u001b[0m\n"
     ]
    },
    {
     "name": "stdout",
     "output_type": "stream",
     "text": [
      "[ 1.18213071e-01  2.80715732e-04 -2.59946415e-08] [ 9.99980604e-01 -6.22825676e-03  2.04357705e-06]\n"
     ]
    },
    {
     "name": "stderr",
     "output_type": "stream",
     "text": [
      "\u001b[32m[I 2020-11-10 00:35:08,921]\u001b[0m Trial 231 finished with value: -5806.7433892715935 and parameters: {'mag': 0.5172066284941904, 'phase': 3.161518555117853, 'period': 0.22796375518417034}. Best is trial 216 with value: -5849.7983069813945.\u001b[0m\n"
     ]
    },
    {
     "name": "stdout",
     "output_type": "stream",
     "text": [
      "[ 1.18213071e-01  2.80715732e-04 -2.59946415e-08] [ 9.99980604e-01 -6.22825676e-03  2.04357705e-06]\n"
     ]
    },
    {
     "name": "stderr",
     "output_type": "stream",
     "text": [
      "\u001b[32m[I 2020-11-10 00:37:06,718]\u001b[0m Trial 232 finished with value: -5825.744466249887 and parameters: {'mag': 0.5194127750122981, 'phase': 3.1533628253568615, 'period': 0.22910056540795218}. Best is trial 216 with value: -5849.7983069813945.\u001b[0m\n"
     ]
    },
    {
     "name": "stdout",
     "output_type": "stream",
     "text": [
      "[ 1.18213071e-01  2.80715732e-04 -2.59946415e-08] [ 9.99980604e-01 -6.22825676e-03  2.04357705e-06]\n"
     ]
    },
    {
     "name": "stderr",
     "output_type": "stream",
     "text": [
      "\u001b[32m[I 2020-11-10 00:39:04,937]\u001b[0m Trial 233 finished with value: -5834.2946226939 and parameters: {'mag': 0.5199555650752381, 'phase': 3.1490232867034127, 'period': 0.2267022213792538}. Best is trial 216 with value: -5849.7983069813945.\u001b[0m\n"
     ]
    },
    {
     "name": "stdout",
     "output_type": "stream",
     "text": [
      "[ 1.18213071e-01  2.80715732e-04 -2.59946415e-08] [ 9.99980604e-01 -6.22825676e-03  2.04357705e-06]\n"
     ]
    },
    {
     "name": "stderr",
     "output_type": "stream",
     "text": [
      "\u001b[32m[I 2020-11-10 00:41:02,922]\u001b[0m Trial 234 finished with value: -5830.5129815677055 and parameters: {'mag': 0.520449205462785, 'phase': 3.1543071047954188, 'period': 0.22730615007627153}. Best is trial 216 with value: -5849.7983069813945.\u001b[0m\n"
     ]
    },
    {
     "name": "stdout",
     "output_type": "stream",
     "text": [
      "[ 1.18213071e-01  2.80715732e-04 -2.59946415e-08] [ 9.99980604e-01 -6.22825676e-03  2.04357705e-06]\n"
     ]
    },
    {
     "name": "stderr",
     "output_type": "stream",
     "text": [
      "\u001b[32m[I 2020-11-10 00:43:01,297]\u001b[0m Trial 235 finished with value: -5839.747000082632 and parameters: {'mag': 0.5204732236468088, 'phase': 3.15169371036311, 'period': 0.23076603186199776}. Best is trial 216 with value: -5849.7983069813945.\u001b[0m\n"
     ]
    },
    {
     "name": "stdout",
     "output_type": "stream",
     "text": [
      "[ 1.18213071e-01  2.80715732e-04 -2.59946415e-08] [ 9.99980604e-01 -6.22825676e-03  2.04357705e-06]\n"
     ]
    },
    {
     "name": "stderr",
     "output_type": "stream",
     "text": [
      "\u001b[32m[I 2020-11-10 00:44:59,278]\u001b[0m Trial 236 finished with value: -5843.800706202652 and parameters: {'mag': 0.5210766454322966, 'phase': 3.1441541310908123, 'period': 0.2291480015234897}. Best is trial 216 with value: -5849.7983069813945.\u001b[0m\n"
     ]
    },
    {
     "name": "stdout",
     "output_type": "stream",
     "text": [
      "[ 1.18213071e-01  2.80715732e-04 -2.59946415e-08] [ 9.99980604e-01 -6.22825676e-03  2.04357705e-06]\n"
     ]
    },
    {
     "name": "stderr",
     "output_type": "stream",
     "text": [
      "\u001b[32m[I 2020-11-10 00:46:57,592]\u001b[0m Trial 237 finished with value: -5842.750761409152 and parameters: {'mag': 0.5204646924304982, 'phase': 3.1507226820841425, 'period': 0.23001946126113906}. Best is trial 216 with value: -5849.7983069813945.\u001b[0m\n"
     ]
    },
    {
     "name": "stdout",
     "output_type": "stream",
     "text": [
      "[ 1.18213071e-01  2.80715732e-04 -2.59946415e-08] [ 9.99980604e-01 -6.22825676e-03  2.04357705e-06]\n"
     ]
    },
    {
     "name": "stderr",
     "output_type": "stream",
     "text": [
      "\u001b[32m[I 2020-11-10 00:48:55,622]\u001b[0m Trial 238 finished with value: -5714.541714583946 and parameters: {'mag': 0.5203204345982391, 'phase': 3.1408945276820446, 'period': 0.23081237577905944}. Best is trial 216 with value: -5849.7983069813945.\u001b[0m\n"
     ]
    },
    {
     "name": "stdout",
     "output_type": "stream",
     "text": [
      "[ 1.18213071e-01  2.80715732e-04 -2.59946415e-08] [ 9.99980604e-01 -6.22825676e-03  2.04357705e-06]\n"
     ]
    },
    {
     "name": "stderr",
     "output_type": "stream",
     "text": [
      "\u001b[32m[I 2020-11-10 00:50:53,945]\u001b[0m Trial 239 finished with value: -5830.925052546467 and parameters: {'mag': 0.5221083867797539, 'phase': 3.148220262213022, 'period': 0.2284921862787757}. Best is trial 216 with value: -5849.7983069813945.\u001b[0m\n"
     ]
    },
    {
     "name": "stdout",
     "output_type": "stream",
     "text": [
      "[ 1.18213071e-01  2.80715732e-04 -2.59946415e-08] [ 9.99980604e-01 -6.22825676e-03  2.04357705e-06]\n"
     ]
    },
    {
     "name": "stderr",
     "output_type": "stream",
     "text": [
      "\u001b[32m[I 2020-11-10 00:52:51,863]\u001b[0m Trial 240 finished with value: -5844.353026511527 and parameters: {'mag': 0.5221362781922351, 'phase': 3.1505378736249026, 'period': 0.23035497313053419}. Best is trial 216 with value: -5849.7983069813945.\u001b[0m\n"
     ]
    },
    {
     "name": "stdout",
     "output_type": "stream",
     "text": [
      "[ 1.18213071e-01  2.80715732e-04 -2.59946415e-08] [ 9.99980604e-01 -6.22825676e-03  2.04357705e-06]\n"
     ]
    },
    {
     "name": "stderr",
     "output_type": "stream",
     "text": [
      "\u001b[32m[I 2020-11-10 00:54:50,262]\u001b[0m Trial 241 finished with value: -5836.534836886447 and parameters: {'mag': 0.5202457516130945, 'phase': 3.1439417279157733, 'period': 0.22888214485029815}. Best is trial 216 with value: -5849.7983069813945.\u001b[0m\n"
     ]
    },
    {
     "name": "stdout",
     "output_type": "stream",
     "text": [
      "[ 1.18213071e-01  2.80715732e-04 -2.59946415e-08] [ 9.99980604e-01 -6.22825676e-03  2.04357705e-06]\n"
     ]
    },
    {
     "name": "stderr",
     "output_type": "stream",
     "text": [
      "\u001b[32m[I 2020-11-10 00:56:48,278]\u001b[0m Trial 242 finished with value: -5841.9139679348555 and parameters: {'mag': 0.5188960362368787, 'phase': 3.1429140941642784, 'period': 0.22971423367222266}. Best is trial 216 with value: -5849.7983069813945.\u001b[0m\n"
     ]
    },
    {
     "name": "stdout",
     "output_type": "stream",
     "text": [
      "[ 1.18213071e-01  2.80715732e-04 -2.59946415e-08] [ 9.99980604e-01 -6.22825676e-03  2.04357705e-06]\n"
     ]
    },
    {
     "name": "stderr",
     "output_type": "stream",
     "text": [
      "\u001b[32m[I 2020-11-10 00:58:46,692]\u001b[0m Trial 243 finished with value: -5850.4825895534 and parameters: {'mag': 0.5221895069893918, 'phase': 3.1437987357214943, 'period': 0.22966470950061527}. Best is trial 243 with value: -5850.4825895534.\u001b[0m\n"
     ]
    },
    {
     "name": "stdout",
     "output_type": "stream",
     "text": [
      "[ 1.18213071e-01  2.80715732e-04 -2.59946415e-08] [ 9.99980604e-01 -6.22825676e-03  2.04357705e-06]\n"
     ]
    },
    {
     "name": "stderr",
     "output_type": "stream",
     "text": [
      "\u001b[32m[I 2020-11-10 01:00:44,630]\u001b[0m Trial 244 finished with value: -5818.272144181717 and parameters: {'mag': 0.5173661150974476, 'phase': 3.147925072913455, 'period': 0.2286793291620293}. Best is trial 243 with value: -5850.4825895534.\u001b[0m\n"
     ]
    },
    {
     "name": "stdout",
     "output_type": "stream",
     "text": [
      "[ 1.18213071e-01  2.80715732e-04 -2.59946415e-08] [ 9.99980604e-01 -6.22825676e-03  2.04357705e-06]\n"
     ]
    },
    {
     "name": "stderr",
     "output_type": "stream",
     "text": [
      "\u001b[32m[I 2020-11-10 01:02:43,101]\u001b[0m Trial 245 finished with value: -5840.360424345372 and parameters: {'mag': 0.5187005470452489, 'phase': 3.1451918771469294, 'period': 0.2298981801351682}. Best is trial 243 with value: -5850.4825895534.\u001b[0m\n"
     ]
    },
    {
     "name": "stdout",
     "output_type": "stream",
     "text": [
      "[ 1.18213071e-01  2.80715732e-04 -2.59946415e-08] [ 9.99980604e-01 -6.22825676e-03  2.04357705e-06]\n"
     ]
    },
    {
     "name": "stderr",
     "output_type": "stream",
     "text": [
      "\u001b[32m[I 2020-11-10 01:04:41,165]\u001b[0m Trial 246 finished with value: -5847.8174770846335 and parameters: {'mag': 0.5216687937868149, 'phase': 3.143438293959593, 'period': 0.22945867327430391}. Best is trial 243 with value: -5850.4825895534.\u001b[0m\n"
     ]
    },
    {
     "name": "stdout",
     "output_type": "stream",
     "text": [
      "[ 1.18213071e-01  2.80715732e-04 -2.59946415e-08] [ 9.99980604e-01 -6.22825676e-03  2.04357705e-06]\n"
     ]
    },
    {
     "name": "stderr",
     "output_type": "stream",
     "text": [
      "\u001b[32m[I 2020-11-10 01:06:39,522]\u001b[0m Trial 247 finished with value: -5849.566539216399 and parameters: {'mag': 0.5229616668363991, 'phase': 3.145751939085362, 'period': 0.23005548470292042}. Best is trial 243 with value: -5850.4825895534.\u001b[0m\n"
     ]
    },
    {
     "name": "stdout",
     "output_type": "stream",
     "text": [
      "[ 1.18213071e-01  2.80715732e-04 -2.59946415e-08] [ 9.99980604e-01 -6.22825676e-03  2.04357705e-06]\n"
     ]
    },
    {
     "name": "stderr",
     "output_type": "stream",
     "text": [
      "\u001b[32m[I 2020-11-10 01:08:37,431]\u001b[0m Trial 248 finished with value: -5847.81053299615 and parameters: {'mag': 0.5214750542192943, 'phase': 3.1467587043578904, 'period': 0.22984859547188077}. Best is trial 243 with value: -5850.4825895534.\u001b[0m\n"
     ]
    },
    {
     "name": "stdout",
     "output_type": "stream",
     "text": [
      "[ 1.18213071e-01  2.80715732e-04 -2.59946415e-08] [ 9.99980604e-01 -6.22825676e-03  2.04357705e-06]\n"
     ]
    },
    {
     "name": "stderr",
     "output_type": "stream",
     "text": [
      "\u001b[32m[I 2020-11-10 01:10:35,753]\u001b[0m Trial 249 finished with value: -5848.669647633038 and parameters: {'mag': 0.5228279807739831, 'phase': 3.1438142445080337, 'period': 0.22969010390184122}. Best is trial 243 with value: -5850.4825895534.\u001b[0m\n"
     ]
    },
    {
     "name": "stdout",
     "output_type": "stream",
     "text": [
      "Best value: -5850.4825895534 (params: {'mag': 0.5221895069893918, 'phase': 3.1437987357214943, 'period': 0.22966470950061527})\n",
      "\n"
     ]
    }
   ],
   "source": [
    "\n",
    "sampler = optuna.samplers.CmaEsSampler()\n",
    "study = optuna.create_study(sampler=sampler)\n",
    "study.optimize(objective, n_trials=250)\n",
    "print('Best value: {} (params: {})\\n'.format(study.best_value, study.best_params))"
   ]
  },
  {
   "cell_type": "code",
   "execution_count": 12,
   "metadata": {},
   "outputs": [
    {
     "name": "stdout",
     "output_type": "stream",
     "text": [
      "[ 1.18213071e-01  2.80715732e-04 -2.59946415e-08] [ 9.99980604e-01 -6.22825676e-03  2.04357705e-06]\n"
     ]
    },
    {
     "ename": "NameError",
     "evalue": "name 'mag' is not defined",
     "output_type": "error",
     "traceback": [
      "\u001b[0;31m---------------------------------------------------------------------------\u001b[0m",
      "\u001b[0;31mNameError\u001b[0m                                 Traceback (most recent call last)",
      "\u001b[0;32m<ipython-input-12-618a1da393ce>\u001b[0m in \u001b[0;36m<module>\u001b[0;34m\u001b[0m\n\u001b[1;32m      4\u001b[0m \u001b[0;32mwhile\u001b[0m \u001b[0;32mnot\u001b[0m \u001b[0mdone\u001b[0m\u001b[0;34m:\u001b[0m\u001b[0;34m\u001b[0m\u001b[0;34m\u001b[0m\u001b[0m\n\u001b[1;32m      5\u001b[0m     \u001b[0mtime\u001b[0m \u001b[0;34m=\u001b[0m \u001b[0menv\u001b[0m\u001b[0;34m.\u001b[0m\u001b[0mrigid_data\u001b[0m\u001b[0;34m.\u001b[0m\u001b[0mrigidWorld\u001b[0m\u001b[0;34m.\u001b[0m\u001b[0mtime\u001b[0m\u001b[0;34m\u001b[0m\u001b[0;34m\u001b[0m\u001b[0m\n\u001b[0;32m----> 6\u001b[0;31m     \u001b[0mobs\u001b[0m\u001b[0;34m,\u001b[0m \u001b[0mr\u001b[0m\u001b[0;34m,\u001b[0m \u001b[0mdone\u001b[0m\u001b[0;34m,\u001b[0m\u001b[0minfo\u001b[0m\u001b[0;34m=\u001b[0m\u001b[0menv\u001b[0m\u001b[0;34m.\u001b[0m\u001b[0mstep\u001b[0m\u001b[0;34m(\u001b[0m\u001b[0mperiodMotion\u001b[0m\u001b[0;34m(\u001b[0m\u001b[0mmag\u001b[0m\u001b[0;34m,\u001b[0m\u001b[0mphase\u001b[0m\u001b[0;34m,\u001b[0m\u001b[0mperiod\u001b[0m\u001b[0;34m,\u001b[0m\u001b[0mtime\u001b[0m\u001b[0;34m)\u001b[0m\u001b[0;34m*\u001b[0m\u001b[0menv\u001b[0m\u001b[0;34m.\u001b[0m\u001b[0maction_space_std\u001b[0m\u001b[0;34m)\u001b[0m\u001b[0;34m\u001b[0m\u001b[0;34m\u001b[0m\u001b[0m\n\u001b[0m\u001b[1;32m      7\u001b[0m     \u001b[0mreward\u001b[0m\u001b[0;34m+=\u001b[0m\u001b[0mr\u001b[0m\u001b[0;34m\u001b[0m\u001b[0;34m\u001b[0m\u001b[0m\n\u001b[1;32m      8\u001b[0m \u001b[0mprint\u001b[0m\u001b[0;34m(\u001b[0m\u001b[0mreward\u001b[0m\u001b[0;34m)\u001b[0m\u001b[0;34m\u001b[0m\u001b[0;34m\u001b[0m\u001b[0m\n",
      "\u001b[0;31mNameError\u001b[0m: name 'mag' is not defined"
     ]
    }
   ],
   "source": [
    "done = False\n",
    "reward = 0\n",
    "obs = env.reset()\n",
    "while not done:\n",
    "    time = env.rigid_data.rigidWorld.time\n",
    "    obs, r, done,info=env.step(periodMotion(mag,phase,period,time)*env.action_space_std)\n",
    "    reward+=r\n",
    "print(reward)"
   ]
  },
  {
   "cell_type": "code",
   "execution_count": null,
   "metadata": {},
   "outputs": [],
   "source": []
  }
 ],
 "metadata": {
  "kernelspec": {
   "display_name": "Python 3",
   "language": "python",
   "name": "python3"
  },
  "language_info": {
   "codemirror_mode": {
    "name": "ipython",
    "version": 3
   },
   "file_extension": ".py",
   "mimetype": "text/x-python",
   "name": "python",
   "nbconvert_exporter": "python",
   "pygments_lexer": "ipython3",
   "version": "3.7.6"
  }
 },
 "nbformat": 4,
 "nbformat_minor": 4
}
