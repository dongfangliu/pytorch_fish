{
 "cells": [
  {
   "cell_type": "code",
   "execution_count": 1,
   "metadata": {},
   "outputs": [],
   "source": [
    "import gym\n",
    "import gym_fish\n",
    "from gym_fish.envs.lib import pyflare as fl\n",
    "from pynput.keyboard import Key, Listener,KeyCode\n",
    "import math"
   ]
  },
  {
   "cell_type": "markdown",
   "metadata": {},
   "source": [
    "### Left, Right, Left ,Right"
   ]
  },
  {
   "cell_type": "code",
   "execution_count": null,
   "metadata": {},
   "outputs": [],
   "source": [
    "def on_press(key):\n",
    "    if key==KeyCode.from_char('a'):\n",
    "        env.step([-1])\n",
    "    elif key==KeyCode.from_char('d'):\n",
    "        env.step([1])\n",
    "\n",
    "def on_release(key):\n",
    "    if key == Key.esc:\n",
    "        # Stop listener\n",
    "        return False\n",
    "\n",
    "\n",
    "# In[4]:\n",
    "\n",
    "\n",
    "listener = Listener(\n",
    "        on_press=on_press,\n",
    "        on_release=on_release)\n",
    "listener.start()\n",
    "while True:\n",
    "    env.step([0])\n",
    "    env.render()"
   ]
  },
  {
   "cell_type": "markdown",
   "metadata": {},
   "source": [
    "### Frequencies"
   ]
  },
  {
   "cell_type": "code",
   "execution_count": 4,
   "metadata": {},
   "outputs": [
    {
     "name": "stdout",
     "output_type": "stream",
     "text": [
      "10.50\r"
     ]
    }
   ],
   "source": [
    "# 20 * math.cos(2*self.rigid_data.rigidWorld.time *2*math.pi)\n",
    "env = gym.make('fish-v0')\n",
    "freq = 20\n",
    "stop = False\n",
    "def on_press(key):\n",
    "    global freq\n",
    "    if key==Key.space:\n",
    "        freq = freq+1\n",
    "\n",
    "def on_release(key):\n",
    "    global stop\n",
    "    if key == Key.esc:\n",
    "        stop=True\n",
    "        # Stop listener\n",
    "        return False\n",
    "\n",
    "listener = Listener(\n",
    "        on_press=on_press,\n",
    "        on_release=on_release)\n",
    "listener.start()\n",
    "while not stop:\n",
    "    freq = max(10,freq-0.5)\n",
    "    print(freq,end='\\r')\n",
    "    env.step([freq * math.cos(2*env.rigid_data.rigidWorld.time *2*math.pi)/30])\n",
    "    env.render()\n",
    "env.close()"
   ]
  },
  {
   "cell_type": "code",
   "execution_count": null,
   "metadata": {},
   "outputs": [],
   "source": []
  }
 ],
 "metadata": {
  "kernelspec": {
   "display_name": "Python 3",
   "language": "python",
   "name": "python3"
  },
  "language_info": {
   "codemirror_mode": {
    "name": "ipython",
    "version": 3
   },
   "file_extension": ".py",
   "mimetype": "text/x-python",
   "name": "python",
   "nbconvert_exporter": "python",
   "pygments_lexer": "ipython3",
   "version": "3.6.10"
  }
 },
 "nbformat": 4,
 "nbformat_minor": 4
}
