{
 "cells": [
  {
   "cell_type": "code",
   "execution_count": 1,
   "metadata": {
    "scrolled": true
   },
   "outputs": [],
   "source": [
    "import matplotlib.pyplot as plt      \n",
    "from mpl_toolkits import mplot3d\n",
    "import os\n",
    "import sys\n",
    "import glob\n",
    "import time\n",
    "import shutil\n",
    "import gym\n",
    "from gym import error, spaces, utils\n",
    "import numpy as np\n",
    "import math"
   ]
  },
  {
   "cell_type": "code",
   "execution_count": 2,
   "metadata": {},
   "outputs": [],
   "source": [
    "import gym_fish"
   ]
  },
  {
   "cell_type": "code",
   "execution_count": 3,
   "metadata": {},
   "outputs": [],
   "source": [
    "from gym_fish.envs.lib import pyflare as fl"
   ]
  },
  {
   "cell_type": "code",
   "execution_count": 4,
   "metadata": {
    "scrolled": true
   },
   "outputs": [],
   "source": [
    "Experiment_name = 'reach target with buoyancy control'\n",
    "Experiment_note = \"\"\"\n",
    "\"\"\""
   ]
  },
  {
   "cell_type": "code",
   "execution_count": 5,
   "metadata": {},
   "outputs": [],
   "source": [
    "gpuId = 0\n",
    "control_dt=0.2\n",
    "theta = np.array([90,90])\n",
    "phi = np.array([45,45])\n",
    "radius=2.0\n",
    "max_time = 10\n",
    "action_max= 10\n",
    "done_dist = 0.15\n",
    "dist_distri_param =np.array([0,0.0])\n",
    "wc = 0.0*np.array([1.0,0.5])\n",
    "wp = 1.0*np.array([0.0,1.0])\n",
    "wa = 0.5\n",
    "\n",
    "couple_mode =  fl.COUPLE_MODE.TWO_WAY"
   ]
  },
  {
   "cell_type": "code",
   "execution_count": 6,
   "metadata": {},
   "outputs": [
    {
     "name": "stdout",
     "output_type": "stream",
     "text": [
      "visulization data save folder /home/liuwj/codes/pytorch_fish/scripts/gym-fish/gym_fish/envs/data/vis_data/\n"
     ]
    },
    {
     "name": "stderr",
     "output_type": "stream",
     "text": [
      "/home/liuwj/test_env/lib/python3.8/site-packages/gym/logger.py:30: UserWarning: \u001b[33mWARN: Box bound precision lowered by casting to float32\u001b[0m\n",
      "  warnings.warn(colorize('%s: %s'%('WARN', msg % args), 'yellow'))\n"
     ]
    },
    {
     "name": "stdout",
     "output_type": "stream",
     "text": [
      "visulization data save folder /home/liuwj/codes/pytorch_fish/scripts/gym-fish/gym_fish/envs/data/vis_data/\n"
     ]
    }
   ],
   "source": [
    "env=gym.make('fish-basic-v0',\n",
    "             env_json='../assets/env_file/env_basic.json',\n",
    "                  gpuId=gpuId,\n",
    "                        couple_mode=couple_mode,\n",
    "                         control_dt=control_dt,\n",
    "                         theta = theta,\n",
    "             phi = phi,\n",
    "                        radius=radius,\n",
    "             action_max=action_max,\n",
    "                        max_time=max_time,\n",
    "                        wp=wp,wc=wc,wa=wa,\n",
    "                       done_dist=done_dist,dist_distri_param=dist_distri_param\n",
    "                   )\n",
    "env_test=gym.make('fish-basic-v0',\n",
    "             env_json='../assets/env_file/env_basic.json',\n",
    "                  gpuId=gpuId,\n",
    "                        couple_mode=couple_mode,\n",
    "                         control_dt=control_dt,\n",
    "                         theta = theta,\n",
    "             phi = phi,\n",
    "                        radius=radius,\n",
    "             action_max=action_max,\n",
    "                        max_time=max_time,\n",
    "                        wp=wp,wc=wc,wa=wa,\n",
    "                       done_dist=done_dist,dist_distri_param=dist_distri_param\n",
    "                   )"
   ]
  },
  {
   "cell_type": "code",
   "execution_count": 7,
   "metadata": {},
   "outputs": [
    {
     "name": "stdout",
     "output_type": "stream",
     "text": [
      "/home/liuwj/codes/pytorch_fish/scripts\n",
      "/home/liuwj/codes/pytorch_fish\n"
     ]
    }
   ],
   "source": [
    "print(os.getcwd())\n",
    "os.chdir(os.getcwd()+\"/../\")\n",
    "print(os.getcwd())"
   ]
  },
  {
   "cell_type": "markdown",
   "metadata": {},
   "source": [
    "### Import Settings"
   ]
  },
  {
   "cell_type": "code",
   "execution_count": 8,
   "metadata": {
    "scrolled": true
   },
   "outputs": [
    {
     "name": "stdout",
     "output_type": "stream",
     "text": [
      "/home/liuwj/codes/pytorch_fish/\n"
     ]
    }
   ],
   "source": [
    "cwd = os.getcwd()+\"/\"\n",
    "print(cwd)"
   ]
  },
  {
   "cell_type": "code",
   "execution_count": 9,
   "metadata": {
    "scrolled": true
   },
   "outputs": [],
   "source": [
    "def plot_infos(infos,title,reward_fig_name):\n",
    "    dd = {k:[] for k in infos[0].keys()}\n",
    "    for info in infos:\n",
    "        for k in info.keys():\n",
    "            dd[k].append(info[k])\n",
    "    plt.figure()\n",
    "    for k in dd.keys():\n",
    "        if k=='action_penality':\n",
    "            plt.plot(np.arange(0,len(dd[k])),[kkk  for kkk in dd[k]],label=k)\n",
    "        else:\n",
    "            plt.plot(np.arange(0,len(dd[k])),dd[k],label=k)\n",
    "    plt.legend()\n",
    "    plt.title(title)\n",
    "    plt.savefig(reward_fig_name)\n",
    "    plt.show()"
   ]
  },
  {
   "cell_type": "markdown",
   "metadata": {},
   "source": [
    "### Output Settings"
   ]
  },
  {
   "cell_type": "code",
   "execution_count": 10,
   "metadata": {
    "scrolled": true
   },
   "outputs": [],
   "source": [
    "store_folder_name = time.strftime('%Y-%m-%d/',time.localtime(time.time()))+Experiment_name+'_'+time.strftime('%Y-%m-%d %H:%M/',time.localtime(time.time()))\n",
    "imgs_folder_name = 'imgs/'\n",
    "network_folder_name = 'networks/'\n",
    "store_folder = cwd+'output_data/'+store_folder_name\n",
    "imgs_folder = store_folder+imgs_folder_name\n",
    "network_folder = store_folder+network_folder_name\n",
    "\n",
    "if not os.path.exists(store_folder):\n",
    "    os.makedirs(store_folder)\n",
    "if not os.path.exists(imgs_folder):\n",
    "    os.makedirs(imgs_folder)\n",
    "if not os.path.exists(network_folder):\n",
    "    os.makedirs(network_folder)"
   ]
  },
  {
   "cell_type": "markdown",
   "metadata": {},
   "source": [
    "### RL_TRAINING Setup"
   ]
  },
  {
   "cell_type": "code",
   "execution_count": 11,
   "metadata": {
    "scrolled": true
   },
   "outputs": [],
   "source": [
    "from stable_baselines3 import SAC"
   ]
  },
  {
   "cell_type": "markdown",
   "metadata": {},
   "source": [
    "## RL Begin"
   ]
  },
  {
   "cell_type": "code",
   "execution_count": 12,
   "metadata": {},
   "outputs": [],
   "source": [
    "algo = 'SAC'\n",
    "algofoler=algo+'/'\n",
    "if not os.path.exists(network_folder+algofoler):\n",
    "    os.makedirs(network_folder+algofoler)\n",
    "if not os.path.exists(network_folder+algofoler+'imgs/'):\n",
    "    os.makedirs(network_folder+algofoler+'imgs/')\n",
    "if not os.path.exists(network_folder+algofoler+'imgs/trajs/'):\n",
    "    os.makedirs(network_folder+algofoler+'imgs/trajs/')\n",
    "if not os.path.exists(network_folder+algofoler+'imgs/rewards/'):\n",
    "    os.makedirs(network_folder+algofoler+'imgs/rewards/')\n",
    "if not os.path.exists(network_folder+algofoler+'models/'):\n",
    "    os.makedirs(network_folder+algofoler+'models/')\n",
    "\n",
    "tb_folder =  network_folder+algofoler\n",
    "model_folder = network_folder+algofoler+'models/'\n",
    "result_img_folder = network_folder+algofoler+'imgs/'"
   ]
  },
  {
   "cell_type": "code",
   "execution_count": 13,
   "metadata": {},
   "outputs": [],
   "source": [
    "def evaluate_env(env_test,model,title,traj_fig_name,reward_fig_name,save=False):\n",
    "    obs = env_test.reset()\n",
    "    dones = False\n",
    "    infos = []\n",
    "    reward = 0\n",
    "    while not dones:\n",
    "        action, _states = model.predict(obs, deterministic=True)\n",
    "        if not save:\n",
    "            obs, r, dones,info=env_test.step(action)\n",
    "        else:\n",
    "            obs, r, dones,info=env_test.stepSave(action,save_fluid=True)\n",
    "        reward=reward+r\n",
    "        infos.append(info)\n",
    "    plot_infos(infos,title=title,reward_fig_name=reward_fig_name)\n",
    "    env_test.plot3d(title=title,fig_name = traj_fig_name)"
   ]
  },
  {
   "cell_type": "markdown",
   "metadata": {},
   "source": [
    "### RL Train"
   ]
  },
  {
   "cell_type": "code",
   "execution_count": 14,
   "metadata": {},
   "outputs": [
    {
     "name": "stdout",
     "output_type": "stream",
     "text": [
      "rm: 无法删除'./data/vis_data/Objects/*': 没有那个文件或目录\r\n",
      "rm: 无法删除'./data/vis_data/Trajectory/*': 没有那个文件或目录\r\n",
      "rm: 无法删除'./data/vis_data/Fluid/*': 没有那个文件或目录\r\n"
     ]
    }
   ],
   "source": [
    "!./clean_visdata.sh"
   ]
  },
  {
   "cell_type": "code",
   "execution_count": 15,
   "metadata": {},
   "outputs": [
    {
     "name": "stdout",
     "output_type": "stream",
     "text": [
      "1000000 1000 1000\n"
     ]
    }
   ],
   "source": [
    "timesteps = int(1e6)\n",
    "step = int(1e3)\n",
    "length =int(timesteps/step) \n",
    "print(timesteps,step,length)\n",
    "last_best_reward = -1e5\n",
    "cur_steps = 0"
   ]
  },
  {
   "cell_type": "code",
   "execution_count": 16,
   "metadata": {
    "jupyter": {
     "outputs_hidden": false
    },
    "pycharm": {
     "name": "#%%\n"
    }
   },
   "outputs": [
    {
     "name": "stdout",
     "output_type": "stream",
     "text": [
      "Using cuda device\n",
      "Wrapping the env with a `Monitor` wrapper\n",
      "Wrapping the env in a DummyVecEnv.\n"
     ]
    }
   ],
   "source": [
    "model = SAC(\"MlpPolicy\", env,\n",
    "             tensorboard_log=network_folder+algofoler, verbose=1)"
   ]
  },
  {
   "cell_type": "code",
   "execution_count": null,
   "metadata": {},
   "outputs": [
    {
     "name": "stdout",
     "output_type": "stream",
     "text": [
      "---------------------------------\n",
      "| rollout/           |          |\n",
      "|    ep_len_mean     | 22       |\n",
      "|    ep_rew_mean     | -42.8    |\n",
      "| time/              |          |\n",
      "|    episodes        | 1        |\n",
      "|    fps             | 0        |\n",
      "|    time_elapsed    | 25       |\n",
      "|    total timesteps | 22       |\n",
      "---------------------------------\n",
      "---------------------------------\n",
      "| rollout/           |          |\n",
      "|    ep_len_mean     | 14       |\n",
      "|    ep_rew_mean     | -26.6    |\n",
      "| time/              |          |\n",
      "|    episodes        | 2        |\n",
      "|    fps             | 0        |\n",
      "|    time_elapsed    | 33       |\n",
      "|    total timesteps | 28       |\n",
      "---------------------------------\n",
      "---------------------------------\n",
      "| rollout/           |          |\n",
      "|    ep_len_mean     | 16.7     |\n",
      "|    ep_rew_mean     | -31.2    |\n",
      "| time/              |          |\n",
      "|    episodes        | 3        |\n",
      "|    fps             | 0        |\n",
      "|    time_elapsed    | 57       |\n",
      "|    total timesteps | 50       |\n",
      "---------------------------------\n",
      "---------------------------------\n",
      "| rollout/           |          |\n",
      "|    ep_len_mean     | 14.5     |\n",
      "|    ep_rew_mean     | -27.2    |\n",
      "| time/              |          |\n",
      "|    episodes        | 4        |\n",
      "|    fps             | 0        |\n",
      "|    time_elapsed    | 67       |\n",
      "|    total timesteps | 58       |\n",
      "---------------------------------\n",
      "---------------------------------\n",
      "| rollout/           |          |\n",
      "|    ep_len_mean     | 18       |\n",
      "|    ep_rew_mean     | -34.6    |\n",
      "| time/              |          |\n",
      "|    episodes        | 5        |\n",
      "|    fps             | 0        |\n",
      "|    time_elapsed    | 99       |\n",
      "|    total timesteps | 90       |\n",
      "---------------------------------\n",
      "---------------------------------\n",
      "| rollout/           |          |\n",
      "|    ep_len_mean     | 19.8     |\n",
      "|    ep_rew_mean     | -38.8    |\n",
      "| time/              |          |\n",
      "|    episodes        | 6        |\n",
      "|    fps             | 0        |\n",
      "|    time_elapsed    | 129      |\n",
      "|    total timesteps | 119      |\n",
      "| train/             |          |\n",
      "|    actor_loss      | -4.44    |\n",
      "|    critic_loss     | 0.698    |\n",
      "|    ent_coef        | 0.995    |\n",
      "|    ent_coef_loss   | -0.0431  |\n",
      "|    learning_rate   | 0.0003   |\n",
      "|    n_updates       | 18       |\n",
      "---------------------------------\n",
      "---------------------------------\n",
      "| rollout/           |          |\n",
      "|    ep_len_mean     | 18.6     |\n",
      "|    ep_rew_mean     | -36.4    |\n",
      "| time/              |          |\n",
      "|    episodes        | 7        |\n",
      "|    fps             | 0        |\n",
      "|    time_elapsed    | 142      |\n",
      "|    total timesteps | 130      |\n",
      "| train/             |          |\n",
      "|    actor_loss      | -4.73    |\n",
      "|    critic_loss     | 0.801    |\n",
      "|    ent_coef        | 0.992    |\n",
      "|    ent_coef_loss   | -0.0703  |\n",
      "|    learning_rate   | 0.0003   |\n",
      "|    n_updates       | 29       |\n",
      "---------------------------------\n",
      "---------------------------------\n",
      "| rollout/           |          |\n",
      "|    ep_len_mean     | 17.8     |\n",
      "|    ep_rew_mean     | -35.2    |\n",
      "| time/              |          |\n",
      "|    episodes        | 8        |\n",
      "|    fps             | 0        |\n",
      "|    time_elapsed    | 155      |\n",
      "|    total timesteps | 142      |\n",
      "| train/             |          |\n",
      "|    actor_loss      | -4.59    |\n",
      "|    critic_loss     | 0.898    |\n",
      "|    ent_coef        | 0.988    |\n",
      "|    ent_coef_loss   | -0.101   |\n",
      "|    learning_rate   | 0.0003   |\n",
      "|    n_updates       | 41       |\n",
      "---------------------------------\n",
      "---------------------------------\n",
      "| rollout/           |          |\n",
      "|    ep_len_mean     | 16.6     |\n",
      "|    ep_rew_mean     | -32.8    |\n",
      "| time/              |          |\n",
      "|    episodes        | 9        |\n",
      "|    fps             | 0        |\n",
      "|    time_elapsed    | 165      |\n",
      "|    total timesteps | 149      |\n",
      "| train/             |          |\n",
      "|    actor_loss      | -4.56    |\n",
      "|    critic_loss     | 0.774    |\n",
      "|    ent_coef        | 0.986    |\n",
      "|    ent_coef_loss   | -0.118   |\n",
      "|    learning_rate   | 0.0003   |\n",
      "|    n_updates       | 48       |\n",
      "---------------------------------\n",
      "---------------------------------\n",
      "| rollout/           |          |\n",
      "|    ep_len_mean     | 17.4     |\n",
      "|    ep_rew_mean     | -34.4    |\n",
      "| time/              |          |\n",
      "|    episodes        | 10       |\n",
      "|    fps             | 0        |\n",
      "|    time_elapsed    | 191      |\n",
      "|    total timesteps | 174      |\n",
      "| train/             |          |\n",
      "|    actor_loss      | -4.73    |\n",
      "|    critic_loss     | 0.59     |\n",
      "|    ent_coef        | 0.979    |\n",
      "|    ent_coef_loss   | -0.181   |\n",
      "|    learning_rate   | 0.0003   |\n",
      "|    n_updates       | 73       |\n",
      "---------------------------------\n",
      "---------------------------------\n",
      "| rollout/           |          |\n",
      "|    ep_len_mean     | 16.8     |\n",
      "|    ep_rew_mean     | -33.3    |\n",
      "| time/              |          |\n",
      "|    episodes        | 11       |\n",
      "|    fps             | 0        |\n",
      "|    time_elapsed    | 204      |\n",
      "|    total timesteps | 185      |\n",
      "| train/             |          |\n",
      "|    actor_loss      | -4.68    |\n",
      "|    critic_loss     | 0.579    |\n",
      "|    ent_coef        | 0.975    |\n",
      "|    ent_coef_loss   | -0.209   |\n",
      "|    learning_rate   | 0.0003   |\n",
      "|    n_updates       | 84       |\n",
      "---------------------------------\n",
      "---------------------------------\n",
      "| rollout/           |          |\n",
      "|    ep_len_mean     | 16.6     |\n",
      "|    ep_rew_mean     | -32.8    |\n",
      "| time/              |          |\n",
      "|    episodes        | 12       |\n",
      "|    fps             | 0        |\n",
      "|    time_elapsed    | 220      |\n",
      "|    total timesteps | 199      |\n",
      "| train/             |          |\n",
      "|    actor_loss      | -4.77    |\n",
      "|    critic_loss     | 0.724    |\n",
      "|    ent_coef        | 0.971    |\n",
      "|    ent_coef_loss   | -0.244   |\n",
      "|    learning_rate   | 0.0003   |\n",
      "|    n_updates       | 98       |\n",
      "---------------------------------\n",
      "---------------------------------\n",
      "| rollout/           |          |\n",
      "|    ep_len_mean     | 16.2     |\n",
      "|    ep_rew_mean     | -32.2    |\n",
      "| time/              |          |\n",
      "|    episodes        | 13       |\n",
      "|    fps             | 0        |\n",
      "|    time_elapsed    | 233      |\n",
      "|    total timesteps | 210      |\n",
      "| train/             |          |\n",
      "|    actor_loss      | -4.71    |\n",
      "|    critic_loss     | 0.574    |\n",
      "|    ent_coef        | 0.968    |\n",
      "|    ent_coef_loss   | -0.273   |\n",
      "|    learning_rate   | 0.0003   |\n",
      "|    n_updates       | 109      |\n",
      "---------------------------------\n",
      "---------------------------------\n",
      "| rollout/           |          |\n",
      "|    ep_len_mean     | 15.9     |\n",
      "|    ep_rew_mean     | -31.7    |\n",
      "| time/              |          |\n",
      "|    episodes        | 14       |\n",
      "|    fps             | 0        |\n",
      "|    time_elapsed    | 246      |\n",
      "|    total timesteps | 222      |\n",
      "| train/             |          |\n",
      "|    actor_loss      | -4.84    |\n",
      "|    critic_loss     | 0.635    |\n",
      "|    ent_coef        | 0.965    |\n",
      "|    ent_coef_loss   | -0.303   |\n",
      "|    learning_rate   | 0.0003   |\n",
      "|    n_updates       | 121      |\n",
      "---------------------------------\n",
      "---------------------------------\n",
      "| rollout/           |          |\n",
      "|    ep_len_mean     | 15.3     |\n",
      "|    ep_rew_mean     | -30.6    |\n",
      "| time/              |          |\n",
      "|    episodes        | 15       |\n",
      "|    fps             | 0        |\n",
      "|    time_elapsed    | 257      |\n",
      "|    total timesteps | 230      |\n",
      "| train/             |          |\n",
      "|    actor_loss      | -4.77    |\n",
      "|    critic_loss     | 0.838    |\n",
      "|    ent_coef        | 0.962    |\n",
      "|    ent_coef_loss   | -0.323   |\n",
      "|    learning_rate   | 0.0003   |\n",
      "|    n_updates       | 129      |\n",
      "---------------------------------\n",
      "---------------------------------\n",
      "| rollout/           |          |\n",
      "|    ep_len_mean     | 16.4     |\n",
      "|    ep_rew_mean     | -32.7    |\n",
      "| time/              |          |\n",
      "|    episodes        | 16       |\n",
      "|    fps             | 0        |\n",
      "|    time_elapsed    | 289      |\n",
      "|    total timesteps | 262      |\n",
      "| train/             |          |\n",
      "|    actor_loss      | -4.86    |\n",
      "|    critic_loss     | 0.68     |\n",
      "|    ent_coef        | 0.953    |\n",
      "|    ent_coef_loss   | -0.403   |\n",
      "|    learning_rate   | 0.0003   |\n",
      "|    n_updates       | 161      |\n",
      "---------------------------------\n",
      "---------------------------------\n",
      "| rollout/           |          |\n",
      "|    ep_len_mean     | 15.9     |\n",
      "|    ep_rew_mean     | -31.8    |\n",
      "| time/              |          |\n",
      "|    episodes        | 17       |\n",
      "|    fps             | 0        |\n",
      "|    time_elapsed    | 301      |\n",
      "|    total timesteps | 271      |\n",
      "| train/             |          |\n",
      "|    actor_loss      | -4.83    |\n",
      "|    critic_loss     | 0.746    |\n",
      "|    ent_coef        | 0.951    |\n",
      "|    ent_coef_loss   | -0.425   |\n",
      "|    learning_rate   | 0.0003   |\n",
      "|    n_updates       | 170      |\n",
      "---------------------------------\n"
     ]
    },
    {
     "name": "stdout",
     "output_type": "stream",
     "text": [
      "---------------------------------\n",
      "| rollout/           |          |\n",
      "|    ep_len_mean     | 15.6     |\n",
      "|    ep_rew_mean     | -31.2    |\n",
      "| time/              |          |\n",
      "|    episodes        | 18       |\n",
      "|    fps             | 0        |\n",
      "|    time_elapsed    | 313      |\n",
      "|    total timesteps | 281      |\n",
      "| train/             |          |\n",
      "|    actor_loss      | -4.85    |\n",
      "|    critic_loss     | 0.556    |\n",
      "|    ent_coef        | 0.948    |\n",
      "|    ent_coef_loss   | -0.45    |\n",
      "|    learning_rate   | 0.0003   |\n",
      "|    n_updates       | 180      |\n",
      "---------------------------------\n",
      "---------------------------------\n",
      "| rollout/           |          |\n",
      "|    ep_len_mean     | 15.5     |\n",
      "|    ep_rew_mean     | -31      |\n",
      "| time/              |          |\n",
      "|    episodes        | 19       |\n",
      "|    fps             | 0        |\n",
      "|    time_elapsed    | 328      |\n",
      "|    total timesteps | 294      |\n",
      "| train/             |          |\n",
      "|    actor_loss      | -4.86    |\n",
      "|    critic_loss     | 0.661    |\n",
      "|    ent_coef        | 0.944    |\n",
      "|    ent_coef_loss   | -0.483   |\n",
      "|    learning_rate   | 0.0003   |\n",
      "|    n_updates       | 193      |\n",
      "---------------------------------\n",
      "---------------------------------\n",
      "| rollout/           |          |\n",
      "|    ep_len_mean     | 15.1     |\n",
      "|    ep_rew_mean     | -30.3    |\n",
      "| time/              |          |\n",
      "|    episodes        | 20       |\n",
      "|    fps             | 0        |\n",
      "|    time_elapsed    | 338      |\n",
      "|    total timesteps | 302      |\n",
      "| train/             |          |\n",
      "|    actor_loss      | -4.87    |\n",
      "|    critic_loss     | 0.547    |\n",
      "|    ent_coef        | 0.942    |\n",
      "|    ent_coef_loss   | -0.506   |\n",
      "|    learning_rate   | 0.0003   |\n",
      "|    n_updates       | 201      |\n",
      "---------------------------------\n",
      "---------------------------------\n",
      "| rollout/           |          |\n",
      "|    ep_len_mean     | 15.8     |\n",
      "|    ep_rew_mean     | -31.5    |\n",
      "| time/              |          |\n",
      "|    episodes        | 21       |\n",
      "|    fps             | 0        |\n",
      "|    time_elapsed    | 369      |\n",
      "|    total timesteps | 332      |\n",
      "| train/             |          |\n",
      "|    actor_loss      | -4.94    |\n",
      "|    critic_loss     | 0.625    |\n",
      "|    ent_coef        | 0.933    |\n",
      "|    ent_coef_loss   | -0.581   |\n",
      "|    learning_rate   | 0.0003   |\n",
      "|    n_updates       | 231      |\n",
      "---------------------------------\n",
      "---------------------------------\n",
      "| rollout/           |          |\n",
      "|    ep_len_mean     | 15.4     |\n",
      "|    ep_rew_mean     | -30.6    |\n",
      "| time/              |          |\n",
      "|    episodes        | 22       |\n",
      "|    fps             | 0        |\n",
      "|    time_elapsed    | 377      |\n",
      "|    total timesteps | 338      |\n",
      "| train/             |          |\n",
      "|    actor_loss      | -4.91    |\n",
      "|    critic_loss     | 0.78     |\n",
      "|    ent_coef        | 0.932    |\n",
      "|    ent_coef_loss   | -0.594   |\n",
      "|    learning_rate   | 0.0003   |\n",
      "|    n_updates       | 237      |\n",
      "---------------------------------\n"
     ]
    }
   ],
   "source": [
    "for i in range(0,length):\n",
    "    model.learn(total_timesteps=step, log_interval=1, reset_num_timesteps=False)\n",
    "    cur_steps = cur_steps+step\n",
    "    img_name =algo+ \"_steps_{0}.png\".format(cur_steps)\n",
    "    model.save(network_folder+algofoler+'models/'+\"_steps_{0}\".format(cur_steps))\n",
    "    rr = evaluate_env(env_test,model,title=img_name,traj_fig_name=network_folder+algofoler+'imgs/trajs/'+img_name,reward_fig_name=network_folder+algofoler+'imgs/rewards/'+img_name)\n",
    "    if rr>last_best_reward:\n",
    "        last_best_reward=rr\n",
    "        model.save(network_folder+algofoler+'models/best')"
   ]
  },
  {
   "cell_type": "code",
   "execution_count": null,
   "metadata": {},
   "outputs": [],
   "source": []
  }
 ],
 "metadata": {
  "kernelspec": {
   "display_name": "Python 3",
   "language": "python",
   "name": "python3"
  },
  "language_info": {
   "codemirror_mode": {
    "name": "ipython",
    "version": 3
   },
   "file_extension": ".py",
   "mimetype": "text/x-python",
   "name": "python",
   "nbconvert_exporter": "python",
   "pygments_lexer": "ipython3",
   "version": "3.8.5"
  }
 },
 "nbformat": 4,
 "nbformat_minor": 4
}
