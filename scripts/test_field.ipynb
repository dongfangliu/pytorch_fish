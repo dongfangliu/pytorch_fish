{
 "cells": [
  {
   "cell_type": "code",
   "execution_count": 1,
   "metadata": {},
   "outputs": [],
   "source": [
    "import numpy as np\n",
    "import matplotlib.pyplot as plt      \n",
    "from mpl_toolkits import mplot3d"
   ]
  },
  {
   "cell_type": "code",
   "execution_count": 36,
   "metadata": {},
   "outputs": [
    {
     "data": {
      "image/png": "[encoded data removed]",
      "text/plain": [
       "<Figure size 432x288 with 1 Axes>"
      ]
     },
     "metadata": {
      "needs_background": "light"
     },
     "output_type": "display_data"
    }
   ],
   "source": [
    "plt.figure()\n",
    "\n",
    "plt.plot(np.linspace(0, 0.5, 200),np.exp(-5* (np.linspace(0, 0.5, 200))))\n",
    "plt.show()"
   ]
  },
  {
   "cell_type": "code",
   "execution_count": 23,
   "metadata": {},
   "outputs": [],
   "source": [
    "def generate_traj(fish_pos,target_pos,dist_to_path,visualize=False):\n",
    "    ## will return line_start_positions\n",
    "    x0 = [fish_pos[0],fish_pos[2]]\n",
    "    xt= [target_pos[0],target_pos[2]]\n",
    "    d = dist_to_path\n",
    "    a = xt[0]-x0[0]\n",
    "    b = xt[1]-x0[1]\n",
    "    c = x0[0]**2+x0[1]**2-x0[0]*xt[0]-x0[1]*xt[1]-d*d\n",
    "    print(a,b,c)\n",
    "    \n",
    "    p=x0[0]\n",
    "    q=x0[1]\n",
    "    r =d \n",
    "    hasSOl=True\n",
    "    \n",
    "    if np.isclose(b,0):\n",
    "        k=-c/a\n",
    "        A=1\n",
    "        B=-2*q\n",
    "        C = p*p+q*q+k*k-2*k*p-r*r\n",
    "        delta = B*B-4*A*C\n",
    "        print(A,B,C)\n",
    "        if delta<0:\n",
    "            x = None\n",
    "            y = None\n",
    "            hasSOl=False\n",
    "        elif delta>0:\n",
    "            y = np.array([(-B+np.sqrt(delta))/(2*A),(-B-np.sqrt(delta))/(2*A)])\n",
    "            x =np.array([k,k])\n",
    "        else:\n",
    "            y = np.array([-B/(2*A)])\n",
    "            x =np.array([k])\n",
    "    else:\n",
    "        m=-a/b\n",
    "        c=-c/b\n",
    "        A=m*m+1\n",
    "        B=2*(m*c-m*q-p)\n",
    "        C=q*q-r*r+p*p-2*c*q+c*c\n",
    "        delta = B*B-4*A*C\n",
    "        if delta<0:\n",
    "            x = None\n",
    "            y = None\n",
    "            hasSOl=False\n",
    "        elif delta>0:\n",
    "            x = np.array([(-B+np.sqrt(delta))/(2*A),(-B-np.sqrt(delta))/(2*A)])\n",
    "            y =m*x+c\n",
    "        else:\n",
    "            x = np.array([-B/(2*A)])\n",
    "            y=m*x+c\n",
    "            \n",
    "    if visualize:\n",
    "        plt.figure()\n",
    "        plt.scatter(x0[0],x0[1])\n",
    "        plt.scatter(xt[0],xt[1])\n",
    "        theta = np.linspace(0, 2 * np.pi, 200)\n",
    "        plt.plot( d*np.cos(theta)+x0[0],d*np.sin(theta)+x0[1],color=\"darkred\")\n",
    "        plt.scatter(x,y,color='blue')\n",
    "        if hasSOl:\n",
    "            for i in range(x.shape[0]):\n",
    "                plt.plot([xt[0],x[i]],[xt[1],y[i]],color='green')\n",
    "        else:\n",
    "            print(\"no such lines\")\n",
    "        plt.axis(\"equal\")\n",
    "        plt.show()\n",
    "#         if hasSOl:\n",
    "#             for i in range(x.shape[0]):\n",
    "#                 print( (x[i]-x0[0])*(x[i]-xt[0])+(y[i]-x0[1])*(y[i]-xt[1]))\n",
    "    print(x,y)\n",
    "    return (hasSOl,np.stack([x,y],axis=1))"
   ]
  },
  {
   "cell_type": "code",
   "execution_count": 24,
   "metadata": {},
   "outputs": [],
   "source": [
    "x0 = np.array([ 1.18213071e-01,  2.80715732e-04, -2.59946415e-08])\n",
    "xt = np.array([ 1.11821307e+00,  2.80715732e-04, -2.59946415e-08])\n",
    "d = 0\n"
   ]
  },
  {
   "cell_type": "code",
   "execution_count": 25,
   "metadata": {},
   "outputs": [
    {
     "name": "stdout",
     "output_type": "stream",
     "text": [
      "0.9999999989999999 0.0 -0.11821307088178692\n",
      "1 5.1989283e-08 6.765421556309548e-16\n",
      "no such lines\n"
     ]
    },
    {
     "data": {
      "image/png": "[encoded data removed]",
      "text/plain": [
       "<Figure size 432x288 with 1 Axes>"
      ]
     },
     "metadata": {
      "needs_background": "light"
     },
     "output_type": "display_data"
    },
    {
     "name": "stdout",
     "output_type": "stream",
     "text": [
      "None None\n"
     ]
    },
    {
     "ename": "AxisError",
     "evalue": "axis 1 is out of bounds for array of dimension 1",
     "output_type": "error",
     "traceback": [
      "\u001b[0;31m---------------------------------------------------------------------------\u001b[0m",
      "\u001b[0;31mAxisError\u001b[0m                                 Traceback (most recent call last)",
      "\u001b[0;32m<ipython-input-25-22671e05a70f>\u001b[0m in \u001b[0;36m<module>\u001b[0;34m\u001b[0m\n\u001b[0;32m----> 1\u001b[0;31m \u001b[0mhasSol\u001b[0m\u001b[0;34m,\u001b[0m\u001b[0mpoint\u001b[0m \u001b[0;34m=\u001b[0m \u001b[0mgenerate_traj\u001b[0m\u001b[0;34m(\u001b[0m\u001b[0mx0\u001b[0m\u001b[0;34m,\u001b[0m\u001b[0mxt\u001b[0m\u001b[0;34m,\u001b[0m\u001b[0md\u001b[0m\u001b[0;34m,\u001b[0m\u001b[0mvisualize\u001b[0m\u001b[0;34m=\u001b[0m\u001b[0;32mTrue\u001b[0m\u001b[0;34m)\u001b[0m\u001b[0;34m\u001b[0m\u001b[0;34m\u001b[0m\u001b[0m\n\u001b[0m",
      "\u001b[0;32m<ipython-input-23-c51d9f39f9ee>\u001b[0m in \u001b[0;36mgenerate_traj\u001b[0;34m(fish_pos, target_pos, dist_to_path, visualize)\u001b[0m\n\u001b[1;32m     67\u001b[0m \u001b[0;31m#                 print( (x[i]-x0[0])*(x[i]-xt[0])+(y[i]-x0[1])*(y[i]-xt[1]))\u001b[0m\u001b[0;34m\u001b[0m\u001b[0;34m\u001b[0m\u001b[0;34m\u001b[0m\u001b[0m\n\u001b[1;32m     68\u001b[0m     \u001b[0mprint\u001b[0m\u001b[0;34m(\u001b[0m\u001b[0mx\u001b[0m\u001b[0;34m,\u001b[0m\u001b[0my\u001b[0m\u001b[0;34m)\u001b[0m\u001b[0;34m\u001b[0m\u001b[0;34m\u001b[0m\u001b[0m\n\u001b[0;32m---> 69\u001b[0;31m     \u001b[0;32mreturn\u001b[0m \u001b[0;34m(\u001b[0m\u001b[0mhasSOl\u001b[0m\u001b[0;34m,\u001b[0m\u001b[0mnp\u001b[0m\u001b[0;34m.\u001b[0m\u001b[0mstack\u001b[0m\u001b[0;34m(\u001b[0m\u001b[0;34m[\u001b[0m\u001b[0mx\u001b[0m\u001b[0;34m,\u001b[0m\u001b[0my\u001b[0m\u001b[0;34m]\u001b[0m\u001b[0;34m,\u001b[0m\u001b[0maxis\u001b[0m\u001b[0;34m=\u001b[0m\u001b[0;36m1\u001b[0m\u001b[0;34m)\u001b[0m\u001b[0;34m)\u001b[0m\u001b[0;34m\u001b[0m\u001b[0;34m\u001b[0m\u001b[0m\n\u001b[0m",
      "\u001b[0;32m<__array_function__ internals>\u001b[0m in \u001b[0;36mstack\u001b[0;34m(*args, **kwargs)\u001b[0m\n",
      "\u001b[0;32m~/anaconda3/envs/pytorch_sac/lib/python3.7/site-packages/numpy/core/shape_base.py\u001b[0m in \u001b[0;36mstack\u001b[0;34m(arrays, axis, out)\u001b[0m\n\u001b[1;32m    428\u001b[0m \u001b[0;34m\u001b[0m\u001b[0m\n\u001b[1;32m    429\u001b[0m     \u001b[0mresult_ndim\u001b[0m \u001b[0;34m=\u001b[0m \u001b[0marrays\u001b[0m\u001b[0;34m[\u001b[0m\u001b[0;36m0\u001b[0m\u001b[0;34m]\u001b[0m\u001b[0;34m.\u001b[0m\u001b[0mndim\u001b[0m \u001b[0;34m+\u001b[0m \u001b[0;36m1\u001b[0m\u001b[0;34m\u001b[0m\u001b[0;34m\u001b[0m\u001b[0m\n\u001b[0;32m--> 430\u001b[0;31m     \u001b[0maxis\u001b[0m \u001b[0;34m=\u001b[0m \u001b[0mnormalize_axis_index\u001b[0m\u001b[0;34m(\u001b[0m\u001b[0maxis\u001b[0m\u001b[0;34m,\u001b[0m \u001b[0mresult_ndim\u001b[0m\u001b[0;34m)\u001b[0m\u001b[0;34m\u001b[0m\u001b[0;34m\u001b[0m\u001b[0m\n\u001b[0m\u001b[1;32m    431\u001b[0m \u001b[0;34m\u001b[0m\u001b[0m\n\u001b[1;32m    432\u001b[0m     \u001b[0msl\u001b[0m \u001b[0;34m=\u001b[0m \u001b[0;34m(\u001b[0m\u001b[0mslice\u001b[0m\u001b[0;34m(\u001b[0m\u001b[0;32mNone\u001b[0m\u001b[0;34m)\u001b[0m\u001b[0;34m,\u001b[0m\u001b[0;34m)\u001b[0m \u001b[0;34m*\u001b[0m \u001b[0maxis\u001b[0m \u001b[0;34m+\u001b[0m \u001b[0;34m(\u001b[0m\u001b[0m_nx\u001b[0m\u001b[0;34m.\u001b[0m\u001b[0mnewaxis\u001b[0m\u001b[0;34m,\u001b[0m\u001b[0;34m)\u001b[0m\u001b[0;34m\u001b[0m\u001b[0;34m\u001b[0m\u001b[0m\n",
      "\u001b[0;31mAxisError\u001b[0m: axis 1 is out of bounds for array of dimension 1"
     ]
    }
   ],
   "source": [
    "hasSol,point = generate_traj(x0,xt,d,visualize=True)"
   ]
  },
  {
   "cell_type": "code",
   "execution_count": 5,
   "metadata": {},
   "outputs": [
    {
     "name": "stdout",
     "output_type": "stream",
     "text": [
      "[[-0.  0.]]\n"
     ]
    }
   ],
   "source": [
    "print(point)"
   ]
  },
  {
   "cell_type": "code",
   "execution_count": null,
   "metadata": {},
   "outputs": [],
   "source": [
    "\n",
    "a = xt[0]-x0[0]\n",
    "b = xt[1]-x0[1]\n",
    "c = x0[0]**2+x0[1]**2-x0[0]*xt[0]-x0[1]*xt[1]-d*d\n",
    "m=-a/b\n",
    "c=-c/b\n",
    "p=x0[0]\n",
    "q=x0[1]\n",
    "r =d "
   ]
  },
  {
   "cell_type": "code",
   "execution_count": null,
   "metadata": {},
   "outputs": [],
   "source": [
    "A=m*m+1\n",
    "B=2*(m*c-m*q-p)\n",
    "C=q*q-r*r+p*p-2*c*q+c*c\n",
    "delta = B*B-4*A*C\n",
    "hasSOl=True\n",
    "if delta<0:\n",
    "    x = None\n",
    "    y = None\n",
    "    hasSOl=False\n",
    "elif delta>0:\n",
    "    x = np.array([(-B+np.sqrt(delta))/(2*A),(-B-np.sqrt(delta))/(2*A)])\n",
    "    y=m*x+c\n",
    "else:\n",
    "    x = np.array([-B/(2*A)])\n",
    "    y=m*x+c"
   ]
  },
  {
   "cell_type": "code",
   "execution_count": null,
   "metadata": {},
   "outputs": [],
   "source": [
    "plt.figure()\n",
    "plt.scatter(x0[0],x0[1])\n",
    "plt.scatter(xt[0],xt[1])\n",
    "theta = np.linspace(0, 2 * np.pi, 200)\n",
    "plt.plot( d*np.cos(theta)+x0[0],d*np.sin(theta)+x0[1],color=\"darkred\")\n",
    "plt.scatter(x,y,color='blue')\n",
    "if hasSOl:\n",
    "    for i in range(x.shape[0]):\n",
    "        plt.plot([xt[0],x[i]],[xt[1],y[i]],color='green')\n",
    "else:\n",
    "    print(\"no such lines\")\n",
    "plt.axis(\"equal\")\n",
    "plt.show()\n",
    "if hasSOl:\n",
    "    for i in range(x.shape[0]):\n",
    "        print( (x[i]-x0[0])*(x[i]-xt[0])+(y[i]-x0[1])*(y[i]-xt[1]))\n"
   ]
  },
  {
   "cell_type": "code",
   "execution_count": null,
   "metadata": {},
   "outputs": [],
   "source": [
    "range_start=-0.5\n",
    "range_end =0.5\n",
    "gamma = 15\n",
    "sample_num=10000\n",
    "\n",
    "x=np.arange(range_start,range_end,step=(range_end-range_start)/sample_num)\n",
    "y = np.exp(-gamma*np.abs(x))\n",
    "\n",
    "plt.figure()\n",
    "plt.plot(x,y)\n",
    "plt.show()"
   ]
  }
 ],
 "metadata": {
  "kernelspec": {
   "display_name": "Python 3",
   "language": "python",
   "name": "python3"
  },
  "language_info": {
   "codemirror_mode": {
    "name": "ipython",
    "version": 3
   },
   "file_extension": ".py",
   "mimetype": "text/x-python",
   "name": "python",
   "nbconvert_exporter": "python",
   "pygments_lexer": "ipython3",
   "version": "3.7.6"
  }
 },
 "nbformat": 4,
 "nbformat_minor": 4
}
