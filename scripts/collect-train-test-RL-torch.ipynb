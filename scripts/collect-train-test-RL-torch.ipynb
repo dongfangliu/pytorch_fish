{
 "cells": [
  {
   "cell_type": "code",
   "execution_count": 1,
   "metadata": {
    "scrolled": true
   },
   "outputs": [],
   "source": [
    "import matplotlib.pyplot as plt      \n",
    "from mpl_toolkits import mplot3d\n",
    "import os\n",
    "import sys\n",
    "import glob\n",
    "import time\n",
    "import shutil\n",
    "import gym\n",
    "from gym import error, spaces, utils\n",
    "import numpy as np\n",
    "import math\n",
    "from pathlib import Path"
   ]
  },
  {
   "cell_type": "code",
   "execution_count": 2,
   "metadata": {},
   "outputs": [],
   "source": [
    "import gym_fish"
   ]
  },
  {
   "cell_type": "code",
   "execution_count": 3,
   "metadata": {},
   "outputs": [],
   "source": [
    "from gym_fish.envs.lib import pyflare as fl"
   ]
  },
  {
   "cell_type": "code",
   "execution_count": 4,
   "metadata": {
    "scrolled": true
   },
   "outputs": [],
   "source": [
    "Experiment_name = '90 degree servo control EMPIRICAL mass10 2_30 WP 1.0 wr 0.0 wa0.0'\n",
    "Experiment_note = \"change rotation reward\""
   ]
  },
  {
   "cell_type": "code",
   "execution_count": 5,
   "metadata": {},
   "outputs": [
    {
     "name": "stdout",
     "output_type": "stream",
     "text": [
      "/home/liuwj/codes/pytorch_fish\n"
     ]
    }
   ],
   "source": [
    "os.chdir(Path(os.getcwd()+\"/../\").resolve())\n",
    "print(os.getcwd())"
   ]
  },
  {
   "cell_type": "markdown",
   "metadata": {},
   "source": [
    "### Import Settings"
   ]
  },
  {
   "cell_type": "code",
   "execution_count": 6,
   "metadata": {
    "scrolled": true
   },
   "outputs": [],
   "source": [
    "cwd = os.getcwd()+\"/\"\n",
    "data_folder =cwd+ 'py_data/'\n",
    "json_folder =data_folder+'jsons/'\n",
    "path_folder =json_folder+'paths/'\n",
    "scripts_folder = cwd+'scripts/'"
   ]
  },
  {
   "cell_type": "code",
   "execution_count": 7,
   "metadata": {
    "scrolled": true
   },
   "outputs": [
    {
     "name": "stdout",
     "output_type": "stream",
     "text": [
      "/home/liuwj/codes/pytorch_fish/py_data/jsons/fluid_param_0.5.json\n",
      "/home/liuwj/codes/pytorch_fish/py_data/jsons/rigids_2_30.json\n",
      "/home/liuwj/codes/pytorch_fish/py_data/jsons/paths/line.json\n"
     ]
    }
   ],
   "source": [
    "fluid_json = json_folder+'fluid_param_0.5.json'\n",
    "rigid_json = json_folder+'rigids_2_30.json'\n",
    "path_json = str(Path(\"./py_data/jsons/paths/line.json\").resolve())\n",
    "print(fluid_json)\n",
    "print(rigid_json)\n",
    "print(path_json)"
   ]
  },
  {
   "cell_type": "code",
   "execution_count": 8,
   "metadata": {
    "scrolled": true
   },
   "outputs": [],
   "source": [
    "def plot_infos(infos,title,reward_fig_name):\n",
    "    dd = {k:[] for k in infos[0].keys()}\n",
    "    for info in infos:\n",
    "        for k in info.keys():\n",
    "            dd[k].append(info[k])\n",
    "    plt.figure()\n",
    "    for k in dd.keys():\n",
    "        if k=='action_penality':\n",
    "            plt.plot(np.arange(0,len(dd[k])),[kkk  for kkk in dd[k]],label=k)\n",
    "        else:\n",
    "            plt.plot(np.arange(0,len(dd[k])),dd[k],label=k)\n",
    "    plt.legend()\n",
    "    plt.title(title)\n",
    "    plt.savefig(reward_fig_name)\n",
    "    # plt.show()"
   ]
  },
  {
   "cell_type": "markdown",
   "metadata": {},
   "source": [
    "### Output Settings"
   ]
  },
  {
   "cell_type": "code",
   "execution_count": 9,
   "metadata": {
    "scrolled": true
   },
   "outputs": [],
   "source": [
    "store_folder_name = time.strftime('%Y-%m-%d/',time.localtime(time.time()))+Experiment_name+'_'+time.strftime('%Y-%m-%d %H:%M/',time.localtime(time.time()))\n",
    "imgs_folder_name = 'imgs/'\n",
    "rl_data_folder_name = 'rl_data/'\n",
    "rl_data_all_name='collected_o_a.npz'\n",
    "network_folder_name = 'networks/'\n",
    "store_folder = cwd+'output_data/'+store_folder_name\n",
    "imgs_folder = store_folder+imgs_folder_name\n",
    "rl_data_folder= store_folder+rl_data_folder_name\n",
    "network_folder = store_folder+network_folder_name\n",
    "\n",
    "if not os.path.exists(store_folder):\n",
    "    os.makedirs(store_folder)\n",
    "if not os.path.exists(imgs_folder):\n",
    "    os.makedirs(imgs_folder)\n",
    "if not os.path.exists(rl_data_folder):\n",
    "    os.makedirs(rl_data_folder)\n",
    "if not os.path.exists(network_folder):\n",
    "    os.makedirs(network_folder)"
   ]
  },
  {
   "cell_type": "markdown",
   "metadata": {},
   "source": [
    "## Saving sources"
   ]
  },
  {
   "cell_type": "code",
   "execution_count": 10,
   "metadata": {
    "scrolled": true
   },
   "outputs": [],
   "source": [
    "save_sources = True\n",
    "sources_folder_name = ['py_data','scripts']\n",
    "if save_sources==True:\n",
    "    for fn in sources_folder_name:\n",
    "        shutil.copytree(cwd+fn,store_folder+'sources/'+fn)\n",
    "with open(store_folder+'note.txt','w+') as f:\n",
    "    f.write(time.strftime('%Y-%m-%d %H:%M\\n',time.localtime(time.time())))\n",
    "    f.write(Experiment_note)"
   ]
  },
  {
   "cell_type": "markdown",
   "metadata": {},
   "source": [
    "### RL_TRAINING Setup"
   ]
  },
  {
   "cell_type": "code",
   "execution_count": 11,
   "metadata": {
    "scrolled": true
   },
   "outputs": [],
   "source": [
    "import numpy as np\n",
    "import torch\n",
    "import torch.nn as nn\n",
    "import torch.nn.functional as F\n",
    "import copy\n",
    "import math\n",
    "import os\n",
    "import sys\n",
    "import time\n",
    "import pickle as pkl\n",
    "\n",
    "from video import VideoRecorder\n",
    "from logger import Logger\n",
    "from agent.replay_buffer import ReplayBuffer\n",
    "from agent import utils"
   ]
  },
  {
   "cell_type": "markdown",
   "metadata": {},
   "source": [
    "## RL Begin"
   ]
  },
  {
   "cell_type": "code",
   "execution_count": 12,
   "metadata": {
    "jupyter": {
     "outputs_hidden": false
    },
    "pycharm": {
     "name": "#%%\n"
    }
   },
   "outputs": [
    {
     "name": "stdout",
     "output_type": "stream",
     "text": [
      "0\n",
      "0\n",
      "[0.97686249 2.00028078 2.99999994] [ 9.99980604e-01 -6.22825676e-03  2.04357705e-06] [0.97686249 2.00028078 4.99999994] [6.123234e-17 0.000000e+00 1.000000e+00]\n"
     ]
    }
   ],
   "source": [
    "from gym_fish.envs import FishEnv\n",
    "env = gym.make('fish-v0',\n",
    "                  gpuId=0,\n",
    "                       path_json=path_json,\n",
    "                        couple_mode= fl.COUPLE_MODE.EMPIRICAL,\n",
    "                         theta = 90,frame_skip=100,\n",
    "                       fluid_json=fluid_json,wp=1.0,wr=0.0,wa=0.0,\n",
    "                       rigid_json=rigid_json,\n",
    "                   )"
   ]
  },
  {
   "cell_type": "code",
   "execution_count": 13,
   "metadata": {
    "jupyter": {
     "outputs_hidden": false
    },
    "pycharm": {
     "name": "#%%\n"
    }
   },
   "outputs": [],
   "source": [
    "from agent.sac import SACAgent\n",
    "from agent.critic import DoubleQCritic\n",
    "from agent.actor import DiagGaussianActor"
   ]
  },
  {
   "cell_type": "code",
   "execution_count": 14,
   "metadata": {},
   "outputs": [],
   "source": [
    "algo = 'SAC'\n",
    "algofoler=algo+'/'\n",
    "if not os.path.exists(network_folder+algofoler):\n",
    "    os.makedirs(network_folder+algofoler)\n",
    "if not os.path.exists(network_folder+algofoler+'imgs/'):\n",
    "    os.makedirs(network_folder+algofoler+'imgs/')\n",
    "if not os.path.exists(network_folder+algofoler+'imgs/trajs/'):\n",
    "    os.makedirs(network_folder+algofoler+'imgs/trajs/')\n",
    "if not os.path.exists(network_folder+algofoler+'imgs/rewards/'):\n",
    "    os.makedirs(network_folder+algofoler+'imgs/rewards/')\n",
    "if not os.path.exists(network_folder+algofoler+'models/'):\n",
    "    os.makedirs(network_folder+algofoler+'models/')\n",
    "\n",
    "tb_folder =  network_folder+algofoler\n",
    "model_folder = network_folder+algofoler+'models/'\n",
    "result_img_folder = network_folder+algofoler+'imgs/'"
   ]
  },
  {
   "cell_type": "code",
   "execution_count": 15,
   "metadata": {
    "jupyter": {
     "outputs_hidden": false
    },
    "pycharm": {
     "name": "#%%\n"
    }
   },
   "outputs": [],
   "source": [
    "num_train_steps=1e6\n",
    "replay_buffer_capacity=5000\n",
    "num_seed_steps=256\n",
    "eval_frequency=1000\n",
    "num_eval_episodes=5\n",
    "device=\"cuda\"\n",
    "# logger\n",
    "log_frequency=10000\n",
    "log_save_tb=True\n",
    "# video recorder\n",
    "save_video=False\n",
    "seed=1"
   ]
  },
  {
   "cell_type": "code",
   "execution_count": 16,
   "metadata": {
    "jupyter": {
     "outputs_hidden": false
    },
    "pycharm": {
     "name": "#%%\n"
    }
   },
   "outputs": [],
   "source": [
    "# agent settings\n",
    "obs_dim=env.observation_space.shape[0] # to be specified later\n",
    "action_dim=env.action_space.shape[0] # to be specified later\n",
    "action_range=[\n",
    "        float(env.action_space.low.min()),\n",
    "        float(env.action_space.high.max())\n",
    "    ] # to be specified later\n",
    "discount=0.99\n",
    "init_temperature=0.1\n",
    "alpha_lr=3e-4\n",
    "alpha_betas=[0.9, 0.999]\n",
    "actor_lr=3e-4\n",
    "actor_betas=[0.9, 0.999]\n",
    "actor_update_frequency=1\n",
    "critic_lr=3e-4\n",
    "critic_betas=[0.9, 0.999]\n",
    "critic_tau=0.005\n",
    "critic_target_update_frequency=2\n",
    "batch_size=128\n",
    "learnable_temperature=True\n",
    "\n",
    "# critic settings\n",
    "critic_hidden_dim=128\n",
    "critic_hidden_depth=2\n",
    "# actor settings\n",
    "actor_hidden_depth=2\n",
    "actor_hidden_dim=128\n",
    "actor_log_std_bounds=[-5, 2]\n",
    "\n",
    "\n",
    "critic_network = DoubleQCritic(obs_dim,action_dim,critic_hidden_dim,critic_hidden_depth)\n",
    "\n",
    "actor_network = DiagGaussianActor(obs_dim,action_dim,actor_hidden_dim,actor_hidden_depth,actor_log_std_bounds)\n",
    "\n",
    "replay_buffer = ReplayBuffer(env.observation_space.shape,\n",
    "                                         env.action_space.shape,\n",
    "                                          int(replay_buffer_capacity),\n",
    "                                         device)\n",
    "\n",
    "agent = SACAgent(obs_dim,action_dim,action_range,device,critic_network,actor_network,replay_buffer,discount,init_temperature,alpha_lr,alpha_betas,actor_lr,actor_betas,actor_update_frequency,critic_lr,critic_betas,critic_tau,critic_target_update_frequency,batch_size,learnable_temperature)"
   ]
  },
  {
   "cell_type": "code",
   "execution_count": 17,
   "metadata": {
    "scrolled": true
   },
   "outputs": [],
   "source": [
    "evaluate_save_data = False\n",
    "evaluate_save_fluid = False\n",
    "\n"
   ]
  },
  {
   "cell_type": "code",
   "execution_count": 18,
   "metadata": {
    "jupyter": {
     "outputs_hidden": false
    },
    "pycharm": {
     "name": "#%%\n"
    }
   },
   "outputs": [],
   "source": [
    "class Workspace(object):\n",
    "    def __init__(self,env):\n",
    "        self.work_dir = os.getcwd()\n",
    "        print(f'workspace: {self.work_dir}')\n",
    "\n",
    "        self.num_eval_episodes= num_eval_episodes\n",
    "        self.num_train_steps = num_train_steps\n",
    "        self.num_seed_steps = num_seed_steps\n",
    "        self.eval_frequency=eval_frequency\n",
    "\n",
    "        self.logger = Logger(tb_folder,\n",
    "                             save_tb=log_save_tb,\n",
    "                             log_frequency=log_frequency,\n",
    "                             agent=\"sac\")\n",
    "\n",
    "        utils.set_seed_everywhere(seed)\n",
    "        self.device = torch.device(device)\n",
    "        self.env = env\n",
    "        self.evaluate_save_data =evaluate_save_data\n",
    "        self.evaluate_save_fluid =evaluate_save_fluid\n",
    "        self.agent = agent\n",
    "\n",
    "\n",
    "        # self.video_recorder = VideoRecorder(\n",
    "        #     self.work_dir if save_video else None)\n",
    "        self.step = 0\n",
    "        self.next_eval_steps= self.eval_frequency\n",
    "\n",
    "    def evaluate(self):\n",
    "        average_episode_reward = 0\n",
    "        reward_fig_name =result_img_folder+'rewards/'+\"steps_{0}.png\".format(self.step)\n",
    "        traj_fig_name =result_img_folder+'trajs/'+\"steps_{0}.png\".format(self.step)\n",
    "        model_path = model_folder+\"steps_{0}\".format(self.step)\n",
    "        # save model\n",
    "        self.agent.save(model_path)\n",
    "        best_rewards = -9999\n",
    "        for episode in range(self.num_eval_episodes):\n",
    "            print(\"Evaluating episode \" + str(episode) +\" ....\")\n",
    "            obs = self.env.reset()\n",
    "            self.agent.reset()\n",
    "            # self.video_recorder.init(enabled=(episode == 0))\n",
    "            done = False\n",
    "            episode_reward = 0\n",
    "            infos = []\n",
    "            while not done:\n",
    "                with utils.eval_mode(self.agent):\n",
    "                    action = self.agent.act(obs, sample=False)\n",
    "                if self.evaluate_save_data:\n",
    "                    obs, reward, done, info = self.env.stepSave(action,save_fluid=self.evaluate_save_fluid)\n",
    "                else:\n",
    "                    obs, reward, done, info = self.env.step(action)\n",
    "                infos.append(info)\n",
    "                # self.video_recorder.record(self.env)\n",
    "                episode_reward += reward\n",
    "            if episode_reward>best_rewards:\n",
    "                best_rewards = episode_reward\n",
    "                plot_infos(infos,title=str(self.step),reward_fig_name=reward_fig_name)\n",
    "                env.plot3d(title=str(self.step),fig_name = traj_fig_name)\n",
    "            average_episode_reward += episode_reward\n",
    "            # self.video_recorder.save(f'{self.step}.mp4')\n",
    "        average_episode_reward /= self.num_eval_episodes\n",
    "        self.logger.log('eval/episode_reward', average_episode_reward,\n",
    "                        self.step)\n",
    "        self.logger.dump(self.step)\n",
    "\n",
    "    def run(self):\n",
    "        episode, episode_reward, done = 0, 0, True\n",
    "        start_time = time.time()\n",
    "        while self.step < self.num_train_steps:\n",
    "            if done:\n",
    "                if self.step > 0:\n",
    "                    self.logger.log('train/duration',\n",
    "                                    time.time() - start_time, self.step)\n",
    "                    start_time = time.time()\n",
    "                    self.logger.dump(\n",
    "                        self.step, save=(self.step > self.num_seed_steps))\n",
    "\n",
    "                # evaluate agent periodically\n",
    "                if self.step > 0 and self.step >=self.next_eval_steps:\n",
    "                    self.logger.log('eval/episode', episode, self.step)\n",
    "                    self.next_eval_steps = self.next_eval_steps+self.eval_frequency\n",
    "                    self.evaluate()\n",
    "\n",
    "                self.logger.log('train/episode_reward', episode_reward,\n",
    "                                self.step)\n",
    "\n",
    "                obs = self.env.reset()\n",
    "                self.agent.reset()\n",
    "                done = False\n",
    "                episode_reward = 0\n",
    "                episode_step = 0\n",
    "                episode += 1\n",
    "\n",
    "                self.logger.log('train/episode', episode, self.step)\n",
    "\n",
    "            # sample action for data collection\n",
    "            if self.step < self.num_seed_steps:\n",
    "                action = self.env.action_space.sample()\n",
    "            else:\n",
    "                with utils.eval_mode(self.agent):\n",
    "                    action = self.agent.act(obs, sample=True)\n",
    "\n",
    "            # run training update\n",
    "            if self.step >= self.num_seed_steps:\n",
    "                self.agent.update(self.logger, self.step)\n",
    "\n",
    "            next_obs, reward, done, _ = self.env.step(action)\n",
    "\n",
    "            # allow infinite bootstrap\n",
    "            done = float(done)\n",
    "#             done_no_max = 0 if episode_step + 1 == self.env._max_episode_steps else done\n",
    "            done_no_max = done\n",
    "            episode_reward += reward\n",
    "\n",
    "            self.agent.replay_buffer.add(obs, action, reward, next_obs, done,\n",
    "                                   done_no_max)\n",
    "\n",
    "            obs = next_obs\n",
    "            episode_step += 1\n",
    "            self.step += 1\n"
   ]
  },
  {
   "cell_type": "markdown",
   "metadata": {},
   "source": [
    "### RL Train"
   ]
  },
  {
   "cell_type": "code",
   "execution_count": 19,
   "metadata": {},
   "outputs": [
    {
     "name": "stdout",
     "output_type": "stream",
     "text": [
      "rm: 无法删除'./data/vis_data/Objects/*': 没有那个文件或目录\r\n",
      "rm: 无法删除'./data/vis_data/Fluid/*': 没有那个文件或目录\r\n"
     ]
    }
   ],
   "source": [
    "!./clean_visdata.sh"
   ]
  },
  {
   "cell_type": "code",
   "execution_count": 20,
   "metadata": {
    "pycharm": {
     "name": "#%%\n"
    }
   },
   "outputs": [
    {
     "name": "stdout",
     "output_type": "stream",
     "text": [
      "workspace: /home/liuwj/codes/pytorch_fish\n"
     ]
    }
   ],
   "source": [
    "ws = Workspace(env)"
   ]
  },
  {
   "cell_type": "code",
   "execution_count": 21,
   "metadata": {},
   "outputs": [
    {
     "name": "stdout",
     "output_type": "stream",
     "text": [
      "0\n",
      "[0.97686249 2.00028078 2.99999994] [ 9.99980604e-01 -6.22825676e-03  2.04357705e-06] [0.97686249 2.00028078 4.99999994] [6.123234e-17 0.000000e+00 1.000000e+00]\n",
      "0\n",
      "[0.97686249 2.00028078 2.99999994] [ 9.99980604e-01 -6.22825676e-03  2.04357705e-06] [0.97686249 2.00028078 4.99999994] [6.123234e-17 0.000000e+00 1.000000e+00]\n",
      "0\n",
      "[0.97686249 2.00028078 2.99999994] [ 9.99980604e-01 -6.22825676e-03  2.04357705e-06] [0.97686249 2.00028078 4.99999994] [6.123234e-17 0.000000e+00 1.000000e+00]\n",
      "0\n",
      "[0.97686249 2.00028078 2.99999994] [ 9.99980604e-01 -6.22825676e-03  2.04357705e-06] [0.97686249 2.00028078 4.99999994] [6.123234e-17 0.000000e+00 1.000000e+00]\n",
      "0\n",
      "[0.97686249 2.00028078 2.99999994] [ 9.99980604e-01 -6.22825676e-03  2.04357705e-06] [0.97686249 2.00028078 4.99999994] [6.123234e-17 0.000000e+00 1.000000e+00]\n",
      "0\n",
      "[0.97686249 2.00028078 2.99999994] [ 9.99980604e-01 -6.22825676e-03  2.04357705e-06] [0.97686249 2.00028078 4.99999994] [6.123234e-17 0.000000e+00 1.000000e+00]\n",
      "| \u001b[33mtrain\u001b[0m | E: 6 | S: 306 | R: -0.4602 | D: 26.0 s | BR: -0.0081 | ALOSS: -0.0470 | CLOSS: 0.1823 | TLOSS: 0.1482 | TVAL: 0.0992 | AENT: 0.4937\n",
      "0\n",
      "[0.97686249 2.00028078 2.99999994] [ 9.99980604e-01 -6.22825676e-03  2.04357705e-06] [0.97686249 2.00028078 4.99999994] [6.123234e-17 0.000000e+00 1.000000e+00]\n",
      "| \u001b[33mtrain\u001b[0m | E: 7 | S: 357 | R: -0.6990 | D: 25.4 s | BR: -0.0113 | ALOSS: -0.4826 | CLOSS: 0.0431 | TLOSS: 0.1487 | TVAL: 0.0977 | AENT: 0.5227\n",
      "0\n",
      "[0.97686249 2.00028078 2.99999994] [ 9.99980604e-01 -6.22825676e-03  2.04357705e-06] [0.97686249 2.00028078 4.99999994] [6.123234e-17 0.000000e+00 1.000000e+00]\n",
      "| \u001b[33mtrain\u001b[0m | E: 8 | S: 408 | R: -1.0369 | D: 25.4 s | BR: -0.0083 | ALOSS: -1.3094 | CLOSS: 0.1285 | TLOSS: 0.1385 | TVAL: 0.0962 | AENT: 0.4392\n",
      "0\n",
      "[0.97686249 2.00028078 2.99999994] [ 9.99980604e-01 -6.22825676e-03  2.04357705e-06] [0.97686249 2.00028078 4.99999994] [6.123234e-17 0.000000e+00 1.000000e+00]\n",
      "| \u001b[33mtrain\u001b[0m | E: 9 | S: 459 | R: 0.7567 | D: 25.2 s | BR: -0.0088 | ALOSS: -1.6953 | CLOSS: 0.1731 | TLOSS: 0.1407 | TVAL: 0.0948 | AENT: 0.4834\n",
      "0\n",
      "[0.97686249 2.00028078 2.99999994] [ 9.99980604e-01 -6.22825676e-03  2.04357705e-06] [0.97686249 2.00028078 4.99999994] [6.123234e-17 0.000000e+00 1.000000e+00]\n",
      "| \u001b[33mtrain\u001b[0m | E: 10 | S: 510 | R: -0.3292 | D: 25.4 s | BR: -0.0031 | ALOSS: -1.8040 | CLOSS: 0.1761 | TLOSS: 0.1425 | TVAL: 0.0934 | AENT: 0.5251\n",
      "0\n",
      "[0.97686249 2.00028078 2.99999994] [ 9.99980604e-01 -6.22825676e-03  2.04357705e-06] [0.97686249 2.00028078 4.99999994] [6.123234e-17 0.000000e+00 1.000000e+00]\n",
      "| \u001b[33mtrain\u001b[0m | E: 11 | S: 561 | R: -1.1012 | D: 25.3 s | BR: -0.0008 | ALOSS: -1.7287 | CLOSS: 0.1586 | TLOSS: 0.1422 | TVAL: 0.0920 | AENT: 0.5451\n",
      "0\n",
      "[0.97686249 2.00028078 2.99999994] [ 9.99980604e-01 -6.22825676e-03  2.04357705e-06] [0.97686249 2.00028078 4.99999994] [6.123234e-17 0.000000e+00 1.000000e+00]\n",
      "| \u001b[33mtrain\u001b[0m | E: 12 | S: 612 | R: -0.2684 | D: 25.6 s | BR: -0.0057 | ALOSS: -1.7709 | CLOSS: 0.1841 | TLOSS: 0.1360 | TVAL: 0.0907 | AENT: 0.5007\n",
      "0\n",
      "[0.97686249 2.00028078 2.99999994] [ 9.99980604e-01 -6.22825676e-03  2.04357705e-06] [0.97686249 2.00028078 4.99999994] [6.123234e-17 0.000000e+00 1.000000e+00]\n",
      "| \u001b[33mtrain\u001b[0m | E: 13 | S: 663 | R: 0.2334 | D: 25.6 s | BR: -0.0013 | ALOSS: -1.7855 | CLOSS: 0.1674 | TLOSS: 0.1321 | TVAL: 0.0894 | AENT: 0.4781\n",
      "0\n",
      "[0.97686249 2.00028078 2.99999994] [ 9.99980604e-01 -6.22825676e-03  2.04357705e-06] [0.97686249 2.00028078 4.99999994] [6.123234e-17 0.000000e+00 1.000000e+00]\n",
      "| \u001b[33mtrain\u001b[0m | E: 14 | S: 714 | R: 0.9261 | D: 25.2 s | BR: -0.0078 | ALOSS: -1.8602 | CLOSS: 0.1787 | TLOSS: 0.1308 | TVAL: 0.0881 | AENT: 0.4850\n",
      "0\n",
      "[0.97686249 2.00028078 2.99999994] [ 9.99980604e-01 -6.22825676e-03  2.04357705e-06] [0.97686249 2.00028078 4.99999994] [6.123234e-17 0.000000e+00 1.000000e+00]\n",
      "| \u001b[33mtrain\u001b[0m | E: 15 | S: 765 | R: 1.4338 | D: 25.2 s | BR: -0.0011 | ALOSS: -1.6946 | CLOSS: 0.1620 | TLOSS: 0.1285 | TVAL: 0.0868 | AENT: 0.4799\n",
      "0\n",
      "[0.97686249 2.00028078 2.99999994] [ 9.99980604e-01 -6.22825676e-03  2.04357705e-06] [0.97686249 2.00028078 4.99999994] [6.123234e-17 0.000000e+00 1.000000e+00]\n",
      "| \u001b[33mtrain\u001b[0m | E: 16 | S: 816 | R: 1.5526 | D: 25.6 s | BR: 0.0007 | ALOSS: -1.7902 | CLOSS: 0.1555 | TLOSS: 0.1262 | TVAL: 0.0856 | AENT: 0.4737\n",
      "0\n",
      "[0.97686249 2.00028078 2.99999994] [ 9.99980604e-01 -6.22825676e-03  2.04357705e-06] [0.97686249 2.00028078 4.99999994] [6.123234e-17 0.000000e+00 1.000000e+00]\n",
      "| \u001b[33mtrain\u001b[0m | E: 17 | S: 867 | R: 0.8941 | D: 25.6 s | BR: 0.0087 | ALOSS: -1.8825 | CLOSS: 0.1753 | TLOSS: 0.1229 | TVAL: 0.0844 | AENT: 0.4556\n",
      "0\n",
      "[0.97686249 2.00028078 2.99999994] [ 9.99980604e-01 -6.22825676e-03  2.04357705e-06] [0.97686249 2.00028078 4.99999994] [6.123234e-17 0.000000e+00 1.000000e+00]\n",
      "| \u001b[33mtrain\u001b[0m | E: 18 | S: 918 | R: 1.5862 | D: 25.4 s | BR: 0.0129 | ALOSS: -1.8412 | CLOSS: 0.1734 | TLOSS: 0.1195 | TVAL: 0.0833 | AENT: 0.4352\n",
      "0\n",
      "[0.97686249 2.00028078 2.99999994] [ 9.99980604e-01 -6.22825676e-03  2.04357705e-06] [0.97686249 2.00028078 4.99999994] [6.123234e-17 0.000000e+00 1.000000e+00]\n",
      "| \u001b[33mtrain\u001b[0m | E: 19 | S: 969 | R: 1.4696 | D: 25.2 s | BR: -0.0042 | ALOSS: -1.7039 | CLOSS: 0.1359 | TLOSS: 0.1203 | TVAL: 0.0821 | AENT: 0.4649\n",
      "0\n",
      "[0.97686249 2.00028078 2.99999994] [ 9.99980604e-01 -6.22825676e-03  2.04357705e-06] [0.97686249 2.00028078 4.99999994] [6.123234e-17 0.000000e+00 1.000000e+00]\n",
      "| \u001b[33mtrain\u001b[0m | E: 20 | S: 1020 | R: 1.3824 | D: 25.2 s | BR: 0.0009 | ALOSS: -1.6485 | CLOSS: 0.1391 | TLOSS: 0.1207 | TVAL: 0.0810 | AENT: 0.4896\n",
      "Evaluating episode 0 ....\n",
      "0\n",
      "[0.97686249 2.00028078 2.99999994] [ 9.99980604e-01 -6.22825676e-03  2.04357705e-06] [0.97686249 2.00028078 4.99999994] [6.123234e-17 0.000000e+00 1.000000e+00]\n",
      "| \u001b[32meval\u001b[0m  | E: 20 | S: 1020 | R: 0.3970\n",
      "0\n",
      "[0.97686249 2.00028078 2.99999994] [ 9.99980604e-01 -6.22825676e-03  2.04357705e-06] [0.97686249 2.00028078 4.99999994] [6.123234e-17 0.000000e+00 1.000000e+00]\n",
      "| \u001b[33mtrain\u001b[0m | E: 21 | S: 1071 | R: 0.9020 | D: 50.3 s | BR: 0.0008 | ALOSS: -1.6437 | CLOSS: 0.1401 | TLOSS: 0.1162 | TVAL: 0.0799 | AENT: 0.4548\n",
      "0\n",
      "[0.97686249 2.00028078 2.99999994] [ 9.99980604e-01 -6.22825676e-03  2.04357705e-06] [0.97686249 2.00028078 4.99999994] [6.123234e-17 0.000000e+00 1.000000e+00]\n",
      "| \u001b[33mtrain\u001b[0m | E: 22 | S: 1122 | R: 1.6744 | D: 25.6 s | BR: 0.0186 | ALOSS: -1.7644 | CLOSS: 0.1418 | TLOSS: 0.1163 | TVAL: 0.0788 | AENT: 0.4759\n",
      "0\n",
      "[0.97686249 2.00028078 2.99999994] [ 9.99980604e-01 -6.22825676e-03  2.04357705e-06] [0.97686249 2.00028078 4.99999994] [6.123234e-17 0.000000e+00 1.000000e+00]\n",
      "| \u001b[33mtrain\u001b[0m | E: 23 | S: 1173 | R: 2.2844 | D: 25.6 s | BR: 0.0107 | ALOSS: -1.7981 | CLOSS: 0.1335 | TLOSS: 0.1152 | TVAL: 0.0777 | AENT: 0.4819\n",
      "0\n",
      "[0.97686249 2.00028078 2.99999994] [ 9.99980604e-01 -6.22825676e-03  2.04357705e-06] [0.97686249 2.00028078 4.99999994] [6.123234e-17 0.000000e+00 1.000000e+00]\n",
      "| \u001b[33mtrain\u001b[0m | E: 24 | S: 1224 | R: 1.9275 | D: 25.4 s | BR: 0.0071 | ALOSS: -1.8470 | CLOSS: 0.1216 | TLOSS: 0.1151 | TVAL: 0.0767 | AENT: 0.5010\n",
      "0\n",
      "[0.97686249 2.00028078 2.99999994] [ 9.99980604e-01 -6.22825676e-03  2.04357705e-06] [0.97686249 2.00028078 4.99999994] [6.123234e-17 0.000000e+00 1.000000e+00]\n",
      "| \u001b[33mtrain\u001b[0m | E: 25 | S: 1275 | R: 1.3065 | D: 25.4 s | BR: 0.0105 | ALOSS: -1.7271 | CLOSS: 0.1215 | TLOSS: 0.1146 | TVAL: 0.0756 | AENT: 0.5150\n",
      "0\n",
      "[0.97686249 2.00028078 2.99999994] [ 9.99980604e-01 -6.22825676e-03  2.04357705e-06] [0.97686249 2.00028078 4.99999994] [6.123234e-17 0.000000e+00 1.000000e+00]\n",
      "| \u001b[33mtrain\u001b[0m | E: 26 | S: 1326 | R: 0.3465 | D: 25.6 s | BR: 0.0086 | ALOSS: -1.6264 | CLOSS: 0.1113 | TLOSS: 0.1138 | TVAL: 0.0746 | AENT: 0.5258\n",
      "0\n",
      "[0.97686249 2.00028078 2.99999994] [ 9.99980604e-01 -6.22825676e-03  2.04357705e-06] [0.97686249 2.00028078 4.99999994] [6.123234e-17 0.000000e+00 1.000000e+00]\n",
      "| \u001b[33mtrain\u001b[0m | E: 27 | S: 1377 | R: 0.4381 | D: 27.2 s | BR: 0.0128 | ALOSS: -1.6081 | CLOSS: 0.0920 | TLOSS: 0.1117 | TVAL: 0.0736 | AENT: 0.5181\n",
      "0\n",
      "[0.97686249 2.00028078 2.99999994] [ 9.99980604e-01 -6.22825676e-03  2.04357705e-06] [0.97686249 2.00028078 4.99999994] [6.123234e-17 0.000000e+00 1.000000e+00]\n",
      "| \u001b[33mtrain\u001b[0m | E: 28 | S: 1428 | R: 2.2164 | D: 26.6 s | BR: 0.0054 | ALOSS: -1.6282 | CLOSS: 0.1045 | TLOSS: 0.1101 | TVAL: 0.0726 | AENT: 0.5175\n"
     ]
    },
    {
     "name": "stdout",
     "output_type": "stream",
     "text": [
      "0\n",
      "[0.97686249 2.00028078 2.99999994] [ 9.99980604e-01 -6.22825676e-03  2.04357705e-06] [0.97686249 2.00028078 4.99999994] [6.123234e-17 0.000000e+00 1.000000e+00]\n"
     ]
    },
    {
     "ename": "KeyboardInterrupt",
     "evalue": "",
     "output_type": "error",
     "traceback": [
      "\u001b[0;31m---------------------------------------------------------------------------\u001b[0m",
      "\u001b[0;31mKeyboardInterrupt\u001b[0m                         Traceback (most recent call last)",
      "\u001b[0;32m<ipython-input-21-0eede850bcb4>\u001b[0m in \u001b[0;36m<module>\u001b[0;34m\u001b[0m\n\u001b[0;32m----> 1\u001b[0;31m \u001b[0mws\u001b[0m\u001b[0;34m.\u001b[0m\u001b[0mrun\u001b[0m\u001b[0;34m(\u001b[0m\u001b[0;34m)\u001b[0m\u001b[0;34m\u001b[0m\u001b[0;34m\u001b[0m\u001b[0m\n\u001b[0m",
      "\u001b[0;32m<ipython-input-18-0a64aa4e7f00>\u001b[0m in \u001b[0;36mrun\u001b[0;34m(self)\u001b[0m\n\u001b[1;32m    105\u001b[0m                 \u001b[0mself\u001b[0m\u001b[0;34m.\u001b[0m\u001b[0magent\u001b[0m\u001b[0;34m.\u001b[0m\u001b[0mupdate\u001b[0m\u001b[0;34m(\u001b[0m\u001b[0mself\u001b[0m\u001b[0;34m.\u001b[0m\u001b[0mlogger\u001b[0m\u001b[0;34m,\u001b[0m \u001b[0mself\u001b[0m\u001b[0;34m.\u001b[0m\u001b[0mstep\u001b[0m\u001b[0;34m)\u001b[0m\u001b[0;34m\u001b[0m\u001b[0;34m\u001b[0m\u001b[0m\n\u001b[1;32m    106\u001b[0m \u001b[0;34m\u001b[0m\u001b[0m\n\u001b[0;32m--> 107\u001b[0;31m             \u001b[0mnext_obs\u001b[0m\u001b[0;34m,\u001b[0m \u001b[0mreward\u001b[0m\u001b[0;34m,\u001b[0m \u001b[0mdone\u001b[0m\u001b[0;34m,\u001b[0m \u001b[0m_\u001b[0m \u001b[0;34m=\u001b[0m \u001b[0mself\u001b[0m\u001b[0;34m.\u001b[0m\u001b[0menv\u001b[0m\u001b[0;34m.\u001b[0m\u001b[0mstep\u001b[0m\u001b[0;34m(\u001b[0m\u001b[0maction\u001b[0m\u001b[0;34m)\u001b[0m\u001b[0;34m\u001b[0m\u001b[0;34m\u001b[0m\u001b[0m\n\u001b[0m\u001b[1;32m    108\u001b[0m \u001b[0;34m\u001b[0m\u001b[0m\n\u001b[1;32m    109\u001b[0m             \u001b[0;31m# allow infinite bootstrap\u001b[0m\u001b[0;34m\u001b[0m\u001b[0;34m\u001b[0m\u001b[0;34m\u001b[0m\u001b[0m\n",
      "\u001b[0;32m~/codes/pytorch_fish/scripts/gym-fish/gym_fish/envs/fish_env.py\u001b[0m in \u001b[0;36mstep\u001b[0;34m(self, action, save_fluid, save_objects)\u001b[0m\n\u001b[1;32m    227\u001b[0m         \u001b[0;32mwhile\u001b[0m \u001b[0mt\u001b[0m\u001b[0;34m<\u001b[0m \u001b[0mdt\u001b[0m\u001b[0;34m*\u001b[0m\u001b[0mself\u001b[0m\u001b[0;34m.\u001b[0m\u001b[0mframe_skip\u001b[0m\u001b[0;34m:\u001b[0m\u001b[0;34m\u001b[0m\u001b[0;34m\u001b[0m\u001b[0m\n\u001b[1;32m    228\u001b[0m             \u001b[0mctrl\u001b[0m \u001b[0;34m=\u001b[0m \u001b[0mact\u001b[0m\u001b[0;34m\u001b[0m\u001b[0;34m\u001b[0m\u001b[0m\n\u001b[0;32m--> 229\u001b[0;31m             \u001b[0mobs\u001b[0m\u001b[0;34m,\u001b[0m\u001b[0m_\u001b[0m\u001b[0;34m,\u001b[0m\u001b[0mdone\u001b[0m\u001b[0;34m,\u001b[0m\u001b[0m_\u001b[0m \u001b[0;34m=\u001b[0m\u001b[0mself\u001b[0m\u001b[0;34m.\u001b[0m\u001b[0mstepOnce\u001b[0m\u001b[0;34m(\u001b[0m\u001b[0mctrl\u001b[0m\u001b[0;34m,\u001b[0m\u001b[0msave_fluid\u001b[0m\u001b[0;34m,\u001b[0m\u001b[0msave_objects\u001b[0m\u001b[0;34m)\u001b[0m\u001b[0;34m\u001b[0m\u001b[0;34m\u001b[0m\u001b[0m\n\u001b[0m\u001b[1;32m    230\u001b[0m             \u001b[0;32mif\u001b[0m \u001b[0mdone\u001b[0m\u001b[0;34m:\u001b[0m\u001b[0;34m\u001b[0m\u001b[0;34m\u001b[0m\u001b[0m\n\u001b[1;32m    231\u001b[0m                 \u001b[0;32mbreak\u001b[0m\u001b[0;34m\u001b[0m\u001b[0;34m\u001b[0m\u001b[0m\n",
      "\u001b[0;32m~/codes/pytorch_fish/scripts/gym-fish/gym_fish/envs/fish_env.py\u001b[0m in \u001b[0;36mstepOnce\u001b[0;34m(self, raw_action, save_fluid, save_objects)\u001b[0m\n\u001b[1;32m    187\u001b[0m \u001b[0;31m#         dynamics.setAngleCommands(raw_action,dt)\u001b[0m\u001b[0;34m\u001b[0m\u001b[0;34m\u001b[0m\u001b[0;34m\u001b[0m\u001b[0m\n\u001b[1;32m    188\u001b[0m         \u001b[0mdynamics\u001b[0m\u001b[0;34m.\u001b[0m\u001b[0msetCommands\u001b[0m\u001b[0;34m(\u001b[0m\u001b[0mraw_action\u001b[0m\u001b[0;34m)\u001b[0m\u001b[0;34m\u001b[0m\u001b[0;34m\u001b[0m\u001b[0m\n\u001b[0;32m--> 189\u001b[0;31m         \u001b[0mself\u001b[0m\u001b[0;34m.\u001b[0m\u001b[0msimulator\u001b[0m\u001b[0;34m.\u001b[0m\u001b[0mstep\u001b[0m\u001b[0;34m(\u001b[0m\u001b[0mself\u001b[0m\u001b[0;34m.\u001b[0m\u001b[0mcouple_mode\u001b[0m\u001b[0;34m)\u001b[0m\u001b[0;34m\u001b[0m\u001b[0;34m\u001b[0m\u001b[0m\n\u001b[0m\u001b[1;32m    190\u001b[0m         \u001b[0mobs\u001b[0m \u001b[0;34m=\u001b[0m \u001b[0mself\u001b[0m\u001b[0;34m.\u001b[0m\u001b[0m_get_obs\u001b[0m\u001b[0;34m(\u001b[0m\u001b[0;34m)\u001b[0m\u001b[0;34m\u001b[0m\u001b[0;34m\u001b[0m\u001b[0m\n\u001b[1;32m    191\u001b[0m         \u001b[0mself\u001b[0m\u001b[0;34m.\u001b[0m\u001b[0mtrajectory_points\u001b[0m\u001b[0;34m.\u001b[0m\u001b[0mappend\u001b[0m\u001b[0;34m(\u001b[0m\u001b[0mself\u001b[0m\u001b[0;34m.\u001b[0m\u001b[0mbody_xyz\u001b[0m\u001b[0;34m)\u001b[0m\u001b[0;34m\u001b[0m\u001b[0;34m\u001b[0m\u001b[0m\n",
      "\u001b[0;31mKeyboardInterrupt\u001b[0m: "
     ]
    },
    {
     "data": {
      "image/png": "[encoded data removed]",
      "text/plain": [
       "<Figure size 432x288 with 1 Axes>"
      ]
     },
     "metadata": {
      "needs_background": "light"
     },
     "output_type": "display_data"
    },
    {
     "data": {
      "image/png": "[encoded data removed]",
      "text/plain": [
       "<Figure size 432x288 with 1 Axes>"
      ]
     },
     "metadata": {
      "needs_background": "light"
     },
     "output_type": "display_data"
    }
   ],
   "source": [
    "\n",
    "ws.run()"
   ]
  },
  {
   "cell_type": "code",
   "execution_count": 22,
   "metadata": {},
   "outputs": [],
   "source": [
    "ws.agent.load('/home/liuwj/codes/pytorch_fish/output_data/2021-01-10/90 degree servo control EMPIRICAL mass10 2_30 WP 1.0 wr 0.0 wa0.0_2021-01-10 11:53/networks/SAC/models/steps_1020')"
   ]
  },
  {
   "cell_type": "code",
   "execution_count": 24,
   "metadata": {},
   "outputs": [
    {
     "data": {
      "text/plain": [
       "1020"
      ]
     },
     "execution_count": 24,
     "metadata": {},
     "output_type": "execute_result"
    }
   ],
   "source": [
    "len(ws.agent.replay_buffer)"
   ]
  },
  {
   "cell_type": "code",
   "execution_count": 25,
   "metadata": {},
   "outputs": [
    {
     "data": {
      "text/plain": [
       "array([[-7.71250250e-03, -2.94859547e-07,  0.00000000e+00, ...,\n",
       "         0.00000000e+00,  1.00000000e+00,  2.04357707e-06],\n",
       "       [-1.12453913e-02, -1.18681386e-01, -1.89425573e-02, ...,\n",
       "        -1.43042281e-02,  9.12910402e-01, -4.08160001e-01],\n",
       "       [-1.10882884e-02, -1.20482907e-01, -1.89425573e-02, ...,\n",
       "        -1.43042281e-02,  9.11986589e-01, -4.10220027e-01],\n",
       "       ...,\n",
       "       [-2.38444284e-02, -2.27430966e-02,  1.22401174e-02, ...,\n",
       "        -9.61361174e-03, -2.64923684e-02,  2.87850760e-02],\n",
       "       [-2.19199304e-02,  2.73688659e-02, -7.04725645e-03, ...,\n",
       "        -2.25080941e-02, -2.66585667e-02, -7.45711382e-03],\n",
       "       [ 2.26055179e-02, -2.74944957e-02, -2.51811929e-02, ...,\n",
       "        -2.16442160e-02,  2.13681385e-02,  9.85135976e-03]], dtype=float32)"
      ]
     },
     "execution_count": 25,
     "metadata": {},
     "output_type": "execute_result"
    }
   ],
   "source": [
    "ws.agent.replay_buffer.obses"
   ]
  },
  {
   "cell_type": "code",
   "execution_count": null,
   "metadata": {},
   "outputs": [],
   "source": []
  }
 ],
 "metadata": {
  "kernelspec": {
   "display_name": "Python 3",
   "language": "python",
   "name": "python3"
  },
  "language_info": {
   "codemirror_mode": {
    "name": "ipython",
    "version": 3
   },
   "file_extension": ".py",
   "mimetype": "text/x-python",
   "name": "python",
   "nbconvert_exporter": "python",
   "pygments_lexer": "ipython3",
   "version": "3.7.6"
  }
 },
 "nbformat": 4,
 "nbformat_minor": 4
}
