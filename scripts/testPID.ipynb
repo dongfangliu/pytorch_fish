{
 "cells": [
  {
   "cell_type": "code",
   "execution_count": null,
   "metadata": {},
   "outputs": [],
   "source": [
    "import matplotlib.pyplot as plt      \n",
    "from mpl_toolkits import mplot3d\n",
    "import os\n",
    "import sys\n",
    "import glob\n",
    "import time\n",
    "import shutil\n",
    "import gym\n",
    "from gym import error, spaces, utils\n",
    "import numpy as np\n",
    "import math"
   ]
  },
  {
   "cell_type": "code",
   "execution_count": null,
   "metadata": {},
   "outputs": [],
   "source": [
    "import gym_fish"
   ]
  },
  {
   "cell_type": "code",
   "execution_count": null,
   "metadata": {},
   "outputs": [],
   "source": [
    "from gym_fish.envs.lib import pyflare as fl"
   ]
  },
  {
   "cell_type": "code",
   "execution_count": null,
   "metadata": {},
   "outputs": [],
   "source": [
    "gpuId = 3\n",
    "\n",
    "control_dt=0.2\n",
    "theta = np.array([0,0])\n",
    "radius=1.0\n",
    "max_time = 10\n",
    "action_max= 10\n",
    "done_dist = 0.15\n",
    "dist_distri_param =np.array([0,0.0])\n",
    "wc = 0.0*np.array([1.0,0.5])\n",
    "wp = 1.0*np.array([0.0,1.0])\n",
    "wa = 0.5\n",
    "\n",
    "couple_mode =  fl.COUPLE_MODE.TWO_WAY"
   ]
  },
  {
   "cell_type": "code",
   "execution_count": null,
   "metadata": {},
   "outputs": [],
   "source": [
    "\n",
    "env=gym.make('fish-basic-v0',\n",
    "             env_json='../assets/env_file/env_test.json',\n",
    "                  gpuId=gpuId,\n",
    "                        couple_mode=couple_mode,\n",
    "                         control_dt=control_dt,\n",
    "                        radius=radius,\n",
    "                       theta=theta,action_max=action_max,\n",
    "                        max_time=max_time,\n",
    "                        wp=wp,wc=wc,wa=wa,\n",
    "                       done_dist=done_dist,dist_distri_param=dist_distri_param\n",
    "                   )"
   ]
  },
  {
   "cell_type": "code",
   "execution_count": null,
   "metadata": {},
   "outputs": [],
   "source": [
    "env.simulator.save(True,True)"
   ]
  },
  {
   "cell_type": "code",
   "execution_count": null,
   "metadata": {},
   "outputs": [],
   "source": [
    "# env.simulator.save(True,True)"
   ]
  },
  {
   "cell_type": "code",
   "execution_count": null,
   "metadata": {},
   "outputs": [],
   "source": [
    "%matplotlib notebook"
   ]
  },
  {
   "cell_type": "code",
   "execution_count": null,
   "metadata": {},
   "outputs": [],
   "source": [
    "path_points =np.array( [\n",
    "    env.init_pos*(1.0-t)+env.goal_pos*t for t in np.arange(0.0,1.0,1.0/100)\n",
    "\n",
    "])\n",
    "trajectory_points = env.trajectory_points\n",
    "ax=plt.figure().add_subplot(111, projection = '3d')\n",
    "X = path_points[:,0]\n",
    "Y = path_points[:,1]\n",
    "Z = path_points[:,2]\n",
    "ax.set_xlabel('x')\n",
    "ax.set_ylabel('z')\n",
    "ax.set_zlabel('y')\n",
    "max_range = np.array([X.max()-X.min(), Y.max()-Y.min(), Z.max()-Z.min()]).max() / 2.0\n",
    "mid_x = (X.max()+X.min()) * 0.5\n",
    "mid_y = (Y.max()+Y.min()) * 0.5\n",
    "mid_z = (Z.max()+Z.min()) * 0.5\n",
    "ax.set_xlim(mid_x - max_range, mid_x + max_range)\n",
    "ax.set_ylim(mid_z - max_range, mid_z + max_range)\n",
    "ax.set_zlim(mid_y - max_range, mid_y + max_range)\n",
    "ax.scatter3D(xs=X, zs=Y, ys=Z,c='g')\n",
    "if trajectory_points!=None:\n",
    "    ax.scatter3D(xs=[x[0] for x in trajectory_points],\n",
    "        zs=[x[1] for x in trajectory_points],\n",
    "        ys=[x[2] for x in trajectory_points],\n",
    "        c=[[0,0,i/len(trajectory_points)] for i in range(len(trajectory_points))])\n",
    "ax.view_init(elev=45,azim=45)#改变绘制图像的视角,即相机的位置,azim沿着z轴旋转，elev沿着y轴\n",
    "ax.set_xlabel('x')\n",
    "ax.set_ylabel('z')\n",
    "ax.set_zlabel('y')\n",
    "# ax.scatter(env.path_start[0],env.path_start[2],env.path_start[1])\n",
    "# ax.scatter(env.goal_pos[0],env.goal_pos[2],env.goal_pos[1])\n",
    "# ax.scatter(env.body_xyz[0],env.body_xyz[2],env.body_xyz[1])\n",
    "# ax.scatter(env.proj_pt_world[0],env.proj_pt_world[2],env.proj_pt_world[1])\n",
    "plt.show()"
   ]
  },
  {
   "cell_type": "code",
   "execution_count": null,
   "metadata": {},
   "outputs": [],
   "source": [
    "def plot_infos(infos,title=None,reward_fig_name=None):\n",
    "    dd = {k:[] for k in infos[0].keys()}\n",
    "    for info in infos:\n",
    "        for k in info.keys():\n",
    "            dd[k].append(info[k])\n",
    "    plt.figure()\n",
    "    for k in dd.keys():\n",
    "        if k=='action_penality':\n",
    "            plt.plot(np.arange(0,len(dd[k])),[kkk  for kkk in dd[k]],label=k)\n",
    "        else:\n",
    "            plt.plot(np.arange(0,len(dd[k])),dd[k],label=k)\n",
    "    plt.legend()\n",
    "    if(title):\n",
    "        plt.title(title)\n",
    "    if(reward_fig_name):\n",
    "        plt.savefig(reward_fig_name)\n",
    "    plt.show()"
   ]
  },
  {
   "cell_type": "code",
   "execution_count": null,
   "metadata": {},
   "outputs": [],
   "source": [
    "from matplotlib.patches import FancyArrowPatch\n",
    "import matplotlib.pyplot as plt\n",
    "from mpl_toolkits.mplot3d.proj3d import proj_transform\n",
    "from mpl_toolkits.mplot3d.axes3d import Axes3D\n",
    "class Arrow3D(FancyArrowPatch):\n",
    "    def __init__(self, x, y, z, dx, dy, dz, *args, **kwargs):\n",
    "        super().__init__((0,0), (0,0), *args, **kwargs)\n",
    "        self._xyz = (x,y,z)\n",
    "        self._dxdydz = (dx,dy,dz)\n",
    "\n",
    "    def draw(self, renderer):\n",
    "        x1,y1,z1 = self._xyz\n",
    "        dx,dy,dz = self._dxdydz\n",
    "        x2,y2,z2 = (x1+dx,y1+dy,z1+dz)\n",
    "\n",
    "        xs, ys, zs = proj_transform((x1,x2),(y1,y2),(z1,z2), renderer.M)\n",
    "        self.set_positions((xs[0],ys[0]),(xs[1],ys[1]))\n",
    "        super().draw(renderer)\n",
    "def _arrow3D(ax, x, y, z, dx, dy, dz, *args, **kwargs):\n",
    "    '''Add an 3d arrow to an `Axes3D` instance.'''\n",
    "    arrow = Arrow3D(x, y, z, dx, dy, dz, *args, **kwargs)\n",
    "    ax.add_artist(arrow)\n",
    "setattr(Axes3D,'arrow3D',_arrow3D)"
   ]
  },
  {
   "cell_type": "code",
   "execution_count": null,
   "metadata": {
    "scrolled": true
   },
   "outputs": [],
   "source": [
    "def plot_env(env,ax):\n",
    "    ax.clear()\n",
    "    ax.set_xlim(mid_x - max_range, mid_x + max_range)\n",
    "    ax.set_ylim(mid_z - max_range, mid_z + max_range)\n",
    "    ax.set_zlim(mid_y - max_range, mid_y + max_range)\n",
    "    ax.set_xlabel('x')\n",
    "    ax.set_ylabel('z')\n",
    "    ax.set_zlabel('y')\n",
    "    ax.view_init(elev=45,azim=45)#改变绘制图像的视角,即相机的位置,azim沿着z轴旋转，elev沿着y轴\n",
    "\n",
    "    dp_local = np.dot(env.world_to_local,np.transpose(env.goal_pos-env.body_xyz))\n",
    "    dxyz = dp_local\n",
    "    fwd = env.simulator.rigid_solver.get_agent(0).fwd_axis\n",
    "    right = env.simulator.rigid_solver.get_agent(0).right_axis\n",
    "    up = env.simulator.rigid_solver.get_agent(0).up_axis\n",
    "    ax.arrow3D(env.body_xyz[0],env.body_xyz[2],env.body_xyz[1],fwd[0],fwd[2],fwd[1],arrowstyle=\"-|>\",ec ='green',mutation_scale=20,\n",
    "           fc='red')\n",
    "    ax.arrow3D(env.body_xyz[0],env.body_xyz[2],env.body_xyz[1],right[0],right[2],right[1],arrowstyle=\"-|>\",ec ='green',mutation_scale=20,\n",
    "           fc='green')\n",
    "    ax.arrow3D(env.body_xyz[0],env.body_xyz[2],env.body_xyz[1],up[0],up[2],up[1],arrowstyle=\"-|>\",ec ='green',mutation_scale=20,\n",
    "           fc='blue')\n",
    "    ax.arrow3D(env.body_xyz[0],env.body_xyz[2],env.body_xyz[1],dxyz[0],dxyz[2],dxyz[1],arrowstyle=\"-|>\",)\n",
    "    if env.trajectory_points!=None:\n",
    "        ax.scatter3D(xs=[x[0] for x in env.trajectory_points],\n",
    "            zs=[x[1] for x in env.trajectory_points],\n",
    "            ys=[x[2] for x in env.trajectory_points],\n",
    "            c=[[0,0,i/len(env.trajectory_points)] for i in range(len(env.trajectory_points))])\n",
    "    fig.canvas.draw()\n",
    "#     plt.show()\n",
    "#     plt.pause(0.0001)"
   ]
  },
  {
   "cell_type": "code",
   "execution_count": null,
   "metadata": {},
   "outputs": [],
   "source": [
    "env.simulator.time"
   ]
  },
  {
   "cell_type": "code",
   "execution_count": null,
   "metadata": {},
   "outputs": [],
   "source": [
    "action_dim = env.action_space.low.shape[0]"
   ]
  },
  {
   "cell_type": "code",
   "execution_count": null,
   "metadata": {},
   "outputs": [],
   "source": [
    "action_dim"
   ]
  },
  {
   "cell_type": "code",
   "execution_count": null,
   "metadata": {
    "scrolled": true
   },
   "outputs": [],
   "source": [
    "!./clean_visdata.sh\n",
    "import random\n",
    "for i in range(1):\n",
    "    env.reset()\n",
    "    # env.rigid_data.skeletons[0].dynamics.getJoint(\"head\").setVelocity(0,0)\n",
    "    # env.rigid_data.skeletons[0].dynamics.getJoint(\"head\").setVelocity(1,0.)\n",
    "    # joint_list =['spine','spine01','spine02','spine03']\n",
    "    # for jnt_name in joint_list:\n",
    "    #     env.rigid_data.skeletons[0].dynamics.getJoint(jnt_name).setPosition(0,0)\n",
    "    #     env.rigid_data.skeletons[0].dynamics.getJoint(jnt_name).setVelocity(0,0)\n",
    "    # env.rigid_data.skeletons[0].dynamics.update()\n",
    "    # env.set_task(0,0.01)\n",
    "    start_time = time.time()\n",
    "    env.training=True\n",
    "    done = False\n",
    "    infos = []\n",
    "\n",
    "    vels = []\n",
    "    linear_accels = []\n",
    "    angular_accels = []\n",
    "    joint_accels=[]\n",
    "    actions = []\n",
    "    rewards = []\n",
    "    fig = plt.figure()\n",
    "    ax = fig.add_subplot(111, projection='3d')\n",
    "    plt.ion()\n",
    "    # act=0.5\n",
    "    while not done :\n",
    "#         act = (getPIDResponse()+(0)/env.rigid_data.rigidWorld.getTimestep())/13\n",
    "        act = math.sin(6.28*2*env.simulator.time)\n",
    "#         act = act+0.5\n",
    "#         act = 0\n",
    "    \n",
    "#         act = act*(env.rigid_data.rigidWorld.time<1)\n",
    "    #     if act<0:\n",
    "    #         act=act*4;\n",
    "    #     act = 1\n",
    "    #     act = ((3.1415/6)*math.sin(6.28*2*env.rigid_data.rigidWorld.time)+0.52)/env.rigid_data.rigidWorld.getTimestep()/13\n",
    "    #     act = act*(env.rigid_data.rigidWorld.time<1)\n",
    "        aaa =  np.ones(int(action_dim))*act\n",
    "        aaa[-1]=0\n",
    "#         aaa = np.concatenate((np.ones(int(env.action_dim/2))*act,-np.ones(int(env.action_dim/2))*act))\n",
    "        obs,r,done,info=env.step(aaa)\n",
    "        rewards.append(r)\n",
    "    #     vels.append(env.rigid_data.skeletons[0].dynamics.getBaseLink().getLinearVelocity())\n",
    "    #     linear_accels.append(env.rigid_data.skeletons[0].dynamics.getBaseLink().getLinearAcceleration())\n",
    "    #     angular_accels.append(env.rigid_data.skeletons[0].dynamics.getBaseLink().getAngularAcceleration())\n",
    "    #     joint_accels.append(env.rigid_data.skeletons[0].dynamics.getJoint(\"head\").getAccelerations())\n",
    "        plot_env(env,ax)\n",
    "        infos.append(info)\n",
    "#     plt.close(fig)\n",
    "#     env.plot3d()\n",
    "    # plot_infos(infos)\n",
    "    end_time = time.time()\n",
    "    print(end_time-start_time,env.simulator.time)"
   ]
  },
  {
   "cell_type": "code",
   "execution_count": null,
   "metadata": {},
   "outputs": [],
   "source": [
    "env.simulator.save(True,True)"
   ]
  },
  {
   "cell_type": "code",
   "execution_count": null,
   "metadata": {},
   "outputs": [],
   "source": [
    "arr = env.render(mode='rgb_array')\n",
    "from PIL import Image\n",
    "Image.fromarray(arr)"
   ]
  },
  {
   "cell_type": "code",
   "execution_count": null,
   "metadata": {},
   "outputs": [],
   "source": [
    "env.gl_renderer.meshes[0].update_mesh_data()"
   ]
  },
  {
   "cell_type": "code",
   "execution_count": null,
   "metadata": {},
   "outputs": [],
   "source": [
    "pos= np.array(env.gl_renderer.meshes[0]._agent._dynamics.getRenderData().pos)"
   ]
  },
  {
   "cell_type": "code",
   "execution_count": null,
   "metadata": {},
   "outputs": [],
   "source": [
    "len(env.gl_renderer.meshes[0]._agent._dynamics.getRenderData().indices)"
   ]
  },
  {
   "cell_type": "code",
   "execution_count": null,
   "metadata": {},
   "outputs": [],
   "source": [
    "env.simulator.rigid_solver.get_agent(0).com"
   ]
  },
  {
   "cell_type": "code",
   "execution_count": null,
   "metadata": {},
   "outputs": [],
   "source": [
    "fig = plt.figure()\n",
    "ax = fig.add_subplot(projection='3d')\n",
    "ax.scatter(pos[:,0],pos[:,1],pos[:,2])\n",
    "plt.show()"
   ]
  },
  {
   "cell_type": "code",
   "execution_count": null,
   "metadata": {},
   "outputs": [],
   "source": []
  }
 ],
 "metadata": {
  "kernelspec": {
   "display_name": "Python 3",
   "language": "python",
   "name": "python3"
  },
  "language_info": {
   "codemirror_mode": {
    "name": "ipython",
    "version": 3
   },
   "file_extension": ".py",
   "mimetype": "text/x-python",
   "name": "python",
   "nbconvert_exporter": "python",
   "pygments_lexer": "ipython3",
   "version": "3.6.9"
  }
 },
 "nbformat": 4,
 "nbformat_minor": 4
}
