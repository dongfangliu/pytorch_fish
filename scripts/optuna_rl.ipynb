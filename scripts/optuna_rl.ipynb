{
 "cells": [
  {
   "cell_type": "code",
   "execution_count": 1,
   "metadata": {
    "scrolled": true
   },
   "outputs": [],
   "source": [
    "import warnings\n",
    "warnings.filterwarnings(\"ignore\")\n",
    "import tensorflow as tf                        \n",
    "import matplotlib.pyplot as plt      \n",
    "from mpl_toolkits import mplot3d\n",
    "import os\n",
    "import sys\n",
    "import glob\n",
    "import time\n",
    "import shutil\n",
    "from tensorflow.keras import layers\n",
    "import gym\n",
    "from gym import error, spaces, utils\n",
    "import numpy as np\n",
    "import math"
   ]
  },
  {
   "cell_type": "code",
   "execution_count": 2,
   "metadata": {},
   "outputs": [],
   "source": [
    "import gym_fish"
   ]
  },
  {
   "cell_type": "markdown",
   "metadata": {},
   "source": [
    "### Import Settings"
   ]
  },
  {
   "cell_type": "code",
   "execution_count": 3,
   "metadata": {
    "scrolled": true
   },
   "outputs": [],
   "source": [
    "cwd = '/home/liuwj/PycharmProjects/testPylib/rl_test/'\n",
    "data_folder =cwd+ 'py_data/'\n",
    "json_folder =data_folder+'jsons/'\n",
    "path_folder =json_folder+'paths/'\n",
    "scripts_folder = cwd+'scripts/'"
   ]
  },
  {
   "cell_type": "code",
   "execution_count": 4,
   "metadata": {
    "scrolled": true
   },
   "outputs": [
    {
     "name": "stdout",
     "output_type": "stream",
     "text": [
      "/home/liuwj/PycharmProjects/testPylib/rl_test/py_data/jsons/fluid_param_short.json\n",
      "/home/liuwj/PycharmProjects/testPylib/rl_test/py_data/jsons/rigids.json\n",
      "['/home/liuwj/PycharmProjects/testPylib/rl_test/py_data/jsons/paths/line.json']\n"
     ]
    }
   ],
   "source": [
    "fluid_json = json_folder+'fluid_param_short.json'\n",
    "rigid_json = json_folder+'rigids.json'\n",
    "path_jsons = sorted(glob.glob(path_folder+'line.json'))\n",
    "print(fluid_json)\n",
    "print(rigid_json)\n",
    "print(path_jsons)"
   ]
  },
  {
   "cell_type": "code",
   "execution_count": 5,
   "metadata": {},
   "outputs": [],
   "source": [
    "os.chdir('/home/liuwj/PycharmProjects/rl-baselines-zoo/')"
   ]
  },
  {
   "cell_type": "code",
   "execution_count": 7,
   "metadata": {
    "scrolled": true
   },
   "outputs": [
    {
     "name": "stdout",
     "output_type": "stream",
     "text": [
      "========== fish-v0 ==========\n",
      "Seed: 0\n",
      "OrderedDict([('n_envs', 10),\n",
      "             ('n_timesteps', 1000000.0),\n",
      "             ('policy', 'MlpPolicy')])\n",
      "Using 10 environments\n",
      "^C\n",
      "Traceback (most recent call last):\n",
      "  File \"train.py\", line 278, in <module>\n",
      "    env = create_env(n_envs)\n",
      "  File \"train.py\", line 261, in create_env\n",
      "    wrapper_class=env_wrapper, env_kwargs=env_kwargs) for i in range(n_envs)])\n",
      "  File \"/home/liuwj/.conda/envs/baselines/lib/python3.6/site-packages/stable_baselines/common/vec_env/dummy_vec_env.py\", line 21, in __init__\n",
      "    self.envs = [fn() for fn in env_fns]\n",
      "  File \"/home/liuwj/.conda/envs/baselines/lib/python3.6/site-packages/stable_baselines/common/vec_env/dummy_vec_env.py\", line 21, in <listcomp>\n",
      "    self.envs = [fn() for fn in env_fns]\n",
      "  File \"/home/liuwj/PycharmProjects/rl-baselines-zoo/utils/utils.py\", line 173, in _init\n",
      "    env = gym.make(env_id, **env_kwargs)\n",
      "  File \"/home/liuwj/.conda/envs/baselines/lib/python3.6/site-packages/gym/envs/registration.py\", line 142, in make\n",
      "    return registry.make(id, **kwargs)\n",
      "  File \"/home/liuwj/.conda/envs/baselines/lib/python3.6/site-packages/gym/envs/registration.py\", line 87, in make\n",
      "    env = spec.make(**kwargs)\n",
      "  File \"/home/liuwj/.conda/envs/baselines/lib/python3.6/site-packages/gym/envs/registration.py\", line 59, in make\n",
      "    env = cls(**_kwargs)\n",
      "  File \"/home/liuwj/PycharmProjects/testPylib/rl_test/scripts/gym-fish/gym_fish/envs/fish_env.py\", line 52, in __init__\n",
      "    self.simulator.commitInit()\n",
      "KeyboardInterrupt\n"
     ]
    }
   ],
   "source": [
    "!python train.py  --algo ppo2 --env fish-v0 --env-kwargs 'path_json':\"str('/home/liuwj/PycharmProjects/testPylib/rl_test/py_data/jsons/paths/line.json')\" 'fluid_json':\"str('/home/liuwj/PycharmProjects/testPylib/rl_test/py_data/jsons/fluid_param_short.json')\" 'rigid_json':\"str('/home/liuwj/PycharmProjects/testPylib/rl_test/py_data/jsons/rigids.json')\" -optimize --n-trials 100 -tb '/home/liuwj/PycharmProjects/optimize_tblog/' --log-folder '/home/liuwj/PycharmProjects/optimize_logs/' --n-jobs 1 --sampler random --pruner median --verbose 1 "
   ]
  },
  {
   "cell_type": "code",
   "execution_count": null,
   "metadata": {},
   "outputs": [],
   "source": []
  }
 ],
 "metadata": {
  "kernelspec": {
   "display_name": "Python 3",
   "language": "python",
   "name": "python3"
  },
  "language_info": {
   "codemirror_mode": {
    "name": "ipython",
    "version": 3
   },
   "file_extension": ".py",
   "mimetype": "text/x-python",
   "name": "python",
   "nbconvert_exporter": "python",
   "pygments_lexer": "ipython3",
   "version": "3.6.10"
  },
  "pycharm": {
   "stem_cell": {
    "cell_type": "raw",
    "metadata": {
     "collapsed": false
    },
    "source": []
   }
  }
 },
 "nbformat": 4,
 "nbformat_minor": 2
}
